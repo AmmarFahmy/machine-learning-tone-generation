{
 "cells": [
  {
   "cell_type": "markdown",
   "metadata": {},
   "source": [
    "# WGAN with DCGAN layers\n",
    "Code is mainly based upon the DCGAN implementation in the TensorFlow tutorials"
   ]
  },
  {
   "cell_type": "code",
   "execution_count": 1,
   "metadata": {
    "_uuid": "36af9c2edba178f04e989ca2a5935878caf7b0c4",
    "colab": {},
    "colab_type": "code",
    "id": "YfIk2es3hJEd"
   },
   "outputs": [
    {
     "name": "stderr",
     "output_type": "stream",
     "text": [
      "C:\\Users\\1002983\\AppData\\Local\\Continuum\\anaconda3\\lib\\site-packages\\h5py\\__init__.py:36: FutureWarning: Conversion of the second argument of issubdtype from `float` to `np.floating` is deprecated. In future, it will be treated as `np.float64 == np.dtype(float).type`.\n",
      "  from ._conv import register_converters as _register_converters\n"
     ]
    }
   ],
   "source": [
    "from __future__ import absolute_import, division, print_function\n",
    "\n",
    "# Import TensorFlow >= 1.10\n",
    "import tensorflow as tf\n",
    "\n",
    "import librosa\n",
    "import os\n",
    "import time\n",
    "import numpy as np\n",
    "import matplotlib.pyplot as plt\n",
    "import PIL\n",
    "import imageio\n",
    "import simpleaudio as sa\n",
    "import math\n",
    "from IPython import display"
   ]
  },
  {
   "cell_type": "code",
   "execution_count": 2,
   "metadata": {},
   "outputs": [],
   "source": [
    "sess = tf.Session(config=tf.ConfigProto(log_device_placement=False))"
   ]
  },
  {
   "cell_type": "code",
   "execution_count": 3,
   "metadata": {},
   "outputs": [],
   "source": [
    "def playAudio(audio, sr):\n",
    "    audio = audio.astype(np.int16)\n",
    "    play_obj = sa.play_buffer(audio, 1, 2, sr)\n",
    "    play_obj.wait_done()"
   ]
  },
  {
   "cell_type": "markdown",
   "metadata": {},
   "source": [
    "# Hyperparameters"
   ]
  },
  {
   "cell_type": "code",
   "execution_count": 4,
   "metadata": {
    "_uuid": "cbe0b356b41cbdeb6751dfde003e8590cb68586b",
    "colab": {},
    "colab_type": "code",
    "id": "NS2GWywBbAWo"
   },
   "outputs": [],
   "source": [
    "BUFFER_SIZE = 2048\n",
    "BATCH_SIZE = 256\n",
    "EPOCHS = 150\n",
    "noise_dim = 100\n",
    "num_examples_to_generate = 16\n",
    "clipping_parameter = 0.01\n",
    "# keeping the random vector constant for generation (prediction) so\n",
    "# it will be easier to see the improvement of the gan.\n",
    "random_vector_for_generation = tf.random_normal([num_examples_to_generate,\n",
    "                                                 noise_dim])"
   ]
  },
  {
   "cell_type": "markdown",
   "metadata": {},
   "source": [
    "# Make a dataset using TensorFlow's input pipeline"
   ]
  },
  {
   "cell_type": "code",
   "execution_count": 5,
   "metadata": {},
   "outputs": [],
   "source": [
    "# Reading spectrograms from TFRecord file, making dataset\n",
    "read_features = {\n",
    "    'note': tf.FixedLenFeature([], dtype=tf.int64),\n",
    "    'note_str': tf.FixedLenFeature([], dtype=tf.string),\n",
    "    'instrument': tf.FixedLenFeature([], dtype=tf.int64),\n",
    "    'instrument_str': tf.FixedLenFeature([], dtype=tf.string),\n",
    "    'pitch': tf.FixedLenFeature([], dtype=tf.int64),\n",
    "    'velocity': tf.FixedLenFeature([], dtype=tf.int64),\n",
    "    'sample_rate': tf.FixedLenFeature([], dtype=tf.int64),\n",
    "    'spectrogram': tf.FixedLenFeature([258300], dtype=float),\n",
    "    'instrument_family': tf.FixedLenFeature([], dtype=tf.int64),\n",
    "    'instrument_family_str': tf.FixedLenFeature([], dtype=tf.string),\n",
    "    'instrument_source': tf.FixedLenFeature([], dtype=tf.int64),\n",
    "    'instrument_source_str': tf.FixedLenFeature([], dtype=tf.string)\n",
    "}\n",
    "\n",
    "def _map(raw_data):\n",
    "    return tf.reshape(tf.parse_single_example(serialized=raw_data, features=read_features)['spectrogram'], [1025, 126, 2])\n",
    "\n",
    "specs = tf.data.TFRecordDataset(\"spectrograms.tfrecord\")\n",
    "specs = specs.apply(tf.data.experimental.shuffle_and_repeat(buffer_size=BUFFER_SIZE))\n",
    "specs = specs.map(map_func=_map, num_parallel_calls=-1)\n",
    "specs = specs.batch(batch_size=BATCH_SIZE)\n",
    "specs = specs.prefetch(buffer_size=BUFFER_SIZE)"
   ]
  },
  {
   "cell_type": "markdown",
   "metadata": {},
   "source": [
    "# Define models"
   ]
  },
  {
   "cell_type": "code",
   "execution_count": 7,
   "metadata": {
    "_uuid": "f50d15ea77525e355d3b1cca08240a3d920fec3a",
    "colab": {},
    "colab_type": "code",
    "id": "VGLbvBEmjK0a"
   },
   "outputs": [],
   "source": [
    "class Generator(tf.keras.Model):\n",
    "    def __init__(self):\n",
    "        super(Generator, self).__init__()\n",
    "        self.fc1 = tf.keras.layers.Dense(41*7*128, use_bias=False)\n",
    "        self.batchnorm1 = tf.keras.layers.BatchNormalization()\n",
    "        \n",
    "        self.conv1 = tf.keras.layers.Conv2DTranspose(128, (5, 5), strides=(1, 1), padding='same', use_bias=False)\n",
    "        self.batchnorm2 = tf.keras.layers.BatchNormalization()\n",
    "    \n",
    "        self.conv2 = tf.keras.layers.Conv2DTranspose(64, (5, 5), strides=(1, 2), padding='same', use_bias=False)\n",
    "        self.batchnorm3 = tf.keras.layers.BatchNormalization()\n",
    "    \n",
    "        self.conv3 = tf.keras.layers.Conv2DTranspose(32, (5, 5), strides=(5, 3), padding='same', use_bias=False)\n",
    "        self.batchnorm4 = tf.keras.layers.BatchNormalization()\n",
    "        \n",
    "        self.conv4 = tf.keras.layers.Conv2DTranspose(2, (5, 5), strides=(5, 3), padding='same', use_bias=False)\n",
    "        \n",
    "    def call(self, x, training=True):\n",
    "        x = self.fc1(x)\n",
    "        x = self.batchnorm1(x, training=training)\n",
    "        x = tf.nn.relu(x)\n",
    "        \n",
    "        x = tf.reshape(x, shape=(-1, 41, 7, 128))\n",
    "        \n",
    "        x = self.conv1(x)\n",
    "        x = self.batchnorm2(x, training=training)\n",
    "        x = tf.nn.relu(x)\n",
    "        \n",
    "        x = self.conv2(x)\n",
    "        x = self.batchnorm3(x, training=training)\n",
    "        x = tf.nn.relu(x)\n",
    "        \n",
    "        x = self.conv3(x)\n",
    "        x = self.batchnorm4(x, training=training)\n",
    "        x = tf.nn.relu(x)\n",
    "        \n",
    "        x = tf.nn.tanh(self.conv4(x))  \n",
    "        \n",
    "        return x"
   ]
  },
  {
   "cell_type": "code",
   "execution_count": 8,
   "metadata": {
    "_uuid": "92507e1426e5d24567fc5ff7e982a512826046f6",
    "colab": {},
    "colab_type": "code",
    "id": "bkOfJxk5j5Hi"
   },
   "outputs": [],
   "source": [
    "class Discriminator(tf.keras.Model):\n",
    "    def __init__(self):\n",
    "        super(Discriminator, self).__init__()\n",
    "        self.conv1 = tf.keras.layers.Conv2D(64, (5, 5), strides=(2, 2), padding='same')\n",
    "        self.conv2 = tf.keras.layers.Conv2D(128, (5, 5), strides=(2, 2), padding='same')\n",
    "        self.dropout = tf.keras.layers.Dropout(0.3)\n",
    "        self.flatten = tf.keras.layers.Flatten()\n",
    "        self.fc1 = tf.keras.layers.Dense(1)\n",
    "\n",
    "    def call(self, x, training=True):\n",
    "        x = tf.nn.leaky_relu(self.conv1(x))\n",
    "        x = self.dropout(x, training=training)\n",
    "        x = tf.nn.leaky_relu(self.conv2(x))\n",
    "        x = self.dropout(x, training=training)\n",
    "        x = self.flatten(x)\n",
    "        x = self.fc1(x, activation=None)\n",
    "        return x"
   ]
  },
  {
   "cell_type": "code",
   "execution_count": 9,
   "metadata": {
    "_uuid": "47ae70cfe471b80ac827a5772bcba07ec890450f",
    "colab": {},
    "colab_type": "code",
    "id": "wkMNfBWlT-PV"
   },
   "outputs": [],
   "source": [
    "def discriminator_loss(real_output, generated_output):\n",
    "    return real_output - generated_output"
   ]
  },
  {
   "cell_type": "code",
   "execution_count": 10,
   "metadata": {
    "_uuid": "df009f9802ad5e4ecca74e113a4501340029bba3",
    "colab": {},
    "colab_type": "code",
    "id": "90BIcCKcDMxz"
   },
   "outputs": [],
   "source": [
    "def generator_loss(generated_output):\n",
    "    return -1*generated_output"
   ]
  },
  {
   "cell_type": "markdown",
   "metadata": {},
   "source": [
    "# Defining training\n",
    "buildgraph() is largely based upon Zardinality's WGAN implementation"
   ]
  },
  {
   "cell_type": "code",
   "execution_count": 13,
   "metadata": {
    "_uuid": "16478afa6311040cd8132a2c1980652a656618e6",
    "colab": {},
    "colab_type": "code",
    "id": "RmdVsmvhPxyy"
   },
   "outputs": [],
   "source": [
    "def generate_and_save_images(model, epoch, test_input):\n",
    "    # make sure the training parameter is set to False because we\n",
    "    # don't want to train the batchnorm layer when doing inference.\n",
    "    predictions = sess.run(model(test_input, training=False))\n",
    "\n",
    "    fig = plt.figure(figsize=(4,4))\n",
    "\n",
    "    for i in range(predictions.shape[0]):\n",
    "        plt.subplot(4, 4, i+1)\n",
    "        plt.imshow(predictions[i, :, :, 0] * 127.5, cmap=\"magma\", origin=\"lower\", aspect=\"auto\")\n",
    "        plt.axis('off')\n",
    "\n",
    "    plt.savefig('image_at_epoch_{:04d}.png'.format(epoch))\n",
    "    plt.show()"
   ]
  },
  {
   "cell_type": "code",
   "execution_count": 14,
   "metadata": {},
   "outputs": [],
   "source": [
    "def buildgraph():\n",
    "    epochs = 0\n",
    "    with tf.variable_scope('gen'):\n",
    "        generator = Generator()\n",
    "    with tf.variable_scope('disc'):\n",
    "        discriminator = Discriminator()\n",
    "    noise = tf.random_normal([BATCH_SIZE, noise_dim])\n",
    "    def ranEpoch():\n",
    "        epochs += 1\n",
    "    def getEpoch():\n",
    "        return epochs\n",
    "    images = tf.placeholder(tf.float32, shape=[BATCH_SIZE, 1025, 126, 2], name='images')\n",
    "    \n",
    "    gen_opt = tf.contrib.layers.optimize_loss(\n",
    "        tf.reduce_mean(generator_loss(discriminator(generator(noise, training=True), training=True))), \n",
    "        None, learning_rate=1.2e-4, optimizer='Adam', variables=generator.trainable_variables)\n",
    "    with tf.control_dependencies([gen_opt]):\n",
    "        gen_opt = tf.tuple([tf.assign(var, tf.clip_by_value(var, -1*clipping_parameter, clipping_parameter)) \n",
    "                            for var in tf.get_collection(tf.GraphKeys.TRAINABLE_VARIABLES, scope='gen')])\n",
    "        \n",
    "    disc_opt = tf.contrib.layers.optimize_loss(\n",
    "        tf.reduce_mean(discriminator_loss(\n",
    "            discriminator(images, training=True), discriminator(generator(noise, training=True), training=True))),\n",
    "        None, learning_rate=1e-4, optimizer='Adam', variables=discriminator.trainable_variables)\n",
    "    with tf.control_dependencies([disc_opt]):\n",
    "        disc_opt = tf.tuple([tf.assign(var, tf.clip_by_value(var, -1*clipping_parameter, clipping_parameter)) \n",
    "                             for var in tf.get_collection(tf.GraphKeys.TRAINABLE_VARIABLES, scope='disc')])\n",
    "    \n",
    "    return generator, gen_opt, disc_opt, images, ranEpoch, getEpoch"
   ]
  },
  {
   "cell_type": "code",
   "execution_count": 15,
   "metadata": {
    "_uuid": "ac0e304af171a8d292728d743ae39e464da065cf",
    "colab": {},
    "colab_type": "code",
    "id": "2M7LmLtGEMQJ"
   },
   "outputs": [],
   "source": [
    "def train(batch, epochs, noise_dim, gen_opt, disc_opt, images):  \n",
    "    for epoch in range(epochs):\n",
    "        start = time.time()\n",
    "        runOneEpoch(batch, noise_dim, gen_opt, disc_opt, images)\n",
    "        print ('Time taken for epoch {} is {} sec'.format(epoch + 1,\n",
    "                                                          time.time()-start))\n",
    "  # generating after the final epoch\n",
    "    display.clear_output(wait=True)\n",
    "    generate_and_save_images(generator,\n",
    "                           -1,\n",
    "                           random_vector_for_generation)\n",
    "    \n",
    "def runOneEpoch(batch, noise_dim, gen_opt, disc_opt, images):\n",
    "    start = time.time()\n",
    "    for num in range(math.ceil(BUFFER_SIZE/BATCH_SIZE)):\n",
    "        if(num % 5 == 4):\n",
    "            sess.run(gen_opt, feed_dict={images: sess.run(batch)})\n",
    "        else:\n",
    "            sess.run(disc_opt, feed_dict={images: sess.run(batch)})\n",
    "        print(\"Finished {} out of {}\".format(num*BATCH_SIZE+BATCH_SIZE, math.ceil(BUFFER_SIZE)), end='\\r')\n",
    "    display.clear_output(wait=True)\n",
    "    generate_and_save_images(generator,\n",
    "                           -1,\n",
    "                           random_vector_for_generation)\n",
    "\n",
    "    # saving (checkpoint) the model every 15 epochs\n",
    "    #if (epoch + 1) % 15 == 0:\n",
    "        #checkpoint.save(file_prefix = checkpoint_prefix)\n",
    "\n",
    "    print ('Time taken {} sec'.format(time.time()-start))"
   ]
  },
  {
   "cell_type": "code",
   "execution_count": 16,
   "metadata": {},
   "outputs": [],
   "source": [
    "def testAudio(batch):\n",
    "    while(True):\n",
    "        spec = sess.run(batch)[0]\n",
    "        mag = spec[:, :, 0]\n",
    "        angles = spec[:, :, 1]\n",
    "        mag = ((mag+1)/2)*48-32\n",
    "        angles = angles*math.pi\n",
    "        ft =(np.exp(mag)-1.2664166e-14)*np.exp(1j*angles)\n",
    "        newaudio = librosa.istft(ft, 512, 2048)\n",
    "        print('Generated audio')\n",
    "        print('Interval of audio: [{}, {}]'.format(np.amin(newaudio), np.amax(newaudio)))\n",
    "        playAudio(newaudio, 16000)"
   ]
  },
  {
   "cell_type": "markdown",
   "metadata": {},
   "source": [
    "# Running the model"
   ]
  },
  {
   "cell_type": "code",
   "execution_count": 17,
   "metadata": {
    "_kg_hide-output": true,
    "_uuid": "446c1e4d2462906cc5ed888104e549ac86b476b2",
    "colab": {},
    "colab_type": "code",
    "id": "Ly3UN0SLLY2l",
    "scrolled": false
   },
   "outputs": [],
   "source": [
    "generator, gen_opt, disc_opt, images, ranEpoch, getEpoch = buildgraph()\n",
    "iterator = specs.make_one_shot_iterator()\n",
    "batch = iterator.get_next()\n",
    "sess.run(tf.global_variables_initializer())"
   ]
  },
  {
   "cell_type": "code",
   "execution_count": 18,
   "metadata": {},
   "outputs": [],
   "source": [
    "saver = tf.train.Saver()\n",
    "if(not(os.path.isdir(\"checkpoints\"))):\n",
    "    saver.save(sess, \"checkpoints/model\")"
   ]
  },
  {
   "cell_type": "code",
   "execution_count": null,
   "metadata": {},
   "outputs": [
    {
     "name": "stdout",
     "output_type": "stream",
     "text": [
      "INFO:tensorflow:Restoring parameters from checkpoints/model\n"
     ]
    }
   ],
   "source": [
    "# Can exit any time because model saves after every epoch\n",
    "while True:\n",
    "    saver.restore(sess, \"checkpoints/model\")\n",
    "    runOneEpoch(batch, noise_dim, gen_opt, disc_opt, images)\n",
    "    saver.save(sess, \"checkpoints/model\")"
   ]
  },
  {
   "cell_type": "code",
   "execution_count": null,
   "metadata": {},
   "outputs": [],
   "source": [
    "generate_and_save_images(generator, -1``, random_vector_for_generation)"
   ]
  }
 ],
 "metadata": {
  "accelerator": "GPU",
  "colab": {
   "collapsed_sections": [],
   "name": "dcgan.ipynb",
   "private_outputs": true,
   "provenance": [
    {
     "file_id": "1eb0NOTQapkYs3X0v-zL1x5_LFKgDISnp",
     "timestamp": 1527173385672
    }
   ],
   "toc_visible": true,
   "version": "0.3.2"
  },
  "kernelspec": {
   "display_name": "Python 3",
   "language": "python",
   "name": "python3"
  },
  "language_info": {
   "codemirror_mode": {
    "name": "ipython",
    "version": 3
   },
   "file_extension": ".py",
   "mimetype": "text/x-python",
   "name": "python",
   "nbconvert_exporter": "python",
   "pygments_lexer": "ipython3",
   "version": "3.6.5"
  }
 },
 "nbformat": 4,
 "nbformat_minor": 1
}
