{
 "cells": [
  {
   "cell_type": "markdown",
   "metadata": {},
   "source": [
    "# WGAN with DCGAN layers\n",
    "Code is mainly based upon the DCGAN implementation in the TensorFlow tutorials"
   ]
  },
  {
   "cell_type": "code",
   "execution_count": 22,
   "metadata": {
    "_uuid": "36af9c2edba178f04e989ca2a5935878caf7b0c4",
    "colab": {},
    "colab_type": "code",
    "id": "YfIk2es3hJEd"
   },
   "outputs": [],
   "source": [
    "from __future__ import absolute_import, division, print_function\n",
    "\n",
    "import tensorflow as tf\n",
    "import memory_saving_gradients\n",
    "# monkey patch tf.gradients to point to our custom version, with automatic checkpoint selection\n",
    "tf.__dict__[\"gradients\"] = memory_saving_gradients.gradients_memory\n",
    "import librosa\n",
    "import os\n",
    "import time\n",
    "import numpy as np\n",
    "import matplotlib.pyplot as plt\n",
    "import PIL\n",
    "#import imageio\n",
    "import simpleaudio as sa\n",
    "import math\n",
    "import gc\n",
    "from IPython import display\n",
    "import time\n",
    "import scipy.io.wavfile as wavfile"
   ]
  },
  {
   "cell_type": "code",
   "execution_count": 2,
   "metadata": {},
   "outputs": [],
   "source": [
    "config = tf.ConfigProto()\n",
    "config.gpu_options.allow_growth = True\n",
    "sess = tf.Session(config=config)"
   ]
  },
  {
   "cell_type": "code",
   "execution_count": 3,
   "metadata": {},
   "outputs": [],
   "source": [
    "def playAudio(audio, sr):\n",
    "    audio = audio.astype(np.int16)\n",
    "    play_obj = sa.play_buffer(audio, 1, 2, sr)\n",
    "    play_obj.wait_done()"
   ]
  },
  {
   "cell_type": "markdown",
   "metadata": {},
   "source": [
    "# Hyperparameters"
   ]
  },
  {
   "cell_type": "code",
   "execution_count": 4,
   "metadata": {
    "_uuid": "cbe0b356b41cbdeb6751dfde003e8590cb68586b",
    "colab": {},
    "colab_type": "code",
    "id": "NS2GWywBbAWo"
   },
   "outputs": [
    {
     "name": "stdout",
     "output_type": "stream",
     "text": [
      "WARNING:tensorflow:From /home/asianzhang812_gmail_com/.local/lib/python3.5/site-packages/tensorflow/python/framework/op_def_library.py:263: colocate_with (from tensorflow.python.framework.ops) is deprecated and will be removed in a future version.\n",
      "Instructions for updating:\n",
      "Colocations handled automatically by placer.\n"
     ]
    }
   ],
   "source": [
    "# Number for large nsynth-train dataset\n",
    "TOTAL_NUM = 108978\n",
    "# Number for small nsynth-test dataset\n",
    "# TOTAL_NUM = 1689\n",
    "BUFFER_SIZE = 2048\n",
    "BATCH_SIZE = 50\n",
    "PREFETCH_BUFFER_SIZE = BATCH_SIZE\n",
    "# EPOCHS = 150\n",
    "LAMBDA = 10\n",
    "ALPHA = 0.001\n",
    "BETA1 = 0.9\n",
    "BETA2 = 0.999\n",
    "CRITIC_UPDATES_PER_GEN_UPDATE = 5\n",
    "noise_dim = 20\n",
    "num_examples_to_generate = 16\n",
    "# keeping the random vector constant for generation (prediction) so\n",
    "# it will be easier to see the improvement of the gan.\n",
    "random_vector_for_generation = tf.Variable(tf.random_normal([num_examples_to_generate,\n",
    "                                                 noise_dim]))"
   ]
  },
  {
   "cell_type": "markdown",
   "metadata": {},
   "source": [
    "# Make a dataset using TensorFlow's input pipeline"
   ]
  },
  {
   "cell_type": "code",
   "execution_count": 5,
   "metadata": {},
   "outputs": [],
   "source": [
    "# Reading spectrograms from TFRecord file, making dataset\n",
    "read_features = {\n",
    "    'note': tf.FixedLenFeature([], dtype=tf.int64),\n",
    "    'note_str': tf.FixedLenFeature([], dtype=tf.string),\n",
    "    'instrument': tf.FixedLenFeature([], dtype=tf.int64),\n",
    "    'instrument_str': tf.FixedLenFeature([], dtype=tf.string),\n",
    "    'pitch': tf.FixedLenFeature([], dtype=tf.int64),\n",
    "    'velocity': tf.FixedLenFeature([], dtype=tf.int64),\n",
    "    'sample_rate': tf.FixedLenFeature([], dtype=tf.int64),\n",
    "    'spectrogram': tf.FixedLenFeature([258300], dtype=float),\n",
    "    'instrument_family': tf.FixedLenFeature([], dtype=tf.int64),\n",
    "    'instrument_family_str': tf.FixedLenFeature([], dtype=tf.string),\n",
    "    'instrument_source': tf.FixedLenFeature([], dtype=tf.int64),\n",
    "    'instrument_source_str': tf.FixedLenFeature([], dtype=tf.string)\n",
    "}\n",
    "\n",
    "def _map(raw_data):\n",
    "    return tf.reshape(tf.parse_single_example(serialized=raw_data, features=read_features)['spectrogram'], [1025, 126, 2])\n",
    "\n",
    "specs = tf.data.TFRecordDataset(\"spectrograms.tfrecord\")\n",
    "specs = specs.apply(tf.data.experimental.shuffle_and_repeat(buffer_size=BUFFER_SIZE))\n",
    "specs = specs.map(map_func=_map, num_parallel_calls=-1)\n",
    "specs = specs.batch(batch_size=BATCH_SIZE)\n",
    "specs = specs.prefetch(buffer_size=PREFETCH_BUFFER_SIZE)"
   ]
  },
  {
   "cell_type": "code",
   "execution_count": 6,
   "metadata": {},
   "outputs": [],
   "source": [
    "# temporary test cell to test for memory issues\n",
    "# iterator = specs.make_one_shot_iterator()\n",
    "# real_images = iterator.get_next()\n",
    "# while(True):\n",
    "#     sess.run(real_images)\n",
    "#     gc.collect()\n",
    "#     print(\"-\", end='')"
   ]
  },
  {
   "cell_type": "markdown",
   "metadata": {},
   "source": [
    "# Define models"
   ]
  },
  {
   "cell_type": "code",
   "execution_count": 28,
   "metadata": {
    "_uuid": "f50d15ea77525e355d3b1cca08240a3d920fec3a",
    "colab": {},
    "colab_type": "code",
    "id": "VGLbvBEmjK0a"
   },
   "outputs": [],
   "source": [
    "# output = (input - 1) * stride + filter\n",
    "# Desired: 1025 x 126\n",
    "class Generator(tf.keras.Model):\n",
    "    def __init__(self):\n",
    "        super(Generator, self).__init__()\n",
    "        self.fc1 = tf.keras.layers.Dense(10*14*128, use_bias=False)\n",
    "        self.batchnorm1 = tf.keras.layers.BatchNormalization()\n",
    "        # 10x14\n",
    "        self.conv1 = tf.keras.layers.Conv2DTranspose(128, (8, 5), strides=(2, 1), padding='valid', use_bias=False)\n",
    "        self.batchnorm2 = tf.keras.layers.BatchNormalization()\n",
    "        # 26x18\n",
    "        self.conv2 = tf.keras.layers.Conv2DTranspose(128, (8, 5), strides=(2, 1), padding='valid', use_bias=False)\n",
    "        self.batchnorm3 = tf.keras.layers.BatchNormalization()\n",
    "        # 58x22\n",
    "        self.conv3 = tf.keras.layers.Conv2DTranspose(64, (8, 5), strides=(2, 1), padding='valid', use_bias=False)\n",
    "        self.batchnorm4 = tf.keras.layers.BatchNormalization()\n",
    "        # 122x26\n",
    "        self.conv4 = tf.keras.layers.Conv2DTranspose(32, (9, 5), strides=(2, 1), padding='valid', use_bias=False)\n",
    "        self.batchnorm5 = tf.keras.layers.BatchNormalization()\n",
    "        # 251x30\n",
    "        self.conv5 = tf.keras.layers.Conv2DTranspose(16, (9, 4), strides=(2, 2), padding='valid', use_bias=False)\n",
    "        self.batchnorm6 = tf.keras.layers.BatchNormalization()\n",
    "        # 509x62\n",
    "        self.conv6 = tf.keras.layers.Conv2DTranspose(2, (9, 4), strides=(2, 2), padding='valid', use_bias=False)\n",
    "        # 1025x126\n",
    "        \n",
    "    def call(self, x, training=True):\n",
    "        #print(\"Input shape: {}\".format(x.shape))\n",
    "        x = self.fc1(x)\n",
    "        x = self.batchnorm1(x, training=training)\n",
    "        x = tf.nn.relu(x)\n",
    "        x = tf.reshape(x, shape=(-1, 10, 14, 128))\n",
    "        #print(\"Shape after project and reshape: {}\".format(x.shape))\n",
    "        x = self.conv1(x)\n",
    "        x = self.batchnorm2(x, training=training)\n",
    "        x = tf.nn.relu(x)\n",
    "        #print(\"Shape after conv1, (8, 5) filter and (2, 1) strides: {}\".format(x.shape))\n",
    "        x = self.conv2(x)\n",
    "        x = self.batchnorm3(x, training=training)\n",
    "        x = tf.nn.relu(x)\n",
    "        #print(\"Shape after conv2, (8, 5) filter and (2, 1) strides: {}\".format(x.shape))\n",
    "        x = self.conv3(x)\n",
    "        x = self.batchnorm4(x, training=training)\n",
    "        x = tf.nn.relu(x)\n",
    "        #print(\"Shape after conv3, (8, 5) filter and (2, 1) strides: {}\".format(x.shape))\n",
    "        x = self.conv4(x)\n",
    "        x = self.batchnorm5(x, training=training)\n",
    "        x = tf.nn.relu(x)\n",
    "        #print(\"Shape after conv4, (9, 4) filter and (2, 1) strides: {}\".format(x.shape))\n",
    "        x = self.conv5(x)\n",
    "        x = self.batchnorm6(x, training=training)\n",
    "        x = tf.nn.relu(x)\n",
    "        #print(\"Shape after conv5, (9, 4) filter and (2, 2) strides: {}\".format(x.shape))\n",
    "        \n",
    "        x = tf.nn.tanh(self.conv6(x))  \n",
    "        #print(\"Final shape after conv6, (9, 4) filter and (2, 2) strides: {}\".format(x.shape))\n",
    "        return x"
   ]
  },
  {
   "cell_type": "code",
   "execution_count": 30,
   "metadata": {},
   "outputs": [
    {
     "name": "stdout",
     "output_type": "stream",
     "text": [
      "Input shape: (50, 100)\n",
      "Shape after project and reshape: (50, 10, 14, 128)\n",
      "Shape after conv1, (8, 5) filter and (2, 1) strides: (50, 26, 18, 128)\n",
      "Shape after conv2, (8, 5) filter and (2, 1) strides: (50, 58, 22, 128)\n",
      "Shape after conv3, (8, 5) filter and (2, 1) strides: (50, 122, 26, 64)\n",
      "Shape after conv4, (9, 4) filter and (2, 1) strides: (50, 251, 30, 32)\n",
      "Shape after conv5, (9, 4) filter and (2, 2) strides: (50, 509, 62, 16)\n",
      "Final shape after conv6, (9, 4) filter and (2, 2) strides: (50, 1025, 126, 2)\n"
     ]
    }
   ],
   "source": [
    "# Used to test generator layers' sizes\n",
    "#testGen = Generator()\n",
    "#testGen(tf.random_normal([BATCH_SIZE, noise_dim]))"
   ]
  },
  {
   "cell_type": "code",
   "execution_count": 8,
   "metadata": {
    "_uuid": "92507e1426e5d24567fc5ff7e982a512826046f6",
    "colab": {},
    "colab_type": "code",
    "id": "bkOfJxk5j5Hi"
   },
   "outputs": [],
   "source": [
    "class Critic(tf.keras.Model):\n",
    "    def __init__(self):\n",
    "        super(Critic, self).__init__()\n",
    "        self.conv1 = tf.keras.layers.Conv2D(64, (5, 5), strides=(2, 2), padding='same')\n",
    "        self.conv2 = tf.keras.layers.Conv2D(128, (5, 5), strides=(2, 2), padding='same')\n",
    "        self.flatten = tf.keras.layers.Flatten()\n",
    "        self.fc1 = tf.keras.layers.Dense(1, activation=None)\n",
    "\n",
    "    def call(self, x, training=True):\n",
    "        x = tf.nn.leaky_relu(self.conv1(x))\n",
    "        x = tf.nn.leaky_relu(self.conv2(x))\n",
    "        x = self.flatten(x)\n",
    "        x = self.fc1(x)\n",
    "        return x"
   ]
  },
  {
   "cell_type": "code",
   "execution_count": 9,
   "metadata": {
    "_uuid": "47ae70cfe471b80ac827a5772bcba07ec890450f",
    "colab": {},
    "colab_type": "code",
    "id": "wkMNfBWlT-PV"
   },
   "outputs": [],
   "source": [
    "def critic_loss(real_output, generated_output):\n",
    "    return real_output - generated_output"
   ]
  },
  {
   "cell_type": "code",
   "execution_count": 10,
   "metadata": {
    "_uuid": "df009f9802ad5e4ecca74e113a4501340029bba3",
    "colab": {},
    "colab_type": "code",
    "id": "90BIcCKcDMxz"
   },
   "outputs": [],
   "source": [
    "def generator_loss(generated_output):\n",
    "    return -1*generated_output"
   ]
  },
  {
   "cell_type": "markdown",
   "metadata": {},
   "source": [
    "# Defining training\n",
    "`buildgraph()` is largely based upon Zardinality's WGAN implementation and, to a smaller extent, the code from the paper introducing WGAN-GP"
   ]
  },
  {
   "cell_type": "code",
   "execution_count": 11,
   "metadata": {
    "_uuid": "16478afa6311040cd8132a2c1980652a656618e6",
    "colab": {},
    "colab_type": "code",
    "id": "RmdVsmvhPxyy"
   },
   "outputs": [],
   "source": [
    "def generate_and_save_images(epoch):\n",
    "    # make sure the training parameter is set to False because we\n",
    "    # don't want to train the batchnorm layer when doing inference.\n",
    "    predictions = sess.run(generated)\n",
    "\n",
    "    fig = plt.figure(figsize=(4,4))\n",
    "\n",
    "    for i in range(predictions.shape[0]):\n",
    "        plt.subplot(4, 4, i+1)\n",
    "        plt.imshow(predictions[i, :, :, 0] * 127.5, cmap=\"magma\", origin=\"lower\", aspect=\"auto\")\n",
    "        plt.axis('off')\n",
    "\n",
    "    plt.savefig('images/image_at_epoch_{:.2f}.png'.format(epoch))\n",
    "    plt.show()"
   ]
  },
  {
   "cell_type": "code",
   "execution_count": 12,
   "metadata": {},
   "outputs": [],
   "source": [
    "def buildgraph():\n",
    "    with tf.variable_scope('gen'):\n",
    "        generator = Generator()\n",
    "    with tf.variable_scope('critic'):\n",
    "        critic = Critic()\n",
    "    noise = tf.random_normal([BATCH_SIZE, noise_dim])\n",
    "    epochs = tf.Variable(0.0, trainable=True, use_resource=True, dtype=tf.float64)\n",
    "    increment = tf.placeholder(tf.float64)\n",
    "    ranEpoch = tf.assign(epochs, tf.cast(tf.round((epochs + increment)*tf.cast(tf.pow(10, tf.cast(np.floor(np.log10(TOTAL_NUM))+2, tf.int32)), tf.float64))/tf.cast(tf.pow(10, tf.cast(np.floor(np.log10(TOTAL_NUM))+2, tf.int32)), tf.float64), tf.float64))\n",
    "    getEpoch = epochs\n",
    "    \n",
    "    iterator = specs.make_one_shot_iterator()\n",
    "    real_images = iterator.get_next() #tf.placeholder(tf.float32, shape=[BATCH_SIZE, 1025, 126, 2], name='images')\n",
    "    fake_images = generator(noise)\n",
    "    critic_real = critic(real_images)\n",
    "    critic_fake = critic(fake_images)\n",
    "    \n",
    "    gen_cost = -tf.reduce_mean(critic_fake)\n",
    "    critic_cost = tf.reduce_mean(critic_fake)-tf.reduce_mean(critic_real)\n",
    "    alpha = tf.random_uniform(shape=[BATCH_SIZE, 1025, 126, 2], minval=0., maxval=1.)\n",
    "    differences = fake_images-real_images\n",
    "    interpolates = real_images+(alpha*differences)\n",
    "    gradients = tf.gradients(critic(interpolates), [interpolates])[0]\n",
    "    slopes = tf.sqrt(tf.reduce_sum(tf.square(gradients), reduction_indices=[1]))\n",
    "    \n",
    "    gradient_penalty = tf.reduce_mean((slopes-1.)**2)\n",
    "    critic_cost += LAMBDA*gradient_penalty\n",
    "    \n",
    "    gen_opt = tf.contrib.layers.optimize_loss(\n",
    "        gen_cost, \n",
    "        None, learning_rate=1e-4, optimizer=tf.train.AdamOptimizer(ALPHA, BETA1, BETA2), variables=generator.trainable_variables)\n",
    "        \n",
    "    critic_opt = tf.contrib.layers.optimize_loss(\n",
    "        critic_cost,\n",
    "        None, learning_rate=1e-4, optimizer=tf.train.AdamOptimizer(ALPHA, BETA1, BETA2), variables=critic.trainable_variables)\n",
    "    \n",
    "    test_images = generator(random_vector_for_generation)\n",
    "    return generator, gen_opt, critic_opt, real_images, test_images, ranEpoch, getEpoch, increment"
   ]
  },
  {
   "cell_type": "code",
   "execution_count": 13,
   "metadata": {
    "_uuid": "ac0e304af171a8d292728d743ae39e464da065cf",
    "colab": {},
    "colab_type": "code",
    "id": "2M7LmLtGEMQJ"
   },
   "outputs": [],
   "source": [
    "def train(batch, epochs, noise_dim, gen_opt, critic_opt, images):  \n",
    "    for epoch in range(epochs):\n",
    "        start = time.time()\n",
    "        runOneEpoch(batch, noise_dim, gen_opt, critic_opt, images)\n",
    "        print ('Time taken for epoch {} is {} sec'.format(epoch + 1,\n",
    "                                                          time.time()-start))\n",
    "  # generating after the final epoch\n",
    "    display.clear_output(wait=True)\n",
    "    generate_and_save_images(generator,\n",
    "                           -1,\n",
    "                           random_vector_for_generation)\n",
    "    \n",
    "def runOneEpoch(batch, noise_dim, gen_opt, critic_opt, images, \n",
    "                getEpoch, increment, ranEpoch, epoch_proportion=1):\n",
    "    start = time.time()\n",
    "    for num in range(math.ceil(epoch_proportion*TOTAL_NUM/BATCH_SIZE)):\n",
    "        if(num % (CRITIC_UPDATES_PER_GEN_UPDATE+1) == 0):\n",
    "            sess.run(gen_opt) #, feed_dict={images: sess.run(batch)})\n",
    "        else:\n",
    "            sess.run(critic_opt) #, feed_dict={images: sess.run(batch)})\n",
    "        gc.collect()\n",
    "        print(\"Finished {} out of {}\".format(num*BATCH_SIZE+BATCH_SIZE, \n",
    "                                             math.ceil(epoch_proportion*TOTAL_NUM)), end='\\r')\n",
    "    display.clear_output(wait=True)\n",
    "    sess.run(ranEpoch, feed_dict={increment: epoch_proportion})\n",
    "    print(\"Finished epoch {:.2f}\".format(sess.run(getEpoch)))\n",
    "    generate_and_save_images(sess.run(getEpoch))\n",
    "    # saving (checkpoint) the model every 15 epochs\n",
    "    #if (epoch + 1) % 15 == 0:\n",
    "        #checkpoint.save(file_prefix = checkpoint_prefix)\n",
    "\n",
    "    print('Time taken {} sec'.format(time.time()-start))"
   ]
  },
  {
   "cell_type": "code",
   "execution_count": 30,
   "metadata": {},
   "outputs": [],
   "source": [
    "def testAudio(batch, prefix):\n",
    "    specs = sess.run(batch)\n",
    "    for i in range(specs.shape[0]):\n",
    "        spec = specs[i]\n",
    "        mag = spec[:, :, 0]\n",
    "        angles = spec[:, :, 1]\n",
    "        mag = ((mag+1)/2)*48-32\n",
    "        angles = angles*math.pi\n",
    "        ft =(np.exp(mag)-1.2664166e-14)*np.exp(1j*angles)\n",
    "        newaudio = librosa.istft(ft, 512, 2048).astype(np.int16)\n",
    "        #print('Generated audio')\n",
    "        #print('Interval of audio: [{}, {}]'.format(np.amin(newaudio), np.amax(newaudio)))\n",
    "        wavfile.write(\"audio/{}-{}.wav\".format(prefix, i), 16000, newaudio)"
   ]
  },
  {
   "cell_type": "markdown",
   "metadata": {},
   "source": [
    "# Running the model"
   ]
  },
  {
   "cell_type": "code",
   "execution_count": 15,
   "metadata": {},
   "outputs": [],
   "source": [
    "while(True):\n",
    "    f = open(\"lock\", \"r\")\n",
    "    contents = f.read()\n",
    "    if(len(contents)>0):\n",
    "        break\n",
    "    f.close()\n",
    "    time.sleep(10)"
   ]
  },
  {
   "cell_type": "code",
   "execution_count": 16,
   "metadata": {
    "_kg_hide-output": true,
    "_uuid": "446c1e4d2462906cc5ed888104e549ac86b476b2",
    "colab": {},
    "colab_type": "code",
    "id": "Ly3UN0SLLY2l",
    "scrolled": true
   },
   "outputs": [
    {
     "name": "stdout",
     "output_type": "stream",
     "text": [
      "WARNING:tensorflow:From <ipython-input-12-32ac26a07c5f>:12: DatasetV1.make_one_shot_iterator (from tensorflow.python.data.ops.dataset_ops) is deprecated and will be removed in a future version.\n",
      "Instructions for updating:\n",
      "Use `for ... in dataset:` to iterate over a dataset. If using `tf.estimator`, return the `Dataset` object directly from your input function. As a last resort, you can use `tf.compat.v1.data.make_one_shot_iterator(dataset)`.\n",
      "WARNING:tensorflow:From /home/asianzhang812_gmail_com/.local/lib/python3.5/site-packages/tensorflow/python/ops/math_ops.py:3066: to_int32 (from tensorflow.python.ops.math_ops) is deprecated and will be removed in a future version.\n",
      "Instructions for updating:\n",
      "Use tf.cast instead.\n"
     ]
    }
   ],
   "source": [
    "generator, gen_opt, critic_opt, images, generated, ranEpoch, getEpoch, increment = buildgraph()\n",
    "iterator = specs.make_one_shot_iterator()\n",
    "batch = iterator.get_next()\n",
    "sess.run(tf.global_variables_initializer())"
   ]
  },
  {
   "cell_type": "code",
   "execution_count": 17,
   "metadata": {},
   "outputs": [
    {
     "name": "stdout",
     "output_type": "stream",
     "text": [
      "Saved\n"
     ]
    }
   ],
   "source": [
    "saver = tf.train.Saver(var_list=tf.trainable_variables())\n",
    "if(not(os.path.isdir(\"checkpoints\"))):\n",
    "#if(True):\n",
    "    saver.save(sess, \"checkpoints/model\")\n",
    "    print(\"Saved\")\n",
    "else:\n",
    "    print(\"Checkpoint already exists\")\n",
    "sess.graph.finalize()"
   ]
  },
  {
   "cell_type": "code",
   "execution_count": 31,
   "metadata": {
    "scrolled": false
   },
   "outputs": [
    {
     "name": "stdout",
     "output_type": "stream",
     "text": [
      "Finished epoch 35.00\n"
     ]
    },
    {
     "data": {
      "image/png": "[encoded data removed]",
      "text/plain": [
       "<Figure size 288x288 with 16 Axes>"
      ]
     },
     "metadata": {},
     "output_type": "display_data"
    },
    {
     "name": "stdout",
     "output_type": "stream",
     "text": [
      "Time taken 165.7741198539734 sec\n",
      "INFO:tensorflow:Restoring parameters from checkpoints/model\n",
      "Finished 2800 out of 5449\r"
     ]
    },
    {
     "ename": "KeyboardInterrupt",
     "evalue": "",
     "output_type": "error",
     "traceback": [
      "\u001b[0;31m---------------------------------------------------------------------------\u001b[0m",
      "\u001b[0;31mKeyboardInterrupt\u001b[0m                         Traceback (most recent call last)",
      "\u001b[0;32m<ipython-input-31-cf87f9d7462a>\u001b[0m in \u001b[0;36m<module>\u001b[0;34m\u001b[0m\n\u001b[1;32m      9\u001b[0m     \u001b[0msaver\u001b[0m\u001b[0;34m.\u001b[0m\u001b[0mrestore\u001b[0m\u001b[0;34m(\u001b[0m\u001b[0msess\u001b[0m\u001b[0;34m,\u001b[0m \u001b[0;34m\"checkpoints/model\"\u001b[0m\u001b[0;34m)\u001b[0m\u001b[0;34m\u001b[0m\u001b[0m\n\u001b[1;32m     10\u001b[0m     runOneEpoch(batch, noise_dim, gen_opt, critic_opt, images, getEpoch, \n\u001b[0;32m---> 11\u001b[0;31m                 increment, ranEpoch, 0.05)\n\u001b[0m\u001b[1;32m     12\u001b[0m     \u001b[0msaver\u001b[0m\u001b[0;34m.\u001b[0m\u001b[0msave\u001b[0m\u001b[0;34m(\u001b[0m\u001b[0msess\u001b[0m\u001b[0;34m,\u001b[0m \u001b[0;34m\"checkpoints/model\"\u001b[0m\u001b[0;34m)\u001b[0m\u001b[0;34m\u001b[0m\u001b[0m\n",
      "\u001b[0;32m<ipython-input-13-bbafe08540e3>\u001b[0m in \u001b[0;36mrunOneEpoch\u001b[0;34m(batch, noise_dim, gen_opt, critic_opt, images, getEpoch, increment, ranEpoch, epoch_proportion)\u001b[0m\n\u001b[1;32m     18\u001b[0m             \u001b[0msess\u001b[0m\u001b[0;34m.\u001b[0m\u001b[0mrun\u001b[0m\u001b[0;34m(\u001b[0m\u001b[0mgen_opt\u001b[0m\u001b[0;34m)\u001b[0m \u001b[0;31m#, feed_dict={images: sess.run(batch)})\u001b[0m\u001b[0;34m\u001b[0m\u001b[0m\n\u001b[1;32m     19\u001b[0m         \u001b[0;32melse\u001b[0m\u001b[0;34m:\u001b[0m\u001b[0;34m\u001b[0m\u001b[0m\n\u001b[0;32m---> 20\u001b[0;31m             \u001b[0msess\u001b[0m\u001b[0;34m.\u001b[0m\u001b[0mrun\u001b[0m\u001b[0;34m(\u001b[0m\u001b[0mcritic_opt\u001b[0m\u001b[0;34m)\u001b[0m \u001b[0;31m#, feed_dict={images: sess.run(batch)})\u001b[0m\u001b[0;34m\u001b[0m\u001b[0m\n\u001b[0m\u001b[1;32m     21\u001b[0m         \u001b[0mgc\u001b[0m\u001b[0;34m.\u001b[0m\u001b[0mcollect\u001b[0m\u001b[0;34m(\u001b[0m\u001b[0;34m)\u001b[0m\u001b[0;34m\u001b[0m\u001b[0m\n\u001b[1;32m     22\u001b[0m         print(\"Finished {} out of {}\".format(num*BATCH_SIZE+BATCH_SIZE, \n",
      "\u001b[0;32m~/.local/lib/python3.5/site-packages/tensorflow/python/client/session.py\u001b[0m in \u001b[0;36mrun\u001b[0;34m(self, fetches, feed_dict, options, run_metadata)\u001b[0m\n\u001b[1;32m    927\u001b[0m     \u001b[0;32mtry\u001b[0m\u001b[0;34m:\u001b[0m\u001b[0;34m\u001b[0m\u001b[0m\n\u001b[1;32m    928\u001b[0m       result = self._run(None, fetches, feed_dict, options_ptr,\n\u001b[0;32m--> 929\u001b[0;31m                          run_metadata_ptr)\n\u001b[0m\u001b[1;32m    930\u001b[0m       \u001b[0;32mif\u001b[0m \u001b[0mrun_metadata\u001b[0m\u001b[0;34m:\u001b[0m\u001b[0;34m\u001b[0m\u001b[0m\n\u001b[1;32m    931\u001b[0m         \u001b[0mproto_data\u001b[0m \u001b[0;34m=\u001b[0m \u001b[0mtf_session\u001b[0m\u001b[0;34m.\u001b[0m\u001b[0mTF_GetBuffer\u001b[0m\u001b[0;34m(\u001b[0m\u001b[0mrun_metadata_ptr\u001b[0m\u001b[0;34m)\u001b[0m\u001b[0;34m\u001b[0m\u001b[0m\n",
      "\u001b[0;32m~/.local/lib/python3.5/site-packages/tensorflow/python/client/session.py\u001b[0m in \u001b[0;36m_run\u001b[0;34m(self, handle, fetches, feed_dict, options, run_metadata)\u001b[0m\n\u001b[1;32m   1150\u001b[0m     \u001b[0;32mif\u001b[0m \u001b[0mfinal_fetches\u001b[0m \u001b[0;32mor\u001b[0m \u001b[0mfinal_targets\u001b[0m \u001b[0;32mor\u001b[0m \u001b[0;34m(\u001b[0m\u001b[0mhandle\u001b[0m \u001b[0;32mand\u001b[0m \u001b[0mfeed_dict_tensor\u001b[0m\u001b[0;34m)\u001b[0m\u001b[0;34m:\u001b[0m\u001b[0;34m\u001b[0m\u001b[0m\n\u001b[1;32m   1151\u001b[0m       results = self._do_run(handle, final_targets, final_fetches,\n\u001b[0;32m-> 1152\u001b[0;31m                              feed_dict_tensor, options, run_metadata)\n\u001b[0m\u001b[1;32m   1153\u001b[0m     \u001b[0;32melse\u001b[0m\u001b[0;34m:\u001b[0m\u001b[0;34m\u001b[0m\u001b[0m\n\u001b[1;32m   1154\u001b[0m       \u001b[0mresults\u001b[0m \u001b[0;34m=\u001b[0m \u001b[0;34m[\u001b[0m\u001b[0;34m]\u001b[0m\u001b[0;34m\u001b[0m\u001b[0m\n",
      "\u001b[0;32m~/.local/lib/python3.5/site-packages/tensorflow/python/client/session.py\u001b[0m in \u001b[0;36m_do_run\u001b[0;34m(self, handle, target_list, fetch_list, feed_dict, options, run_metadata)\u001b[0m\n\u001b[1;32m   1326\u001b[0m     \u001b[0;32mif\u001b[0m \u001b[0mhandle\u001b[0m \u001b[0;32mis\u001b[0m \u001b[0;32mNone\u001b[0m\u001b[0;34m:\u001b[0m\u001b[0;34m\u001b[0m\u001b[0m\n\u001b[1;32m   1327\u001b[0m       return self._do_call(_run_fn, feeds, fetches, targets, options,\n\u001b[0;32m-> 1328\u001b[0;31m                            run_metadata)\n\u001b[0m\u001b[1;32m   1329\u001b[0m     \u001b[0;32melse\u001b[0m\u001b[0;34m:\u001b[0m\u001b[0;34m\u001b[0m\u001b[0m\n\u001b[1;32m   1330\u001b[0m       \u001b[0;32mreturn\u001b[0m \u001b[0mself\u001b[0m\u001b[0;34m.\u001b[0m\u001b[0m_do_call\u001b[0m\u001b[0;34m(\u001b[0m\u001b[0m_prun_fn\u001b[0m\u001b[0;34m,\u001b[0m \u001b[0mhandle\u001b[0m\u001b[0;34m,\u001b[0m \u001b[0mfeeds\u001b[0m\u001b[0;34m,\u001b[0m \u001b[0mfetches\u001b[0m\u001b[0;34m)\u001b[0m\u001b[0;34m\u001b[0m\u001b[0m\n",
      "\u001b[0;32m~/.local/lib/python3.5/site-packages/tensorflow/python/client/session.py\u001b[0m in \u001b[0;36m_do_call\u001b[0;34m(self, fn, *args)\u001b[0m\n\u001b[1;32m   1332\u001b[0m   \u001b[0;32mdef\u001b[0m \u001b[0m_do_call\u001b[0m\u001b[0;34m(\u001b[0m\u001b[0mself\u001b[0m\u001b[0;34m,\u001b[0m \u001b[0mfn\u001b[0m\u001b[0;34m,\u001b[0m \u001b[0;34m*\u001b[0m\u001b[0margs\u001b[0m\u001b[0;34m)\u001b[0m\u001b[0;34m:\u001b[0m\u001b[0;34m\u001b[0m\u001b[0m\n\u001b[1;32m   1333\u001b[0m     \u001b[0;32mtry\u001b[0m\u001b[0;34m:\u001b[0m\u001b[0;34m\u001b[0m\u001b[0m\n\u001b[0;32m-> 1334\u001b[0;31m       \u001b[0;32mreturn\u001b[0m \u001b[0mfn\u001b[0m\u001b[0;34m(\u001b[0m\u001b[0;34m*\u001b[0m\u001b[0margs\u001b[0m\u001b[0;34m)\u001b[0m\u001b[0;34m\u001b[0m\u001b[0m\n\u001b[0m\u001b[1;32m   1335\u001b[0m     \u001b[0;32mexcept\u001b[0m \u001b[0merrors\u001b[0m\u001b[0;34m.\u001b[0m\u001b[0mOpError\u001b[0m \u001b[0;32mas\u001b[0m \u001b[0me\u001b[0m\u001b[0;34m:\u001b[0m\u001b[0;34m\u001b[0m\u001b[0m\n\u001b[1;32m   1336\u001b[0m       \u001b[0mmessage\u001b[0m \u001b[0;34m=\u001b[0m \u001b[0mcompat\u001b[0m\u001b[0;34m.\u001b[0m\u001b[0mas_text\u001b[0m\u001b[0;34m(\u001b[0m\u001b[0me\u001b[0m\u001b[0;34m.\u001b[0m\u001b[0mmessage\u001b[0m\u001b[0;34m)\u001b[0m\u001b[0;34m\u001b[0m\u001b[0m\n",
      "\u001b[0;32m~/.local/lib/python3.5/site-packages/tensorflow/python/client/session.py\u001b[0m in \u001b[0;36m_run_fn\u001b[0;34m(feed_dict, fetch_list, target_list, options, run_metadata)\u001b[0m\n\u001b[1;32m   1317\u001b[0m       \u001b[0mself\u001b[0m\u001b[0;34m.\u001b[0m\u001b[0m_extend_graph\u001b[0m\u001b[0;34m(\u001b[0m\u001b[0;34m)\u001b[0m\u001b[0;34m\u001b[0m\u001b[0m\n\u001b[1;32m   1318\u001b[0m       return self._call_tf_sessionrun(\n\u001b[0;32m-> 1319\u001b[0;31m           options, feed_dict, fetch_list, target_list, run_metadata)\n\u001b[0m\u001b[1;32m   1320\u001b[0m \u001b[0;34m\u001b[0m\u001b[0m\n\u001b[1;32m   1321\u001b[0m     \u001b[0;32mdef\u001b[0m \u001b[0m_prun_fn\u001b[0m\u001b[0;34m(\u001b[0m\u001b[0mhandle\u001b[0m\u001b[0;34m,\u001b[0m \u001b[0mfeed_dict\u001b[0m\u001b[0;34m,\u001b[0m \u001b[0mfetch_list\u001b[0m\u001b[0;34m)\u001b[0m\u001b[0;34m:\u001b[0m\u001b[0;34m\u001b[0m\u001b[0m\n",
      "\u001b[0;32m~/.local/lib/python3.5/site-packages/tensorflow/python/client/session.py\u001b[0m in \u001b[0;36m_call_tf_sessionrun\u001b[0;34m(self, options, feed_dict, fetch_list, target_list, run_metadata)\u001b[0m\n\u001b[1;32m   1405\u001b[0m     return tf_session.TF_SessionRun_wrapper(\n\u001b[1;32m   1406\u001b[0m         \u001b[0mself\u001b[0m\u001b[0;34m.\u001b[0m\u001b[0m_session\u001b[0m\u001b[0;34m,\u001b[0m \u001b[0moptions\u001b[0m\u001b[0;34m,\u001b[0m \u001b[0mfeed_dict\u001b[0m\u001b[0;34m,\u001b[0m \u001b[0mfetch_list\u001b[0m\u001b[0;34m,\u001b[0m \u001b[0mtarget_list\u001b[0m\u001b[0;34m,\u001b[0m\u001b[0;34m\u001b[0m\u001b[0m\n\u001b[0;32m-> 1407\u001b[0;31m         run_metadata)\n\u001b[0m\u001b[1;32m   1408\u001b[0m \u001b[0;34m\u001b[0m\u001b[0m\n\u001b[1;32m   1409\u001b[0m   \u001b[0;32mdef\u001b[0m \u001b[0m_call_tf_sessionprun\u001b[0m\u001b[0;34m(\u001b[0m\u001b[0mself\u001b[0m\u001b[0;34m,\u001b[0m \u001b[0mhandle\u001b[0m\u001b[0;34m,\u001b[0m \u001b[0mfeed_dict\u001b[0m\u001b[0;34m,\u001b[0m \u001b[0mfetch_list\u001b[0m\u001b[0;34m)\u001b[0m\u001b[0;34m:\u001b[0m\u001b[0;34m\u001b[0m\u001b[0m\n",
      "\u001b[0;31mKeyboardInterrupt\u001b[0m: "
     ]
    }
   ],
   "source": [
    "# Can exit any time because model saves after every epoch\n",
    "try:\n",
    "    saver.restore(sess, \"checkpoints/model\")\n",
    "except: \n",
    "    print(\"Saved checkpoint invalid, saving new checkpoint\")\n",
    "    saver.save(sess, \"checkpoints/model\")\n",
    "\n",
    "while True:\n",
    "    saver.restore(sess, \"checkpoints/model\")\n",
    "    runOneEpoch(batch, noise_dim, gen_opt, critic_opt, images, getEpoch, \n",
    "                increment, ranEpoch, 0.05)\n",
    "    saver.save(sess, \"checkpoints/model\")"
   ]
  },
  {
   "cell_type": "code",
   "execution_count": 26,
   "metadata": {},
   "outputs": [
    {
     "name": "stdout",
     "output_type": "stream",
     "text": [
      "(50, 1025, 126, 2)\n"
     ]
    }
   ],
   "source": [
    "print(sess.run(images).shape)"
   ]
  },
  {
   "cell_type": "code",
   "execution_count": 29,
   "metadata": {},
   "outputs": [
    {
     "name": "stdout",
     "output_type": "stream",
     "text": [
      "Generated audio\n",
      "Interval of audio: [-9630, 10986]\n",
      "Generated audio\n",
      "Interval of audio: [-9198, 10394]\n",
      "Generated audio\n",
      "Interval of audio: [-14197, 12360]\n",
      "Generated audio\n",
      "Interval of audio: [-14143, 12200]\n",
      "Generated audio\n",
      "Interval of audio: [-13026, 14141]\n",
      "Generated audio\n",
      "Interval of audio: [-13130, 14200]\n",
      "Generated audio\n",
      "Interval of audio: [-14200, 13774]\n",
      "Generated audio\n",
      "Interval of audio: [-11857, 14195]\n",
      "Generated audio\n",
      "Interval of audio: [-14188, 14194]\n",
      "Generated audio\n",
      "Interval of audio: [-10438, 10785]\n",
      "Generated audio\n",
      "Interval of audio: [-10690, 14193]\n",
      "Generated audio\n",
      "Interval of audio: [-14009, 14194]\n",
      "Generated audio\n",
      "Interval of audio: [-14049, 12537]\n",
      "Generated audio\n",
      "Interval of audio: [-13034, 10307]\n",
      "Generated audio\n",
      "Interval of audio: [-6308, 13410]\n",
      "Generated audio\n",
      "Interval of audio: [-14197, 8578]\n",
      "Generated audio\n",
      "Interval of audio: [-6920, 14195]\n",
      "Generated audio\n",
      "Interval of audio: [-8371, 14172]\n",
      "Generated audio\n",
      "Interval of audio: [-14153, 10876]\n",
      "Generated audio\n",
      "Interval of audio: [-7036, 6826]\n",
      "Generated audio\n",
      "Interval of audio: [-14070, 11665]\n",
      "Generated audio\n",
      "Interval of audio: [-14145, 13662]\n",
      "Generated audio\n",
      "Interval of audio: [-14200, 12348]\n",
      "Generated audio\n",
      "Interval of audio: [-14193, 10511]\n",
      "Generated audio\n",
      "Interval of audio: [-14184, 9314]\n",
      "Generated audio\n",
      "Interval of audio: [-12520, 11860]\n",
      "Generated audio\n",
      "Interval of audio: [-10969, 14127]\n",
      "Generated audio\n",
      "Interval of audio: [-14187, 13421]\n",
      "Generated audio\n",
      "Interval of audio: [-9271, 11595]\n",
      "Generated audio\n",
      "Interval of audio: [-13965, 14208]\n",
      "Generated audio\n",
      "Interval of audio: [-13923, 10903]\n",
      "Generated audio\n",
      "Interval of audio: [-10191, 14197]\n",
      "Generated audio\n",
      "Interval of audio: [-14193, 10348]\n",
      "Generated audio\n",
      "Interval of audio: [-13862, 10927]\n",
      "Generated audio\n",
      "Interval of audio: [-14191, 11579]\n",
      "Generated audio\n",
      "Interval of audio: [-14184, 11021]\n",
      "Generated audio\n",
      "Interval of audio: [-14174, 13760]\n",
      "Generated audio\n",
      "Interval of audio: [-15126, 15313]\n",
      "Generated audio\n",
      "Interval of audio: [-10115, 14125]\n",
      "Generated audio\n",
      "Interval of audio: [-13864, 14196]\n",
      "Generated audio\n",
      "Interval of audio: [-14209, 12362]\n",
      "Generated audio\n",
      "Interval of audio: [-6984, 10773]\n",
      "Generated audio\n",
      "Interval of audio: [-14136, 13095]\n",
      "Generated audio\n",
      "Interval of audio: [-14199, 8707]\n",
      "Generated audio\n",
      "Interval of audio: [-8478, 8006]\n",
      "Generated audio\n",
      "Interval of audio: [-14042, 12081]\n",
      "Generated audio\n",
      "Interval of audio: [-14195, 12437]\n",
      "Generated audio\n",
      "Interval of audio: [-11815, 12354]\n",
      "Generated audio\n",
      "Interval of audio: [-13871, 9252]\n",
      "Generated audio\n",
      "Interval of audio: [-13952, 13797]\n",
      "Generated audio\n",
      "Interval of audio: [-172, 271]\n",
      "Generated audio\n",
      "Interval of audio: [-2617, 2782]\n",
      "Generated audio\n",
      "Interval of audio: [-659, 689]\n",
      "Generated audio\n",
      "Interval of audio: [-235, 293]\n",
      "Generated audio\n",
      "Interval of audio: [-231, 216]\n",
      "Generated audio\n",
      "Interval of audio: [-385, 416]\n",
      "Generated audio\n",
      "Interval of audio: [-394, 510]\n",
      "Generated audio\n",
      "Interval of audio: [-153, 188]\n",
      "Generated audio\n",
      "Interval of audio: [-2542, 2585]\n",
      "Generated audio\n",
      "Interval of audio: [-506, 527]\n",
      "Generated audio\n",
      "Interval of audio: [-560, 581]\n",
      "Generated audio\n",
      "Interval of audio: [-806, 806]\n",
      "Generated audio\n",
      "Interval of audio: [-365, 348]\n",
      "Generated audio\n",
      "Interval of audio: [-487, 345]\n",
      "Generated audio\n",
      "Interval of audio: [-156, 160]\n",
      "Generated audio\n",
      "Interval of audio: [-594, 604]\n"
     ]
    }
   ],
   "source": [
    "testAudio(images, \"real\")\n",
    "testAudio(generated, \"fake\")"
   ]
  },
  {
   "cell_type": "code",
   "execution_count": null,
   "metadata": {},
   "outputs": [],
   "source": [
    "while(kernel is dead):\n",
    "    plant_a_new_seed()"
   ]
  }
 ],
 "metadata": {
  "accelerator": "GPU",
  "colab": {
   "collapsed_sections": [],
   "name": "dcgan.ipynb",
   "private_outputs": true,
   "provenance": [
    {
     "file_id": "1eb0NOTQapkYs3X0v-zL1x5_LFKgDISnp",
     "timestamp": 1527173385672
    }
   ],
   "toc_visible": true,
   "version": "0.3.2"
  },
  "kernelspec": {
   "display_name": "Python 3",
   "language": "python",
   "name": "python3"
  },
  "language_info": {
   "codemirror_mode": {
    "name": "ipython",
    "version": 3
   },
   "file_extension": ".py",
   "mimetype": "text/x-python",
   "name": "python",
   "nbconvert_exporter": "python",
   "pygments_lexer": "ipython3",
   "version": "3.6.4"
  }
 },
 "nbformat": 4,
 "nbformat_minor": 1
}
