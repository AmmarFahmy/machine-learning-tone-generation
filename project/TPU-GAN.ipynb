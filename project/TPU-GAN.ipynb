{
 "cells": [
  {
   "cell_type": "markdown",
   "metadata": {},
   "source": [
    "# WGAN-GP with DCGAN layers\n",
    "Code is mainly based upon the DCGAN implementation in the TensorFlow tutorials"
   ]
  },
  {
   "cell_type": "code",
   "execution_count": 1,
   "metadata": {
    "_uuid": "36af9c2edba178f04e989ca2a5935878caf7b0c4",
    "colab": {},
    "colab_type": "code",
    "id": "YfIk2es3hJEd"
   },
   "outputs": [
    {
     "name": "stdout",
     "output_type": "stream",
     "text": [
      "<google.auth.compute_engine.credentials.Credentials object at 0x7f76fc0966d8>\n"
     ]
    }
   ],
   "source": [
    "from __future__ import absolute_import, division, print_function\n",
    "\n",
    "import tensorflow as tf\n",
    "#import memory_saving_gradients\n",
    "# monkey patch tf.gradients to point to our custom version, with automatic checkpoint selection\n",
    "#tf.__dict__[\"gradients\"] = memory_saving_gradients.gradients_memory\n",
    "import librosa\n",
    "import os\n",
    "import functools\n",
    "import subprocess\n",
    "import time\n",
    "import numpy as np\n",
    "import matplotlib.pyplot as plt\n",
    "import PIL\n",
    "#import imageio\n",
    "#import simpleaudio as sa\n",
    "import math\n",
    "import gc\n",
    "from IPython import display\n",
    "import time\n",
    "import scipy.io.wavfile as wavfile\n",
    "from IPython.display import clear_output, Image, display, HTML\n",
    "from tensorflow.layers import dense, flatten\n",
    "from tensorflow.nn import relu, leaky_relu\n",
    "from tensorflow import tanh\n",
    "from tensorflow.image import ResizeMethod\n",
    "from google.cloud import storage\n",
    "import google.auth\n",
    "from google.auth import compute_engine\n",
    "credentials = compute_engine.Credentials()\n",
    "print(credentials)\n",
    "\n",
    "resize_images = lambda x, size: tf.transpose(tf.image.resize_images(tf.transpose(x, [0, 2, 3, 1]), size, method=ResizeMethod.NEAREST_NEIGHBOR), [0, 3, 1, 2])\n",
    "conv2d_transpose = functools.partial(tf.layers.conv2d_transpose, padding='same', data_format='channels_first')\n",
    "conv2d = functools.partial(tf.layers.conv2d, padding='same', data_format='channels_first')\n",
    "batch_norm = functools.partial(tf.layers.batch_normalization, axis=1)\n",
    "layer_norm = lambda x: tf.transpose(tf.contrib.layers.layer_norm(tf.transpose(x, [0, 2, 3, 1])), [0, 3, 1, 2])\n",
    "pool = functools.partial(tf.nn.pool, window_shape=(2, 2), pooling_type='AVG', padding='SAME', data_format='NCHW')"
   ]
  },
  {
   "cell_type": "code",
   "execution_count": 2,
   "metadata": {},
   "outputs": [],
   "source": [
    "config = tf.ConfigProto()\n",
    "config.gpu_options.allow_growth = True\n",
    "\n",
    "run_options = tf.RunOptions(report_tensor_allocations_upon_oom=True)\n",
    "\n",
    "sess = tf.Session(config=config)"
   ]
  },
  {
   "cell_type": "code",
   "execution_count": 3,
   "metadata": {},
   "outputs": [],
   "source": [
    "def playAudio(audio, sr):\n",
    "    audio = audio.astype(np.int16)\n",
    "    play_obj = sa.play_buffer(audio, 1, 2, sr)\n",
    "    play_obj.wait_done()"
   ]
  },
  {
   "cell_type": "markdown",
   "metadata": {},
   "source": [
    "# Hyperparameters"
   ]
  },
  {
   "cell_type": "code",
   "execution_count": 14,
   "metadata": {
    "_uuid": "cbe0b356b41cbdeb6751dfde003e8590cb68586b",
    "colab": {},
    "colab_type": "code",
    "id": "NS2GWywBbAWo"
   },
   "outputs": [],
   "source": [
    "# Number for large nsynth-train dataset\n",
    "TOTAL_NUM = 102165\n",
    "# Number for small nsynth-test dataset\n",
    "# TOTAL_NUM = 1689\n",
    "BUFFER_SIZE = 2048\n",
    "BATCH_SIZE = 1\n",
    "PREFETCH_BUFFER_SIZE = 2 * BATCH_SIZE\n",
    "# EPOCHS = 150\n",
    "LAMBDA = 10\n",
    "ALPHA = 0.0002\n",
    "BETA1 = 0.5\n",
    "BETA2 = 0.999\n",
    "CRITIC_UPDATES_PER_GEN_UPDATE = 5\n",
    "noise_dim = 100\n",
    "num_examples_to_generate = 16\n",
    "padded_spec_dim = (1, 512, 256)\n",
    "spec_dim = (1, 512, 251)\n",
    "epoch_proportion_counter = 0.0\n",
    "model_dir = \"gs://jz-datasets/checkpoints/tpu-model/\""
   ]
  },
  {
   "cell_type": "markdown",
   "metadata": {},
   "source": [
    "# Make a dataset using TensorFlow's input pipeline"
   ]
  },
  {
   "cell_type": "code",
   "execution_count": 5,
   "metadata": {},
   "outputs": [],
   "source": [
    "# Reading features of TFRecord file\n",
    "read_features = {\n",
    "    'note': tf.FixedLenFeature([], dtype=tf.int64),\n",
    "    'note_str': tf.FixedLenFeature([], dtype=tf.string),\n",
    "    'instrument': tf.FixedLenFeature([], dtype=tf.int64),\n",
    "    'instrument_str': tf.FixedLenFeature([], dtype=tf.string),\n",
    "    'pitch': tf.FixedLenFeature([], dtype=tf.int64),\n",
    "    'velocity': tf.FixedLenFeature([], dtype=tf.int64),\n",
    "    'sample_rate': tf.FixedLenFeature([], dtype=tf.int64),\n",
    "    'spectrogram': tf.FixedLenFeature([257024], dtype=tf.float32),\n",
    "    #'spectrogram': tf.FixedLenFeature([128512], dtype=tf.float32),\n",
    "    'instrument_family': tf.FixedLenFeature([], dtype=tf.int64),\n",
    "    'instrument_family_str': tf.FixedLenFeature([], dtype=tf.string),\n",
    "    'instrument_source': tf.FixedLenFeature([], dtype=tf.int64),\n",
    "    'instrument_source_str': tf.FixedLenFeature([], dtype=tf.string)\n",
    "}"
   ]
  },
  {
   "cell_type": "markdown",
   "metadata": {},
   "source": [
    "# Defining models and training\n",
    "`buildgraph()` was largely based upon Zardinality's WGAN implementation and was extensively modified using the code from the paper introducing WGAN-GP"
   ]
  },
  {
   "cell_type": "code",
   "execution_count": 6,
   "metadata": {
    "_uuid": "16478afa6311040cd8132a2c1980652a656618e6",
    "colab": {},
    "colab_type": "code",
    "id": "RmdVsmvhPxyy"
   },
   "outputs": [],
   "source": [
    "def generate_images(images, source='fake', save=True):\n",
    "    # make sure the training parameter is set to False because we\n",
    "    # don't want to train the batchnorm layer when doing inference.\n",
    "    \n",
    "    if(source=='fake'):\n",
    "        disp_images = images['fake_images']\n",
    "    elif(source=='real'):\n",
    "        disp_images = images['real_images']\n",
    "    else:\n",
    "        raise ValueError\n",
    "    fig = plt.figure(figsize=(4,4))\n",
    "    \n",
    "    for i in range(16):\n",
    "        plt.subplot(4, 4, i+1)\n",
    "        plt.imshow(disp_images[i, 0, :, :] * 127.5, cmap=\"magma\", origin=\"lower\", aspect=\"auto\")\n",
    "        plt.axis('off')\n",
    "    if(save):\n",
    "        plt.savefig('images/image_at_epoch_{:.2f}.png'.format(epoch_counter))\n",
    "    plt.show()"
   ]
  },
  {
   "cell_type": "code",
   "execution_count": 7,
   "metadata": {},
   "outputs": [],
   "source": [
    "def residBlockUpscale(num, x, num_filters, filter_size=4, strides=(2, 2), \n",
    "                      num_filters_intermed=None, training=True):\n",
    "    with tf.variable_scope('resid-block-upscale-{}'.format(num)):\n",
    "        if(num_filters_intermed is None):\n",
    "            num_filters_intermed = num_filters\n",
    "        x_orig = resize_images(x, (x.shape[2]*strides[0], x.shape[3]*strides[1]))\n",
    "        x_orig = conv2d(x_orig, num_filters, 1, 1)\n",
    "        x = batch_norm(x, training=training)\n",
    "        x = relu(x)\n",
    "        x = resize_images(x, (x.shape[2]*strides[0], x.shape[3]*strides[1]))\n",
    "        x = conv2d(x, num_filters_intermed, filter_size, 1)\n",
    "        x = batch_norm(x, training=training)\n",
    "        x = relu(x)\n",
    "        x = conv2d(x, num_filters, filter_size, 1)\n",
    "        x = x_orig + x\n",
    "        return x\n",
    "\n",
    "def residBlockDownscale(num, x, num_filters, filter_size=4, strides=(2, 2), \n",
    "                        num_filters_intermed=None, training=True):\n",
    "    with tf.variable_scope('resid-block-downscale-{}'.format(num)):\n",
    "        if(num_filters_intermed is None):\n",
    "            num_filters_intermed = num_filters\n",
    "        x_orig = pool(x, window_shape=strides)\n",
    "        x_orig = conv2d(x_orig, num_filters, 1, 1)\n",
    "        x = layer_norm(x)\n",
    "        x = relu(x)\n",
    "        x = conv2d(x, num_filters_intermed, filter_size, 1)\n",
    "        x = layer_norm(x)\n",
    "        x = relu(x)\n",
    "        x = conv2d(x, num_filters_intermed, filter_size, 1)\n",
    "        x = pool(x)\n",
    "        x = x_orig + x\n",
    "        return x"
   ]
  },
  {
   "cell_type": "code",
   "execution_count": 8,
   "metadata": {},
   "outputs": [],
   "source": [
    "def generator(x, training=True):\n",
    "    # Input x is noise vector\n",
    "    with tf.variable_scope('generator', reuse=tf.AUTO_REUSE):\n",
    "        # x_orig = tf.transpose(tf.image.resize_bicubic(tf.transpose(x, [0, 2, 3, 1]), 512*256), [0, 3, 1, 2])\n",
    "        x = dense(x, 512*32*16)\n",
    "        x = tf.reshape(x, shape = (-1, 512, 32, 16))\n",
    "        # Shape: 32x16\n",
    "        x = residBlockUpscale(1, x, 512, training=training)\n",
    "        # Shape: 64x32\n",
    "        x = residBlockUpscale(2, x, 256, training=training)\n",
    "        # Shape: 128x64\n",
    "        x = residBlockUpscale(3, x, 128, training=training)\n",
    "        # Shape: 256x128\n",
    "        x = residBlockUpscale(4, x, 64, training=training)\n",
    "        # Shape: 512x256\n",
    "        # x = x_orig + x\n",
    "        x = batch_norm(x, training=training)\n",
    "        x = relu(x)\n",
    "        x = conv2d(x, 1, 4, 1)\n",
    "        x = tanh(x)\n",
    "        x = x[:, :, :, 0:251]\n",
    "        return x\n",
    "    \n",
    "def critic(x, training=True):\n",
    "    with tf.variable_scope('critic', reuse=tf.AUTO_REUSE):\n",
    "        x = conv2d(x, 64, 4, 1)\n",
    "        x = residBlockDownscale(1, x, 128, training=training)\n",
    "        x = residBlockDownscale(2, x, 256, training=training)\n",
    "        x = residBlockDownscale(3, x, 512, training=training)\n",
    "        x = residBlockDownscale(4, x, 512, strides=(1, 1), training=training)\n",
    "        x = flatten(x)\n",
    "        x = dense(x, 1)\n",
    "        return x"
   ]
  },
  {
   "cell_type": "code",
   "execution_count": 10,
   "metadata": {},
   "outputs": [
    {
     "ename": "NameError",
     "evalue": "name 'model_dir' is not defined",
     "output_type": "error",
     "traceback": [
      "\u001b[0;31m---------------------------------------------------------------------------\u001b[0m",
      "\u001b[0;31mNameError\u001b[0m                                 Traceback (most recent call last)",
      "\u001b[0;32m<ipython-input-10-9648f3b87c30>\u001b[0m in \u001b[0;36m<module>\u001b[0;34m\u001b[0m\n\u001b[1;32m     75\u001b[0m tpu_run_config = tf.contrib.tpu.RunConfig(\n\u001b[1;32m     76\u001b[0m     \u001b[0mcluster\u001b[0m\u001b[0;34m=\u001b[0m\u001b[0mcluster_resolver\u001b[0m\u001b[0;34m,\u001b[0m\u001b[0;34m\u001b[0m\u001b[0m\n\u001b[0;32m---> 77\u001b[0;31m     \u001b[0mmodel_dir\u001b[0m\u001b[0;34m=\u001b[0m\u001b[0mmodel_dir\u001b[0m\u001b[0;34m,\u001b[0m\u001b[0;34m\u001b[0m\u001b[0m\n\u001b[0m\u001b[1;32m     78\u001b[0m     \u001b[0msesson_config\u001b[0m\u001b[0;34m=\u001b[0m\u001b[0mtf\u001b[0m\u001b[0;34m.\u001b[0m\u001b[0mConfigProto\u001b[0m\u001b[0;34m(\u001b[0m\u001b[0mallow_soft_placement\u001b[0m\u001b[0;34m=\u001b[0m\u001b[0;32mTrue\u001b[0m\u001b[0;34m,\u001b[0m \u001b[0mlog_device_placement\u001b[0m\u001b[0;34m=\u001b[0m\u001b[0;32mTrue\u001b[0m\u001b[0;34m)\u001b[0m\u001b[0;34m,\u001b[0m\u001b[0;34m\u001b[0m\u001b[0m\n\u001b[1;32m     79\u001b[0m     \u001b[0mtpu_config\u001b[0m\u001b[0;34m=\u001b[0m\u001b[0mtf\u001b[0m\u001b[0;34m.\u001b[0m\u001b[0mcontrib\u001b[0m\u001b[0;34m.\u001b[0m\u001b[0mtpu\u001b[0m\u001b[0;34m.\u001b[0m\u001b[0mTPUConfig\u001b[0m\u001b[0;34m(\u001b[0m\u001b[0;36m100\u001b[0m\u001b[0;34m,\u001b[0m \u001b[0;36m8\u001b[0m\u001b[0;34m)\u001b[0m\u001b[0;34m\u001b[0m\u001b[0m\n",
      "\u001b[0;31mNameError\u001b[0m: name 'model_dir' is not defined"
     ]
    }
   ],
   "source": [
    "def record_parser(raw_data):\n",
    "    tf.reshape(tf.parse_single_example(serialized=raw_data, features=read_features)['spectrogram'][0:128512], (1, 512, 251))\n",
    "\n",
    "def input_fn(params):\n",
    "    with tf.variable_scope('input-pipeline'):\n",
    "        specs = tf.data.TFRecordDataset(\"gs://jz-datasets/spectrograms.tfrecord\")\n",
    "        specs = specs.apply(tf.data.experimental.shuffle_and_repeat(buffer_size=BUFFER_SIZE))\n",
    "        # specs = specs.map(map_func=(lambda raw_data: tf.reshape(tf.parse_single_example(serialized=raw_data, features=read_features)['spectrogram'], spec_dim)), num_parallel_calls=-1)\n",
    "        specs = specs.apply(tf.data.experimental.map_and_batch(record_parser, params['batch_size'], 2))\n",
    "        specs = specs.prefetch(buffer_size=2*params['batch_size'])\n",
    "        iterator = specs.make_one_shot_iterator()\n",
    "        real_images = iterator.get_next()\n",
    "        real_images.set_shape([params['batch_size'], 1, 512, 251])\n",
    "        return (real_images, None) # tf.zeros([real_images.shape[0],], dtype=tf.float32))\n",
    "    \n",
    "def model_fn(features, labels, mode, params):\n",
    "    global_step = tf.train.get_or_create_global_step()\n",
    "    with tf.variable_scope('runs'):\n",
    "        noise = tf.random_normal([BATCH_SIZE, noise_dim])\n",
    "        fake_images = generator(noise)\n",
    "        critic_real = critic(features)\n",
    "        critic_fake = critic(fake_images)\n",
    "        # keeping the random vector constant for generation (prediction) so\n",
    "        # it will be easier to see the improvement of the gan.\n",
    "        \n",
    "        if mode == tf.estimator.ModeKeys.PREDICT:\n",
    "            random_vector_for_generation = tf.Variable(\n",
    "                tf.random_normal([num_examples_to_generate, noise_dim]), \n",
    "                trainable=False, name='constant-latent-space'\n",
    "            )\n",
    "            test_images = {\n",
    "                'fake_images': generator(random_vector_for_generation, training=False),\n",
    "                'real_images': features\n",
    "            }\n",
    "            return tf.contrib.tpu.TPUEstimatorSpec(mode, predictions=test_images)\n",
    "        \n",
    "        with tf.variable_scope('costs'):\n",
    "                gen_cost = -tf.reduce_mean(critic_fake)\n",
    "                critic_cost_naive = tf.reduce_mean(critic_fake)-tf.reduce_mean(critic_real)\n",
    "\n",
    "                with tf.variable_scope('gradient-penalty'):\n",
    "                    alpha = tf.random_uniform(shape=[BATCH_SIZE, spec_dim[0], spec_dim[1], spec_dim[2]], minval=0., maxval=1.)\n",
    "                    differences = fake_images-real_images\n",
    "                    interpolates = real_images+(alpha*differences)\n",
    "                    gradients = tf.gradients(critic(interpolates), [interpolates])[0]\n",
    "                    slopes = tf.sqrt(tf.reduce_sum(tf.square(gradients), reduction_indices=[1]))\n",
    "                    gradient_penalty = tf.reduce_mean((slopes-1.)**2)\n",
    "                    critic_cost = critic_cost_naive + LAMBDA*gradient_penalty\n",
    "                \n",
    "                costs = {\n",
    "                    'gen_cost': gen_cost,\n",
    "                    'critic_cost': critic_cost\n",
    "                }\n",
    "                \n",
    "        if mode == tf.estimator.ModeKeys.EVAL:\n",
    "            return tf.contrib.tpu.TPUEstimatorSpec(mode, loss=0) # , eval_metric_ops=costs)\n",
    "        \n",
    "        if mode == tf.estimator.ModeKeys.TRAIN:\n",
    "            with tf.variable_scope('optimizers'):\n",
    "                with tf.control_dependencies(tf.get_collection(tf.GraphKeys.UPDATE_OPS)):\n",
    "                    gen_opt = tf.contrib.tpu.CrossShardOptimizer(tf.train.AdamOptimizer(ALPHA, BETA1, BETA2)).minimize(gen_cost, global_step=global_step, var_list=tf.get_collection(tf.GraphKeys.TRAINABLE_VARIABLES, scope='runs/generator'))\n",
    "                    critic_opt = tf.contrib.tpu.CrossShardOptimizer(tf.train.AdamOptimizer(ALPHA, BETA1, BETA2)).minimize(critic_cost, global_step=global_step, var_list=tf.get_collection(tf.GraphKeys.TRAINABLE_VARIABLES, scope='runs/critic'))\n",
    "                opt = tf.cond(tf.equals(tf.mod(tf.train.global_step, CRITIC_UPDATES_PER_GEN_UPDATE+1), CRITIC_UPDATES_PER_GEN_UPDATE+1), gen_opt, critic_opt)\n",
    "            return tf.contrib.tpu.TPUEstimatorSpec(mode, loss=critic_cost, train_op=opt)\n",
    "\n",
    "    return\n",
    "    #return generator, gen_opt, critic_opt, real_images, test_images, ranEpoch, getEpoch, increment, merged, global_step"
   ]
  },
  {
   "cell_type": "code",
   "execution_count": 13,
   "metadata": {},
   "outputs": [
    {
     "ename": "HttpError",
     "evalue": "<HttpError 403 when requesting https://tpu.googleapis.com/v1alpha1/projects/jz-cloud-test/locations/us-central1-f/nodes/node-1?alt=json returned \"Request had insufficient authentication scopes.\">",
     "output_type": "error",
     "traceback": [
      "\u001b[0;31m---------------------------------------------------------------------------\u001b[0m",
      "\u001b[0;31mHttpError\u001b[0m                                 Traceback (most recent call last)",
      "\u001b[0;32m<ipython-input-13-5d1d58c9052d>\u001b[0m in \u001b[0;36m<module>\u001b[0;34m\u001b[0m\n\u001b[1;32m      9\u001b[0m     \u001b[0mmodel_dir\u001b[0m\u001b[0;34m=\u001b[0m\u001b[0mmodel_dir\u001b[0m\u001b[0;34m,\u001b[0m\u001b[0;34m\u001b[0m\u001b[0m\n\u001b[1;32m     10\u001b[0m     \u001b[0msession_config\u001b[0m\u001b[0;34m=\u001b[0m\u001b[0mtf\u001b[0m\u001b[0;34m.\u001b[0m\u001b[0mConfigProto\u001b[0m\u001b[0;34m(\u001b[0m\u001b[0mallow_soft_placement\u001b[0m\u001b[0;34m=\u001b[0m\u001b[0;32mTrue\u001b[0m\u001b[0;34m,\u001b[0m \u001b[0mlog_device_placement\u001b[0m\u001b[0;34m=\u001b[0m\u001b[0;32mTrue\u001b[0m\u001b[0;34m)\u001b[0m\u001b[0;34m,\u001b[0m\u001b[0;34m\u001b[0m\u001b[0m\n\u001b[0;32m---> 11\u001b[0;31m     \u001b[0mtpu_config\u001b[0m\u001b[0;34m=\u001b[0m\u001b[0mtf\u001b[0m\u001b[0;34m.\u001b[0m\u001b[0mcontrib\u001b[0m\u001b[0;34m.\u001b[0m\u001b[0mtpu\u001b[0m\u001b[0;34m.\u001b[0m\u001b[0mTPUConfig\u001b[0m\u001b[0;34m(\u001b[0m\u001b[0;36m100\u001b[0m\u001b[0;34m,\u001b[0m \u001b[0;36m8\u001b[0m\u001b[0;34m)\u001b[0m\u001b[0;34m\u001b[0m\u001b[0m\n\u001b[0m\u001b[1;32m     12\u001b[0m )  \n",
      "\u001b[0;32m/usr/local/lib/python3.5/dist-packages/tensorflow/contrib/tpu/python/tpu/tpu_config.py\u001b[0m in \u001b[0;36m__init__\u001b[0;34m(self, tpu_config, evaluation_master, master, cluster, **kwargs)\u001b[0m\n\u001b[1;32m    204\u001b[0m     \u001b[0;32melse\u001b[0m\u001b[0;34m:\u001b[0m\u001b[0;34m\u001b[0m\u001b[0m\n\u001b[1;32m    205\u001b[0m       \u001b[0;32mif\u001b[0m \u001b[0mcluster\u001b[0m\u001b[0;34m:\u001b[0m\u001b[0;34m\u001b[0m\u001b[0m\n\u001b[0;32m--> 206\u001b[0;31m         \u001b[0mself\u001b[0m\u001b[0;34m.\u001b[0m\u001b[0m_master\u001b[0m \u001b[0;34m=\u001b[0m \u001b[0mcluster\u001b[0m\u001b[0;34m.\u001b[0m\u001b[0mmaster\u001b[0m\u001b[0;34m(\u001b[0m\u001b[0;34m)\u001b[0m\u001b[0;34m\u001b[0m\u001b[0m\n\u001b[0m\u001b[1;32m    207\u001b[0m \u001b[0;34m\u001b[0m\u001b[0m\n\u001b[1;32m    208\u001b[0m     \u001b[0;32mif\u001b[0m \u001b[0mevaluation_master\u001b[0m \u001b[0;32mis\u001b[0m \u001b[0;32mnot\u001b[0m \u001b[0;32mNone\u001b[0m\u001b[0;34m:\u001b[0m\u001b[0;34m\u001b[0m\u001b[0m\n",
      "\u001b[0;32m/usr/local/lib/python3.5/dist-packages/tensorflow/contrib/cluster_resolver/python/training/tpu_cluster_resolver.py\u001b[0m in \u001b[0;36mmaster\u001b[0;34m(self)\u001b[0m\n\u001b[1;32m    221\u001b[0m       \u001b[0;32mreturn\u001b[0m \u001b[0mself\u001b[0m\u001b[0;34m.\u001b[0m\u001b[0m_tpu\u001b[0m\u001b[0;34m.\u001b[0m\u001b[0msplit\u001b[0m\u001b[0;34m(\u001b[0m\u001b[0mcompat\u001b[0m\u001b[0;34m.\u001b[0m\u001b[0mas_bytes\u001b[0m\u001b[0;34m(\u001b[0m\u001b[0m_ENDPOINTS_SEPARATOR\u001b[0m\u001b[0;34m)\u001b[0m\u001b[0;34m)\u001b[0m\u001b[0;34m[\u001b[0m\u001b[0;36m0\u001b[0m\u001b[0;34m]\u001b[0m\u001b[0;34m\u001b[0m\u001b[0m\n\u001b[1;32m    222\u001b[0m \u001b[0;34m\u001b[0m\u001b[0m\n\u001b[0;32m--> 223\u001b[0;31m     \u001b[0mjob_tasks\u001b[0m \u001b[0;34m=\u001b[0m \u001b[0mself\u001b[0m\u001b[0;34m.\u001b[0m\u001b[0mcluster_spec\u001b[0m\u001b[0;34m(\u001b[0m\u001b[0;34m)\u001b[0m\u001b[0;34m.\u001b[0m\u001b[0mjob_tasks\u001b[0m\u001b[0;34m(\u001b[0m\u001b[0mself\u001b[0m\u001b[0;34m.\u001b[0m\u001b[0m_job_name\u001b[0m\u001b[0;34m)\u001b[0m\u001b[0;34m\u001b[0m\u001b[0m\n\u001b[0m\u001b[1;32m    224\u001b[0m     \u001b[0;32mif\u001b[0m \u001b[0;32mnot\u001b[0m \u001b[0mjob_tasks\u001b[0m\u001b[0;34m:\u001b[0m\u001b[0;34m\u001b[0m\u001b[0m\n\u001b[1;32m    225\u001b[0m       \u001b[0;32mraise\u001b[0m \u001b[0mValueError\u001b[0m\u001b[0;34m(\u001b[0m\u001b[0;34m'No TPUs exists with the specified names exist.'\u001b[0m\u001b[0;34m)\u001b[0m\u001b[0;34m\u001b[0m\u001b[0m\n",
      "\u001b[0;32m/usr/local/lib/python3.5/dist-packages/tensorflow/contrib/cluster_resolver/python/training/tpu_cluster_resolver.py\u001b[0m in \u001b[0;36mcluster_spec\u001b[0;34m(self)\u001b[0m\n\u001b[1;32m    263\u001b[0m           self._project, self._zone, compat.as_text(self._tpu))\n\u001b[1;32m    264\u001b[0m       \u001b[0mrequest\u001b[0m \u001b[0;34m=\u001b[0m \u001b[0mself\u001b[0m\u001b[0;34m.\u001b[0m\u001b[0m_service\u001b[0m\u001b[0;34m.\u001b[0m\u001b[0mprojects\u001b[0m\u001b[0;34m(\u001b[0m\u001b[0;34m)\u001b[0m\u001b[0;34m.\u001b[0m\u001b[0mlocations\u001b[0m\u001b[0;34m(\u001b[0m\u001b[0;34m)\u001b[0m\u001b[0;34m.\u001b[0m\u001b[0mnodes\u001b[0m\u001b[0;34m(\u001b[0m\u001b[0;34m)\u001b[0m\u001b[0;34m.\u001b[0m\u001b[0mget\u001b[0m\u001b[0;34m(\u001b[0m\u001b[0mname\u001b[0m\u001b[0;34m=\u001b[0m\u001b[0mfull_name\u001b[0m\u001b[0;34m)\u001b[0m\u001b[0;34m\u001b[0m\u001b[0m\n\u001b[0;32m--> 265\u001b[0;31m       \u001b[0mresponse\u001b[0m \u001b[0;34m=\u001b[0m \u001b[0mrequest\u001b[0m\u001b[0;34m.\u001b[0m\u001b[0mexecute\u001b[0m\u001b[0;34m(\u001b[0m\u001b[0;34m)\u001b[0m\u001b[0;34m\u001b[0m\u001b[0m\n\u001b[0m\u001b[1;32m    266\u001b[0m \u001b[0;34m\u001b[0m\u001b[0m\n\u001b[1;32m    267\u001b[0m       \u001b[0;32mif\u001b[0m \u001b[0;34m'state'\u001b[0m \u001b[0;32min\u001b[0m \u001b[0mresponse\u001b[0m \u001b[0;32mand\u001b[0m \u001b[0mresponse\u001b[0m\u001b[0;34m[\u001b[0m\u001b[0;34m'state'\u001b[0m\u001b[0;34m]\u001b[0m \u001b[0;34m!=\u001b[0m \u001b[0;34m'READY'\u001b[0m\u001b[0;34m:\u001b[0m\u001b[0;34m\u001b[0m\u001b[0m\n",
      "\u001b[0;32m/usr/local/lib/python3.5/dist-packages/googleapiclient/_helpers.py\u001b[0m in \u001b[0;36mpositional_wrapper\u001b[0;34m(*args, **kwargs)\u001b[0m\n\u001b[1;32m    128\u001b[0m                 \u001b[0;32melif\u001b[0m \u001b[0mpositional_parameters_enforcement\u001b[0m \u001b[0;34m==\u001b[0m \u001b[0mPOSITIONAL_WARNING\u001b[0m\u001b[0;34m:\u001b[0m\u001b[0;34m\u001b[0m\u001b[0m\n\u001b[1;32m    129\u001b[0m                     \u001b[0mlogger\u001b[0m\u001b[0;34m.\u001b[0m\u001b[0mwarning\u001b[0m\u001b[0;34m(\u001b[0m\u001b[0mmessage\u001b[0m\u001b[0;34m)\u001b[0m\u001b[0;34m\u001b[0m\u001b[0m\n\u001b[0;32m--> 130\u001b[0;31m             \u001b[0;32mreturn\u001b[0m \u001b[0mwrapped\u001b[0m\u001b[0;34m(\u001b[0m\u001b[0;34m*\u001b[0m\u001b[0margs\u001b[0m\u001b[0;34m,\u001b[0m \u001b[0;34m**\u001b[0m\u001b[0mkwargs\u001b[0m\u001b[0;34m)\u001b[0m\u001b[0;34m\u001b[0m\u001b[0m\n\u001b[0m\u001b[1;32m    131\u001b[0m         \u001b[0;32mreturn\u001b[0m \u001b[0mpositional_wrapper\u001b[0m\u001b[0;34m\u001b[0m\u001b[0m\n\u001b[1;32m    132\u001b[0m \u001b[0;34m\u001b[0m\u001b[0m\n",
      "\u001b[0;32m/usr/local/lib/python3.5/dist-packages/googleapiclient/http.py\u001b[0m in \u001b[0;36mexecute\u001b[0;34m(self, http, num_retries)\u001b[0m\n\u001b[1;32m    849\u001b[0m       \u001b[0mcallback\u001b[0m\u001b[0;34m(\u001b[0m\u001b[0mresp\u001b[0m\u001b[0;34m)\u001b[0m\u001b[0;34m\u001b[0m\u001b[0m\n\u001b[1;32m    850\u001b[0m     \u001b[0;32mif\u001b[0m \u001b[0mresp\u001b[0m\u001b[0;34m.\u001b[0m\u001b[0mstatus\u001b[0m \u001b[0;34m>=\u001b[0m \u001b[0;36m300\u001b[0m\u001b[0;34m:\u001b[0m\u001b[0;34m\u001b[0m\u001b[0m\n\u001b[0;32m--> 851\u001b[0;31m       \u001b[0;32mraise\u001b[0m \u001b[0mHttpError\u001b[0m\u001b[0;34m(\u001b[0m\u001b[0mresp\u001b[0m\u001b[0;34m,\u001b[0m \u001b[0mcontent\u001b[0m\u001b[0;34m,\u001b[0m \u001b[0muri\u001b[0m\u001b[0;34m=\u001b[0m\u001b[0mself\u001b[0m\u001b[0;34m.\u001b[0m\u001b[0muri\u001b[0m\u001b[0;34m)\u001b[0m\u001b[0;34m\u001b[0m\u001b[0m\n\u001b[0m\u001b[1;32m    852\u001b[0m     \u001b[0;32mreturn\u001b[0m \u001b[0mself\u001b[0m\u001b[0;34m.\u001b[0m\u001b[0mpostproc\u001b[0m\u001b[0;34m(\u001b[0m\u001b[0mresp\u001b[0m\u001b[0;34m,\u001b[0m \u001b[0mcontent\u001b[0m\u001b[0;34m)\u001b[0m\u001b[0;34m\u001b[0m\u001b[0m\n\u001b[1;32m    853\u001b[0m \u001b[0;34m\u001b[0m\u001b[0m\n",
      "\u001b[0;31mHttpError\u001b[0m: <HttpError 403 when requesting https://tpu.googleapis.com/v1alpha1/projects/jz-cloud-test/locations/us-central1-f/nodes/node-1?alt=json returned \"Request had insufficient authentication scopes.\">"
     ]
    }
   ],
   "source": [
    "cluster_resolver = tf.contrib.cluster_resolver.TPUClusterResolver(\n",
    "    tpu=[\"node-1\"], \n",
    "    zone=\"us-central1-f\", \n",
    "    project=\"jz-cloud-test\"\n",
    ")\n",
    "\n",
    "tpu_run_config = tf.contrib.tpu.RunConfig(\n",
    "    cluster=cluster_resolver, \n",
    "    model_dir=model_dir,\n",
    "    session_config=tf.ConfigProto(allow_soft_placement=True, log_device_placement=True),\n",
    "    tpu_config=tf.contrib.tpu.TPUConfig(100, 8)\n",
    ")  "
   ]
  },
  {
   "cell_type": "code",
   "execution_count": null,
   "metadata": {
    "_uuid": "ac0e304af171a8d292728d743ae39e464da065cf",
    "colab": {},
    "colab_type": "code",
    "id": "2M7LmLtGEMQJ"
   },
   "outputs": [],
   "source": [
    "def runOneEpoch(model, epoch_proportion=1):\n",
    "    start = time.time()\n",
    "    steps_to_take = np.ceil((epoch_proportion_counter+epoch_proportion) * float(TOTAL_NUM)/BATCH_SIZE) - sess.run(global_step)\n",
    "    model.train(input_fn, steps=steps_to_take)\n",
    "    epoch_counter += epoch_proportion\n",
    "    clear_output(wait=True)\n",
    "    print(\"Finished epoch {:.2f}\".format(epoch_counter))\n",
    "\n",
    "    generate_images(model.predict(input_fn)['images'])\n",
    "    # saving (checkpoint) the model every 15 epochs\n",
    "    #if (epoch + 1) % 15 == 0:\n",
    "        #checkpoint.save(file_prefix = checkpoint_prefix)\n",
    "\n",
    "    print('Time taken {} sec'.format(time.time()-start))"
   ]
  },
  {
   "cell_type": "code",
   "execution_count": null,
   "metadata": {},
   "outputs": [],
   "source": [
    "def testAudio(batch, prefix):\n",
    "    specs = sess.run(batch)\n",
    "    for i in range(specs.shape[0]):\n",
    "        spec = specs[i]\n",
    "        mag = spec[:, :, 0]\n",
    "        angles = spec[:, :, 1]\n",
    "        mag = ((mag+1)/2)*48-32\n",
    "        angles = angles*math.pi\n",
    "        ft =(np.exp(mag)-1.2664166e-14)*np.exp(1j*angles)\n",
    "        newaudio = librosa.istft(ft, 512, 2048).astype(np.int16)\n",
    "        #print('Generated audio')\n",
    "        #print('Interval of audio: [{}, {}]'.format(np.amin(newaudio), np.amax(newaudio)))\n",
    "        wavfile.write(\"audio/{}-{}.wav\".format(prefix, i), 16000, newaudio)"
   ]
  },
  {
   "cell_type": "markdown",
   "metadata": {},
   "source": [
    "# Running the model"
   ]
  },
  {
   "cell_type": "code",
   "execution_count": null,
   "metadata": {
    "_kg_hide-output": true,
    "_uuid": "446c1e4d2462906cc5ed888104e549ac86b476b2",
    "colab": {},
    "colab_type": "code",
    "id": "Ly3UN0SLLY2l",
    "scrolled": true
   },
   "outputs": [],
   "source": [
    "model = tf.contrib.tpu.TPUEstimator(model_fn=model_fn, config=tpu_run_config, use_tpu=True)\n",
    "global_step = tf.train.get_or_create_global_step()"
   ]
  },
  {
   "cell_type": "code",
   "execution_count": null,
   "metadata": {},
   "outputs": [],
   "source": [
    "fake_images, real_images = model.predict(input_fn)\n",
    "print(fake_images)\n",
    "print(type(prediction))\n",
    "generate_images(model.predict(input_fn), source='real', save=False)"
   ]
  },
  {
   "cell_type": "code",
   "execution_count": null,
   "metadata": {
    "scrolled": true
   },
   "outputs": [],
   "source": [
    "# Waits for another program to remove the .lock file before continuing execution\n",
    "!rm .lock\n",
    "# Comment out next line to disable lock\n",
    "# !touch .lock\n",
    "while(subprocess.check_output('test -f .lock ; echo $?', shell=True).decode('utf-8')[0]=='0'):\n",
    "    time.sleep(5)\n",
    "print('Unlocked', end='\\r')\n",
    "\n",
    "while True:\n",
    "        runOneEpoch(model, 0.0001)"
   ]
  },
  {
   "cell_type": "code",
   "execution_count": null,
   "metadata": {},
   "outputs": [],
   "source": [
    "print(sess.run(images).shape)"
   ]
  },
  {
   "cell_type": "code",
   "execution_count": null,
   "metadata": {},
   "outputs": [],
   "source": [
    "testAudio(images, \"real\")\n",
    "testAudio(generated, \"fake\")"
   ]
  },
  {
   "cell_type": "code",
   "execution_count": null,
   "metadata": {},
   "outputs": [],
   "source": [
    "while(kernel is dead):\n",
    "    plant_a_new_seed()"
   ]
  }
 ],
 "metadata": {
  "accelerator": "GPU",
  "colab": {
   "collapsed_sections": [],
   "name": "dcgan.ipynb",
   "private_outputs": true,
   "provenance": [
    {
     "file_id": "1eb0NOTQapkYs3X0v-zL1x5_LFKgDISnp",
     "timestamp": 1527173385672
    }
   ],
   "toc_visible": true,
   "version": "0.3.2"
  },
  "kernelspec": {
   "display_name": "Python 3",
   "language": "python",
   "name": "python3"
  },
  "language_info": {
   "codemirror_mode": {
    "name": "ipython",
    "version": 3
   },
   "file_extension": ".py",
   "mimetype": "text/x-python",
   "name": "python",
   "nbconvert_exporter": "python",
   "pygments_lexer": "ipython3",
   "version": "3.5.3"
  }
 },
 "nbformat": 4,
 "nbformat_minor": 1
}
