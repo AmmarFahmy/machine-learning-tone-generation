{
 "cells": [
  {
   "cell_type": "code",
   "execution_count": 1,
   "metadata": {},
   "outputs": [
    {
     "name": "stdout",
     "output_type": "stream",
     "text": [
      "Kernel is up\n"
     ]
    }
   ],
   "source": [
    "print(\"Kernel is up\")"
   ]
  },
  {
   "cell_type": "code",
   "execution_count": 2,
   "metadata": {},
   "outputs": [
    {
     "name": "stdout",
     "output_type": "stream",
     "text": [
      "Finished imports\n"
     ]
    }
   ],
   "source": [
    "from __future__ import absolute_import, division, print_function\n",
    "\n",
    "# Import TensorFlow >= 1.10 and enable eager execution\n",
    "import tensorflow as tf\n",
    "tf.enable_eager_execution()\n",
    "\n",
    "import librosa\n",
    "import os\n",
    "import time\n",
    "import numpy as np\n",
    "import glob\n",
    "import matplotlib.pyplot as plt\n",
    "import librosa\n",
    "#import simpleaudio as sa\n",
    "import math\n",
    "from IPython import display\n",
    "import sys\n",
    "\n",
    "print(\"Finished imports\")"
   ]
  },
  {
   "cell_type": "code",
   "execution_count": 5,
   "metadata": {
    "scrolled": true
   },
   "outputs": [
    {
     "name": "stdout",
     "output_type": "stream",
     "text": [
      "Starting file 0\n",
      "Skipped 57517                          \n",
      "Finished 1920 out of 1920\n",
      "\n",
      "Starting file 1\n",
      "Finished 1920 out of 1920\n",
      "\n",
      "Starting file 2\n",
      "Finished 1920 out of 1920\n",
      "\n",
      "Starting file 3\n",
      "Skipped 116399                         \n",
      "Skipped 160291                         \n",
      "Finished 1920 out of 1920\n",
      "\n",
      "Starting file 4\n",
      "Finished 1920 out of 1920\n",
      "\n",
      "Starting file 5\n",
      "Finished 1920 out of 1920\n",
      "\n",
      "Starting file 6\n",
      "Finished 1920 out of 1920\n",
      "\n",
      "Starting file 7\n",
      "Skipped 166539                         \n",
      "Finished 1920 out of 1920\n",
      "\n",
      "Starting file 8\n",
      "Finished 1920 out of 1920\n",
      "\n",
      "Starting file 9\n",
      "Finished 1920 out of 1920\n",
      "\n",
      "Starting file 10\n",
      "Finished 1920 out of 1920\n",
      "\n",
      "Starting file 11\n",
      "Finished 1920 out of 1920\n",
      "\n",
      "Starting file 12\n",
      "Finished 1920 out of 1920\n",
      "\n",
      "Starting file 13\n",
      "Finished 1920 out of 1920\n",
      "\n",
      "Starting file 14\n",
      "Finished 1920 out of 1920\n",
      "\n",
      "Starting file 15\n",
      "Skipped 177400                         \n",
      "Finished 1920 out of 1920\n",
      "\n",
      "Starting file 16\n",
      "Finished 1920 out of 1920\n",
      "\n",
      "Starting file 17\n",
      "Finished 1920 out of 1920\n",
      "\n",
      "Starting file 18\n",
      "Skipped 198126                         \n",
      "Skipped 205724                         \n",
      "Skipped 208193                         \n",
      "Skipped 233545                         \n",
      "Finished 1920 out of 1920\n",
      "\n",
      "Starting file 19\n",
      "Finished 1920 out of 1920\n",
      "\n",
      "Starting file 20\n",
      "Finished 1920 out of 1920\n",
      "\n",
      "Starting file 21\n",
      "Finished 1920 out of 1920\n",
      "\n",
      "Starting file 22\n",
      "Finished 1920 out of 1920\n",
      "\n",
      "Starting file 23\n",
      "Finished 1920 out of 1920\n",
      "\n",
      "Starting file 24\n",
      "Skipped 237365                         \n",
      "Finished 1920 out of 1920\n",
      "\n",
      "Starting file 25\n",
      "Finished 1920 out of 1920\n",
      "\n",
      "Starting file 26\n",
      "Finished 1920 out of 1920\n",
      "\n",
      "\n",
      "Done\n"
     ]
    },
    {
     "ename": "NameError",
     "evalue": "name 'total_skipped' is not defined",
     "output_type": "error",
     "traceback": [
      "\u001b[0;31m---------------------------------------------------------------------------\u001b[0m",
      "\u001b[0;31mNameError\u001b[0m                                 Traceback (most recent call last)",
      "\u001b[0;32m<ipython-input-5-fc225fb8fa38>\u001b[0m in \u001b[0;36m<module>\u001b[0;34m\u001b[0m\n\u001b[1;32m     94\u001b[0m \u001b[0;34m\u001b[0m\u001b[0m\n\u001b[1;32m     95\u001b[0m \u001b[0mprint\u001b[0m\u001b[0;34m(\u001b[0m\u001b[0;34m\"\\nDone\"\u001b[0m\u001b[0;34m)\u001b[0m\u001b[0;34m\u001b[0m\u001b[0m\n\u001b[0;32m---> 96\u001b[0;31m \u001b[0mprint\u001b[0m\u001b[0;34m(\u001b[0m\u001b[0;34m\"Total: {}\"\u001b[0m\u001b[0;34m.\u001b[0m\u001b[0mformat\u001b[0m\u001b[0;34m(\u001b[0m\u001b[0mtotal_skipped\u001b[0m\u001b[0;34m)\u001b[0m\u001b[0;34m)\u001b[0m\u001b[0;34m\u001b[0m\u001b[0m\n\u001b[0m",
      "\u001b[0;31mNameError\u001b[0m: name 'total_skipped' is not defined"
     ]
    }
   ],
   "source": [
    "# Converting into spectrograms\n",
    "# Spectrograms are stored into spectrograms.tfrecord\n",
    "\n",
    "data_per_file = 1920\n",
    "total_files = 27\n",
    "nsynth = iter(tf.data.TFRecordDataset(\"gs://jz-datasets/nsynth/train.tfrecord\"))\n",
    "total_passed = 0\n",
    "def acousticOnly():\n",
    "    global total_passed\n",
    "    i = 0\n",
    "    just_skipped = False\n",
    "    while(True):\n",
    "        try: \n",
    "            data = next(nsynth)\n",
    "        except:\n",
    "            break\n",
    "        data = tf.parse_single_example(serialized=data, features=read_features)\n",
    "        family = data['instrument_family'].numpy();\n",
    "        if(data['instrument_source'].numpy()==0 and (family in [1, 2, 6, 7, 8])):\n",
    "            if(just_skipped):\n",
    "                print(\"Skipped {}\".format(i))\n",
    "            just_skipped = False\n",
    "            total_passed += 1\n",
    "            yield data\n",
    "        else:\n",
    "            if(not(just_skipped)):\n",
    "                print(\"                                       \", end='\\r')\n",
    "            i += 1\n",
    "            if(i % 500 == 0):\n",
    "                print(\"Skipped {}\".format(i), end=\"\\r\")\n",
    "            just_skipped = True\n",
    "\n",
    "record = acousticOnly()\n",
    "\n",
    "read_features = {\n",
    "    'note': tf.FixedLenFeature([], dtype=tf.int64),\n",
    "    'note_str': tf.FixedLenFeature([], dtype=tf.string),\n",
    "    'instrument': tf.FixedLenFeature([], dtype=tf.int64),\n",
    "    'instrument_str': tf.FixedLenFeature([], dtype=tf.string),\n",
    "    'pitch': tf.FixedLenFeature([], dtype=tf.int64),\n",
    "    'velocity': tf.FixedLenFeature([], dtype=tf.int64),\n",
    "    'sample_rate': tf.FixedLenFeature([], dtype=tf.int64),\n",
    "    'audio': tf.VarLenFeature(dtype=float),\n",
    "    'instrument_family': tf.FixedLenFeature([], dtype=tf.int64),\n",
    "    'instrument_family_str': tf.FixedLenFeature([], dtype=tf.string),\n",
    "    'instrument_source': tf.FixedLenFeature([], dtype=tf.int64),\n",
    "    'instrument_source_str': tf.FixedLenFeature([], dtype=tf.string)\n",
    "}\n",
    "\n",
    "start_on_file = 0\n",
    "for i in range(data_per_file*start_on_file):\n",
    "    if(i % 200 == 0):\n",
    "        print(\"Skipped {} out of {}\".format(i, data_per_file*start_on_file), end='\\r')\n",
    "    next(record)\n",
    "if(start_on_file != 0):\n",
    "    print(\"Skipped {} out of {}\".format(data_per_file*start_on_file, data_per_file*start_on_file))\n",
    "    \n",
    "for i in range(total_files):\n",
    "    if(i < start_on_file):\n",
    "        continue\n",
    "    print(\"Starting file {}\".format(i))\n",
    "    with tf.python_io.TFRecordWriter('gs://jz-datasets/spec-pruned-files/spectrograms{}.tfrecord'.format(i)) as writer:\n",
    "        total = 0\n",
    "        for _ in range(data_per_file):\n",
    "            total += 1\n",
    "            data = next(record)\n",
    "            audio = data['audio'].values.numpy()*15000\n",
    "            audio = np.array(audio)\n",
    "            spec = librosa.stft(audio, 254, 127)\n",
    "            magnitudes = np.log(np.abs(spec) + 1.2664166e-14).reshape(1, 128, 504)\n",
    "            phases = np.angle(spec).reshape(1, 128, 504)\n",
    "            magnitudes = 2*(magnitudes+32)/(16+32)-1\n",
    "            spec = np.concatenate([magnitudes, tf.cos(phases), tf.sin(phases)], 0).flatten().tolist()\n",
    "            example = tf.train.Example(features=tf.train.Features(feature={\n",
    "                'note': tf.train.Feature(int64_list=tf.train.Int64List(value=[data['note'].numpy()])),\n",
    "                'note_str': tf.train.Feature(bytes_list=tf.train.BytesList(value=[data['note_str'].numpy()])),\n",
    "                'instrument': tf.train.Feature(int64_list=tf.train.Int64List(value=[data['instrument'].numpy()])),\n",
    "                'instrument_str': tf.train.Feature(bytes_list=tf.train.BytesList(value=[data['instrument_str'].numpy()])),\n",
    "                'pitch': tf.train.Feature(int64_list=tf.train.Int64List(value=[data['pitch'].numpy()])),\n",
    "                'velocity': tf.train.Feature(int64_list=tf.train.Int64List(value=[data['velocity'].numpy()])),\n",
    "                'sample_rate': tf.train.Feature(int64_list=tf.train.Int64List(value=[data['sample_rate'].numpy()])),\n",
    "                'spectrogram': tf.train.Feature(float_list=tf.train.FloatList(value=spec)),\n",
    "                'instrument_family': tf.train.Feature(int64_list=tf.train.Int64List(value=[data['instrument_family'].numpy()])),\n",
    "                'instrument_family_str': tf.train.Feature(bytes_list=tf.train.BytesList(value=[data['instrument_family_str'].numpy()])),\n",
    "                'instrument_source': tf.train.Feature(int64_list=tf.train.Int64List(value=[data['instrument_source'].numpy()])),\n",
    "                'instrument_source_str': tf.train.Feature(bytes_list=tf.train.BytesList(value=[data['instrument_source_str'].numpy()]))\n",
    "            }))\n",
    "\n",
    "            writer.write(example.SerializeToString())\n",
    "            if(total % 20 == 0):\n",
    "                print(\"Finished {} out of {}\".format(total, data_per_file), end='\\r')\n",
    "        print(\"Finished {} out of {}\".format(data_per_file, data_per_file))\n",
    "        print()\n",
    "            \n",
    "print(\"\\nDone\")\n",
    "print(\"Total: {}\".format(total_skipped))"
   ]
  },
  {
   "cell_type": "code",
   "execution_count": 16,
   "metadata": {},
   "outputs": [
    {
     "name": "stdout",
     "output_type": "stream",
     "text": [
      "rm: cannot remove '.lock': No such file or directory\r\n"
     ]
    }
   ],
   "source": [
    "!rm .lock"
   ]
  },
  {
   "cell_type": "code",
   "execution_count": 4,
   "metadata": {},
   "outputs": [
    {
     "name": "stdout",
     "output_type": "stream",
     "text": [
      "51840\n"
     ]
    }
   ],
   "source": [
    "print(total_passed)"
   ]
  },
  {
   "cell_type": "code",
   "execution_count": null,
   "metadata": {},
   "outputs": [],
   "source": []
  }
 ],
 "metadata": {
  "kernelspec": {
   "display_name": "Python 3",
   "language": "python",
   "name": "python3"
  },
  "language_info": {
   "codemirror_mode": {
    "name": "ipython",
    "version": 3
   },
   "file_extension": ".py",
   "mimetype": "text/x-python",
   "name": "python",
   "nbconvert_exporter": "python",
   "pygments_lexer": "ipython3",
   "version": "3.7.1"
  }
 },
 "nbformat": 4,
 "nbformat_minor": 2
}
