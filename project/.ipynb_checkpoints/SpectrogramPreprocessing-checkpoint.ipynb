{
 "cells": [
  {
   "cell_type": "code",
   "execution_count": 1,
   "metadata": {},
   "outputs": [
    {
     "name": "stdout",
     "output_type": "stream",
     "text": [
      "Finished imports\n"
     ]
    }
   ],
   "source": [
    "from __future__ import absolute_import, division, print_function\n",
    "\n",
    "# Import TensorFlow >= 1.10 and enable eager execution\n",
    "import tensorflow as tf\n",
    "tf.enable_eager_execution()\n",
    "\n",
    "import librosa\n",
    "import os\n",
    "import time\n",
    "import numpy as np\n",
    "import glob\n",
    "import matplotlib.pyplot as plt\n",
    "import librosa\n",
    "#import simpleaudio as sa\n",
    "import math\n",
    "from IPython import display\n",
    "import sys\n",
    "\n",
    "print(\"Finished imports\")"
   ]
  },
  {
   "cell_type": "code",
   "execution_count": null,
   "metadata": {
    "scrolled": true
   },
   "outputs": [
    {
     "name": "stdout",
     "output_type": "stream",
     "text": [
      "Starting file 0\n",
      "Finished 1780 out of 2919\r"
     ]
    }
   ],
   "source": [
    "# Converting into spectrograms\n",
    "# Spectrograms are stored into spectrograms.tfrecord\n",
    "nsynth = iter(tf.data.TFRecordDataset(\"gs://jz-datasets/spectrograms.tfrecord\"))\n",
    "\n",
    "read_features = {\n",
    "    'note': tf.FixedLenFeature([], dtype=tf.int64),\n",
    "    'note_str': tf.FixedLenFeature([], dtype=tf.string),\n",
    "    'instrument': tf.FixedLenFeature([], dtype=tf.int64),\n",
    "    'instrument_str': tf.FixedLenFeature([], dtype=tf.string),\n",
    "    'pitch': tf.FixedLenFeature([], dtype=tf.int64),\n",
    "    'velocity': tf.FixedLenFeature([], dtype=tf.int64),\n",
    "    'sample_rate': tf.FixedLenFeature([], dtype=tf.int64),\n",
    "    'spectrogram': tf.FixedLenFeature([257024], dtype=tf.float32),\n",
    "    'instrument_family': tf.FixedLenFeature([], dtype=tf.int64),\n",
    "    'instrument_family_str': tf.FixedLenFeature([], dtype=tf.string),\n",
    "    'instrument_source': tf.FixedLenFeature([], dtype=tf.int64),\n",
    "    'instrument_source_str': tf.FixedLenFeature([], dtype=tf.string)\n",
    "}\n",
    "\n",
    "# 2919 per epoch\n",
    "start_on_file = 0\n",
    "for i in range(2919*start_on_file):\n",
    "    if(i % 200 == 0):\n",
    "        print(\"Skipped {} out of {}\".format(i, 2919*start_on_file), end='\\r')\n",
    "    next(nsynth)\n",
    "if(start_on_file != 0):\n",
    "    print(\"Skipped {} out of {}\".format(2919*start_on_file, 2919*start_on_file))\n",
    "    \n",
    "for i in range(35):\n",
    "    if(i < start_on_file):\n",
    "        continue\n",
    "    print(\"Starting file {}\".format(i))\n",
    "    with tf.python_io.TFRecordWriter('gs://jz-datasets/spec-files/spectrograms{}.tfrecord'.format(i)) as writer:\n",
    "        total = 0\n",
    "        for _ in range(2919):\n",
    "            total += 1\n",
    "            data = tf.parse_single_example(serialized=next(nsynth), features=read_features)\n",
    "            spec = tf.reshape(data['spectrogram'], (2, 512, 251))\n",
    "            magnitudes = tf.reshape(spec[0], (1, 512, 251))\n",
    "            phases = tf.reshape(spec[1], (1, 512, 251))\n",
    "            phases *= math.pi\n",
    "            spec = np.concatenate([magnitudes, tf.cos(phases), tf.sin(phases)], 0).flatten().tolist()\n",
    "            example = tf.train.Example(features=tf.train.Features(feature={\n",
    "                'note': tf.train.Feature(int64_list=tf.train.Int64List(value=[data['note'].numpy()])),\n",
    "                'note_str': tf.train.Feature(bytes_list=tf.train.BytesList(value=[data['note_str'].numpy()])),\n",
    "                'instrument': tf.train.Feature(int64_list=tf.train.Int64List(value=[data['instrument'].numpy()])),\n",
    "                'instrument_str': tf.train.Feature(bytes_list=tf.train.BytesList(value=[data['instrument_str'].numpy()])),\n",
    "                'pitch': tf.train.Feature(int64_list=tf.train.Int64List(value=[data['pitch'].numpy()])),\n",
    "                'velocity': tf.train.Feature(int64_list=tf.train.Int64List(value=[data['velocity'].numpy()])),\n",
    "                'sample_rate': tf.train.Feature(int64_list=tf.train.Int64List(value=[data['sample_rate'].numpy()])),\n",
    "                'spectrogram': tf.train.Feature(float_list=tf.train.FloatList(value=spec)),\n",
    "                'instrument_family': tf.train.Feature(int64_list=tf.train.Int64List(value=[data['instrument_family'].numpy()])),\n",
    "                'instrument_family_str': tf.train.Feature(bytes_list=tf.train.BytesList(value=[data['instrument_family_str'].numpy()])),\n",
    "                'instrument_source': tf.train.Feature(int64_list=tf.train.Int64List(value=[data['instrument_source'].numpy()])),\n",
    "                'instrument_source_str': tf.train.Feature(bytes_list=tf.train.BytesList(value=[data['instrument_source_str'].numpy()]))\n",
    "            }))\n",
    "\n",
    "            writer.write(example.SerializeToString())\n",
    "            if(total % 20 == 0):\n",
    "                print(\"Finished {} out of {}\".format(total, 2919), end='\\r')\n",
    "        print()\n",
    "            \n",
    "print(\"\\nDone\")"
   ]
  },
  {
   "cell_type": "code",
   "execution_count": 16,
   "metadata": {},
   "outputs": [
    {
     "name": "stdout",
     "output_type": "stream",
     "text": [
      "rm: cannot remove '.lock': No such file or directory\r\n"
     ]
    }
   ],
   "source": [
    "!rm .lock"
   ]
  }
 ],
 "metadata": {
  "kernelspec": {
   "display_name": "Python 3",
   "language": "python",
   "name": "python3"
  },
  "language_info": {
   "codemirror_mode": {
    "name": "ipython",
    "version": 3
   },
   "file_extension": ".py",
   "mimetype": "text/x-python",
   "name": "python",
   "nbconvert_exporter": "python",
   "pygments_lexer": "ipython3",
   "version": "3.5.3"
  }
 },
 "nbformat": 4,
 "nbformat_minor": 2
}
