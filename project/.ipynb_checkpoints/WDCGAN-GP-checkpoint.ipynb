{
 "cells": [
  {
   "cell_type": "markdown",
   "metadata": {},
   "source": [
    "# WGAN-GP with DCGAN layers\n",
    "Code is mainly based upon the DCGAN implementation in the TensorFlow tutorials"
   ]
  },
  {
   "cell_type": "code",
   "execution_count": 1,
   "metadata": {
    "_uuid": "36af9c2edba178f04e989ca2a5935878caf7b0c4",
    "colab": {},
    "colab_type": "code",
    "id": "YfIk2es3hJEd"
   },
   "outputs": [
    {
     "name": "stderr",
     "output_type": "stream",
     "text": [
      "C:\\Users\\1002983\\AppData\\Local\\Continuum\\anaconda3\\lib\\site-packages\\h5py\\__init__.py:36: FutureWarning: Conversion of the second argument of issubdtype from `float` to `np.floating` is deprecated. In future, it will be treated as `np.float64 == np.dtype(float).type`.\n",
      "  from ._conv import register_converters as _register_converters\n"
     ]
    }
   ],
   "source": [
    "from __future__ import absolute_import, division, print_function\n",
    "\n",
    "import tensorflow as tf\n",
    "#import memory_saving_gradients\n",
    "# monkey patch tf.gradients to point to our custom version, with automatic checkpoint selection\n",
    "#tf.__dict__[\"gradients\"] = memory_saving_gradients.gradients_memory\n",
    "import librosa\n",
    "import os\n",
    "import time\n",
    "import numpy as np\n",
    "import matplotlib.pyplot as plt\n",
    "import PIL\n",
    "#import imageio\n",
    "import simpleaudio as sa\n",
    "import math\n",
    "import gc\n",
    "from IPython import display\n",
    "import time\n",
    "import scipy.io.wavfile as wavfile\n",
    "from IPython.display import clear_output, Image, display, HTML\n",
    "from tensorflow.layers import dense, conv2d, conv2d_transpose, flatten, batch_normalization\n",
    "from tensorflow.nn import relu, leaky_relu\n",
    "from tensorflow.image import resize_images, ResizeMethod"
   ]
  },
  {
   "cell_type": "code",
   "execution_count": 2,
   "metadata": {},
   "outputs": [],
   "source": [
    "config = tf.ConfigProto()\n",
    "config.gpu_options.allow_growth = True\n",
    "sess = tf.Session(config=config)"
   ]
  },
  {
   "cell_type": "code",
   "execution_count": 3,
   "metadata": {},
   "outputs": [],
   "source": [
    "def playAudio(audio, sr):\n",
    "    audio = audio.astype(np.int16)\n",
    "    play_obj = sa.play_buffer(audio, 1, 2, sr)\n",
    "    play_obj.wait_done()"
   ]
  },
  {
   "cell_type": "markdown",
   "metadata": {},
   "source": [
    "# Hyperparameters"
   ]
  },
  {
   "cell_type": "code",
   "execution_count": 4,
   "metadata": {
    "_uuid": "cbe0b356b41cbdeb6751dfde003e8590cb68586b",
    "colab": {},
    "colab_type": "code",
    "id": "NS2GWywBbAWo"
   },
   "outputs": [],
   "source": [
    "# Number for large nsynth-train dataset\n",
    "TOTAL_NUM = 102165\n",
    "# Number for small nsynth-test dataset\n",
    "# TOTAL_NUM = 1689\n",
    "BUFFER_SIZE = 2048\n",
    "BATCH_SIZE = 45\n",
    "PREFETCH_BUFFER_SIZE = BATCH_SIZE\n",
    "# EPOCHS = 150\n",
    "LAMBDA = 10\n",
    "ALPHA = 0.0002\n",
    "BETA1 = 0.5\n",
    "BETA2 = 0.999\n",
    "CRITIC_UPDATES_PER_GEN_UPDATE = 5\n",
    "noise_dim = 100\n",
    "num_examples_to_generate = 16\n",
    "# keeping the random vector constant for generation (prediction) so\n",
    "# it will be easier to see the improvement of the gan.\n",
    "random_vector_for_generation = tf.Variable(tf.random_normal([num_examples_to_generate,\n",
    "                                                 noise_dim]))"
   ]
  },
  {
   "cell_type": "markdown",
   "metadata": {},
   "source": [
    "# Make a dataset using TensorFlow's input pipeline"
   ]
  },
  {
   "cell_type": "code",
   "execution_count": 5,
   "metadata": {},
   "outputs": [],
   "source": [
    "# Reading spectrograms from TFRecord file, making dataset\n",
    "read_features = {\n",
    "    'note': tf.FixedLenFeature([], dtype=tf.int64),\n",
    "    'note_str': tf.FixedLenFeature([], dtype=tf.string),\n",
    "    'instrument': tf.FixedLenFeature([], dtype=tf.int64),\n",
    "    'instrument_str': tf.FixedLenFeature([], dtype=tf.string),\n",
    "    'pitch': tf.FixedLenFeature([], dtype=tf.int64),\n",
    "    'velocity': tf.FixedLenFeature([], dtype=tf.int64),\n",
    "    'sample_rate': tf.FixedLenFeature([], dtype=tf.int64),\n",
    "    'spectrogram': tf.FixedLenFeature([257526], dtype=float),\n",
    "    'instrument_family': tf.FixedLenFeature([], dtype=tf.int64),\n",
    "    'instrument_family_str': tf.FixedLenFeature([], dtype=tf.string),\n",
    "    'instrument_source': tf.FixedLenFeature([], dtype=tf.int64),\n",
    "    'instrument_source_str': tf.FixedLenFeature([], dtype=tf.string)\n",
    "}\n",
    "\n",
    "def _map(raw_data):\n",
    "    return tf.reshape(tf.parse_single_example(serialized=raw_data, features=read_features)['spectrogram'], [2, 513, 251])\n",
    "\n",
    "specs = tf.data.TFRecordDataset(\"spectrograms.tfrecord\")\n",
    "specs = specs.apply(tf.data.experimental.shuffle_and_repeat(buffer_size=BUFFER_SIZE))\n",
    "specs = specs.map(map_func=_map, num_parallel_calls=-1)\n",
    "specs = specs.batch(batch_size=BATCH_SIZE)\n",
    "specs = specs.prefetch(buffer_size=PREFETCH_BUFFER_SIZE)"
   ]
  },
  {
   "cell_type": "code",
   "execution_count": 6,
   "metadata": {},
   "outputs": [],
   "source": [
    "# temporary test cell to test for memory issues\n",
    "# iterator = specs.make_one_shot_iterator()\n",
    "# real_images = iterator.get_next()\n",
    "# while(True):\n",
    "#     sess.run(real_images)\n",
    "#     gc.collect()\n",
    "#     print(\"-\", end='')"
   ]
  },
  {
   "cell_type": "markdown",
   "metadata": {},
   "source": [
    "# Define models"
   ]
  },
  {
   "cell_type": "code",
   "execution_count": 7,
   "metadata": {
    "_uuid": "f50d15ea77525e355d3b1cca08240a3d920fec3a",
    "colab": {},
    "colab_type": "code",
    "id": "VGLbvBEmjK0a"
   },
   "outputs": [],
   "source": [
    "# output = (input - 1) * stride + filter\n",
    "# Desired: 513x251\n",
    "class Generator():\n",
    "    def __init__(self):\n",
    "        with tf.variable_scope(\"Generator\", reuse=tf.AUTO_REUSE):\n",
    "            self.layer_list = [\n",
    "                lambda x: dense(x, 32*32*64),\n",
    "                relu,\n",
    "                lambda x: tf.reshape(x, shape=(-1, 32, 32, 64)),\n",
    "                \n",
    "                lambda x: tf.transpose(resize_images(x, [32, 32], ResizeMethod.NEAREST_NEIGHBOR), [0, 3, 1, 2]),\n",
    "                lambda x: conv2d_transpose(x, 64, 5, 1, 'same', 'channels_first'),\n",
    "                relu,\n",
    "                \n",
    "                lambda x: tf.transpose(resize_images(tf.transpose(x, [0, 2, 3, 1]), [64, 32], ResizeMethod.NEAREST_NEIGHBOR), [0, 3, 1, 2]),\n",
    "                lambda x: conv2d_transpose(x, 32, 5, 1, 'same', 'channels_first'),\n",
    "                relu,\n",
    "                \n",
    "                lambda x: tf.transpose(resize_images(tf.transpose(x, [0, 2, 3, 1]), [128, 64], ResizeMethod.NEAREST_NEIGHBOR), [0, 3, 1, 2]),\n",
    "                lambda x: conv2d_transpose(x, 16, 5, 1, 'same', 'channels_first'),\n",
    "                relu,\n",
    "                \n",
    "                lambda x: tf.transpose(resize_images(tf.transpose(x, [0, 2, 3, 1]), [256, 128], ResizeMethod.NEAREST_NEIGHBOR), [0, 3, 1, 2]),\n",
    "                lambda x: conv2d_transpose(x, 8, 5, 1, 'same', 'channels_first'),\n",
    "                relu,\n",
    "                \n",
    "                lambda x: tf.transpose(resize_images(tf.transpose(x, [0, 2, 3, 1]), [513, 251], ResizeMethod.NEAREST_NEIGHBOR), [0, 3, 1, 2]),\n",
    "                #lambda x: conv2d_transpose(x, 16, 5, 1, 'same', 'channels_first'),\n",
    "                #relu,\n",
    "                #lambda x: conv2d_transpose(x, 8, 5, 1, 'same', 'channels_first'),\n",
    "                #relu,\n",
    "                lambda x: conv2d_transpose(x, 2, 5, 1, 'same', 'channels_first'),\n",
    "                tf.nn.tanh\n",
    "                # 513x251\n",
    "            ]\n",
    "        \n",
    "    def __call__(self, x, training=True):\n",
    "        with tf.variable_scope(\"Generator\", reuse=tf.AUTO_REUSE):\n",
    "            for layer in self.layer_list:\n",
    "                x = layer(x)\n",
    "                #print(x.shape)\n",
    "            return x"
   ]
  },
  {
   "cell_type": "code",
   "execution_count": 8,
   "metadata": {
    "_uuid": "f50d15ea77525e355d3b1cca08240a3d920fec3a",
    "colab": {},
    "colab_type": "code",
    "id": "VGLbvBEmjK0a"
   },
   "outputs": [],
   "source": [
    "\"\"\"# output = (input - 1) * stride + filter\n",
    "# Desired: 513x251\n",
    "class Generator():\n",
    "    def __init__(self):\n",
    "        with tf.variable_scope(\"Generator\"):\n",
    "            self.fc1 = tf.layers.Dense(30*30*128, use_bias=False)\n",
    "            self.batchnorm1 = tf.layers.BatchNormalization()\n",
    "            # 13x12\n",
    "            self.conv1 = tf.layers.Conv2DTranspose(64, (7, 7), strides=(2, 1), padding='same', use_bias=False, data_format=\"channels_first\")\n",
    "            self.batchnorm2 = tf.layers.BatchNormalization(axis=1)\n",
    "            # 26x12\n",
    "            self.conv2 = tf.layers.Conv2DTranspose(32, (5, 6), strides=(2, 2), padding='valid', use_bias=False, data_format=\"channels_first\")\n",
    "            self.batchnorm3 = tf.layers.BatchNormalization(axis=1)\n",
    "            # 55x28\n",
    "            self.conv3 = tf.layers.Conv2DTranspose(32, (7, 6), strides=(3, 2), padding='valid', use_bias=False, data_format=\"channels_first\")\n",
    "            self.batchnorm4 = tf.layers.BatchNormalization(axis=1)\n",
    "            # 169x60\n",
    "            self.conv4 = tf.layers.Conv2DTranspose(2, (3, 2), strides=(1, 1), padding='valid', use_bias=False, data_format=\"channels_first\")\n",
    "            # 513x251\n",
    "        \n",
    "    def __call__(self, x, training=True):\n",
    "        with tf.variable_scope(\"Generator\"):\n",
    "            #print(\"Input shape: {}\".format(x.shape))\n",
    "            x = dense(x, 30*30*128)\n",
    "            x = relu(x)\n",
    "            x = tf.reshape(x, shape=(-1, 128, 30, 30))\n",
    "            #print(\"Shape after project and reshape: {}\".format(x.shape))\n",
    "            x = resize_images(x, )\n",
    "            x = self.batchnorm2(x, training=training)\n",
    "            x = tf.nn.relu(x)\n",
    "            #print(\"Shape after conv1: {}\".format(x.shape))\n",
    "            x = self.conv2(x)\n",
    "            x = self.batchnorm3(x, training=training)\n",
    "            x = tf.nn.relu(x)\n",
    "            #print(\"Shape after conv2: {}\".format(x.shape))\n",
    "            x = self.conv3(x)\n",
    "            x = self.batchnorm4(x, training=training)\n",
    "            x = tf.nn.relu(x)\n",
    "            #print(\"Shape after conv3: {}\".format(x.shape))\n",
    "            x = tf.nn.tanh()\n",
    "            x = tf.nn.tanh(self.conv4(x))  \n",
    "            #print(\"Final shape after conv4: {}\".format(x.shape))\n",
    "            return x\"\"\"\n",
    "None"
   ]
  },
  {
   "cell_type": "code",
   "execution_count": 9,
   "metadata": {},
   "outputs": [],
   "source": [
    "# Used to test generator layers' sizes\n",
    "# testGen = Generator()\n",
    "# testGen(tf.random_normal([BATCH_SIZE, noise_dim]))"
   ]
  },
  {
   "cell_type": "code",
   "execution_count": 10,
   "metadata": {
    "_uuid": "92507e1426e5d24567fc5ff7e982a512826046f6",
    "colab": {},
    "colab_type": "code",
    "id": "bkOfJxk5j5Hi"
   },
   "outputs": [],
   "source": [
    "class Critic():\n",
    "    def __init__(self):\n",
    "        with tf.variable_scope(\"Critic\"):\n",
    "            self.conv1 = tf.layers.Conv2D(32, (7, 7), strides=(1, 1), padding='same', data_format=\"channels_first\")\n",
    "            self.conv2 = tf.layers.Conv2D(64, (5, 5), strides=(2, 2), padding='same', data_format=\"channels_first\")\n",
    "            self.conv3 = tf.layers.Conv2D(128, (5, 5), strides=(2, 2), padding='same', data_format=\"channels_first\")\n",
    "            self.flatten = tf.layers.Flatten()\n",
    "            self.fc1 = tf.layers.Dense(1, activation=None)\n",
    "\n",
    "    def __call__(self, x, training=True):\n",
    "        with tf.variable_scope(\"Critic\"):\n",
    "            x = tf.nn.leaky_relu(self.conv1(x))\n",
    "            x = tf.nn.leaky_relu(self.conv2(x))\n",
    "            x = tf.nn.leaky_relu(self.conv3(x))\n",
    "            x = self.flatten(x)\n",
    "            #print(x.shape)\n",
    "            x = self.fc1(x)\n",
    "            #print(x.shape)\n",
    "            #print(\"Critic operations finished\")\n",
    "            return x"
   ]
  },
  {
   "cell_type": "code",
   "execution_count": 11,
   "metadata": {
    "_uuid": "47ae70cfe471b80ac827a5772bcba07ec890450f",
    "colab": {},
    "colab_type": "code",
    "id": "wkMNfBWlT-PV"
   },
   "outputs": [],
   "source": [
    "def critic_loss(real_output, generated_output):\n",
    "    return real_output - generated_output"
   ]
  },
  {
   "cell_type": "code",
   "execution_count": 12,
   "metadata": {
    "_uuid": "df009f9802ad5e4ecca74e113a4501340029bba3",
    "colab": {},
    "colab_type": "code",
    "id": "90BIcCKcDMxz"
   },
   "outputs": [],
   "source": [
    "def generator_loss(generated_output):\n",
    "    return -1*generated_output"
   ]
  },
  {
   "cell_type": "markdown",
   "metadata": {},
   "source": [
    "# Defining training\n",
    "`buildgraph()` is largely based upon Zardinality's WGAN implementation and, to a smaller extent, the code from the paper introducing WGAN-GP"
   ]
  },
  {
   "cell_type": "code",
   "execution_count": 13,
   "metadata": {
    "_uuid": "16478afa6311040cd8132a2c1980652a656618e6",
    "colab": {},
    "colab_type": "code",
    "id": "RmdVsmvhPxyy"
   },
   "outputs": [],
   "source": [
    "def generate_images(epoch=None, source='fake', save=True):\n",
    "    # make sure the training parameter is set to False because we\n",
    "    # don't want to train the batchnorm layer when doing inference.\n",
    "    assert not(epoch is None) or not(save)\n",
    "    \n",
    "    if(source=='fake'):\n",
    "        disp_images = sess.run(generated)\n",
    "    elif(source=='real'):\n",
    "        disp_images = sess.run(images)\n",
    "    else:\n",
    "        raise ValueError\n",
    "    fig = plt.figure(figsize=(4,4))\n",
    "    \n",
    "    for i in range(16):\n",
    "        plt.subplot(4, 4, i+1)\n",
    "        plt.imshow(disp_images[i, 0, :, :] * 127.5, cmap=\"magma\", origin=\"lower\", aspect=\"auto\")\n",
    "        plt.axis('off')\n",
    "    if(save):\n",
    "        plt.savefig('images/image_at_epoch_{:.2f}.png'.format(epoch))\n",
    "    plt.show()"
   ]
  },
  {
   "cell_type": "code",
   "execution_count": 14,
   "metadata": {},
   "outputs": [],
   "source": [
    "def buildgraph():\n",
    "    #with tf.variable_scope('Generator', reuse=True):\n",
    "    generator = Generator()\n",
    "    #with tf.variable_scope('Critic', reuse=True):\n",
    "    critic = Critic()\n",
    "    noise = tf.random_normal([BATCH_SIZE, noise_dim])\n",
    "    epochs = tf.Variable(0.0, trainable=True, use_resource=True, dtype=tf.float64)\n",
    "    increment = tf.placeholder(tf.float64)\n",
    "    ranEpoch = tf.assign(epochs, tf.cast(tf.round((epochs + increment)*tf.cast(tf.pow(10, tf.cast(np.floor(np.log10(TOTAL_NUM))+2, tf.int32)), tf.float64))/tf.cast(tf.pow(10, tf.cast(np.floor(np.log10(TOTAL_NUM))+2, tf.int32)), tf.float64), tf.float64))\n",
    "    getEpoch = epochs\n",
    "    \n",
    "    iterator = specs.make_one_shot_iterator()\n",
    "    real_images = iterator.get_next() #tf.placeholder(tf.float32, shape=[BATCH_SIZE, 1025, 126, 2], name='images')\n",
    "    fake_images = generator(noise)\n",
    "    critic_real = critic(real_images)\n",
    "    critic_fake = critic(fake_images)\n",
    "    \n",
    "    gen_cost = -tf.reduce_mean(critic_fake)\n",
    "    critic_cost = tf.reduce_mean(critic_fake)-tf.reduce_mean(critic_real)\n",
    "    alpha = tf.random_uniform(shape=[BATCH_SIZE, 2, 513, 251], minval=0., maxval=1.)\n",
    "    print(alpha.shape)\n",
    "    differences = fake_images-real_images\n",
    "    print(fake_images.shape)\n",
    "    print(real_images.shape)\n",
    "    interpolates = real_images+(alpha*differences)\n",
    "    gradients = tf.gradients(critic(interpolates), [interpolates])[0]\n",
    "    slopes = tf.sqrt(tf.reduce_sum(tf.square(gradients), reduction_indices=[1]))\n",
    "    \n",
    "    gradient_penalty = tf.reduce_mean((slopes-1.)**2)\n",
    "    critic_cost += LAMBDA*gradient_penalty\n",
    "    \n",
    "    gen_opt = tf.contrib.layers.optimize_loss(\n",
    "        gen_cost, \n",
    "        None, learning_rate=1e-4, optimizer=tf.train.AdamOptimizer(ALPHA, BETA1, BETA2), \n",
    "        variables=tf.get_collection(tf.GraphKeys.TRAINABLE_VARIABLES, scope='Generator'))\n",
    "        \n",
    "    critic_opt = tf.contrib.layers.optimize_loss(\n",
    "        critic_cost,\n",
    "        None, learning_rate=1e-4, optimizer=tf.train.AdamOptimizer(ALPHA, BETA1, BETA2), \n",
    "        variables=tf.get_collection(tf.GraphKeys.TRAINABLE_VARIABLES, scope='Critic'))\n",
    "    \n",
    "    test_images = generator(random_vector_for_generation)\n",
    "    return generator, gen_opt, critic_opt, real_images, test_images, ranEpoch, getEpoch, increment"
   ]
  },
  {
   "cell_type": "code",
   "execution_count": 15,
   "metadata": {
    "_uuid": "ac0e304af171a8d292728d743ae39e464da065cf",
    "colab": {},
    "colab_type": "code",
    "id": "2M7LmLtGEMQJ"
   },
   "outputs": [],
   "source": [
    "def train(batch, epochs, noise_dim, gen_opt, critic_opt, images):  \n",
    "    for epoch in range(epochs):\n",
    "        start = time.time()\n",
    "        runOneEpoch(batch, noise_dim, gen_opt, critic_opt, images)\n",
    "        print ('Time taken for epoch {} is {} sec'.format(epoch + 1,\n",
    "                                                          time.time()-start))\n",
    "  # generating after the final epoch\n",
    "    display.clear_output(wait=True)\n",
    "    generate_images(generator,\n",
    "                           -1,\n",
    "                           random_vector_for_generation)\n",
    "    \n",
    "def runOneEpoch(batch, noise_dim, gen_opt, critic_opt, images, \n",
    "                getEpoch, increment, ranEpoch, epoch_proportion=1):\n",
    "    start = time.time()\n",
    "    for num in range(math.ceil(epoch_proportion*TOTAL_NUM/BATCH_SIZE)):\n",
    "        if(num % (CRITIC_UPDATES_PER_GEN_UPDATE+1) == 0):\n",
    "            sess.run(gen_opt) #, feed_dict={images: sess.run(batch)})\n",
    "        else:\n",
    "            sess.run(critic_opt) #, feed_dict={images: sess.run(batch)})\n",
    "        gc.collect()\n",
    "        print(\"Finished {} out of {}\".format(num*BATCH_SIZE+BATCH_SIZE, \n",
    "                                             math.ceil(epoch_proportion*TOTAL_NUM)), end='\\r')\n",
    "    clear_output(wait=True)\n",
    "    sess.run(ranEpoch, feed_dict={increment: epoch_proportion})\n",
    "    print(\"Finished epoch {:.2f}\".format(sess.run(getEpoch)))\n",
    "    generate_images(sess.run(getEpoch))\n",
    "    # saving (checkpoint) the model every 15 epochs\n",
    "    #if (epoch + 1) % 15 == 0:\n",
    "        #checkpoint.save(file_prefix = checkpoint_prefix)\n",
    "\n",
    "    print('Time taken {} sec'.format(time.time()-start))"
   ]
  },
  {
   "cell_type": "code",
   "execution_count": 16,
   "metadata": {},
   "outputs": [],
   "source": [
    "def testAudio(batch, prefix):\n",
    "    specs = sess.run(batch)\n",
    "    for i in range(specs.shape[0]):\n",
    "        spec = specs[i]\n",
    "        mag = spec[:, :, 0]\n",
    "        angles = spec[:, :, 1]\n",
    "        mag = ((mag+1)/2)*48-32\n",
    "        angles = angles*math.pi\n",
    "        ft =(np.exp(mag)-1.2664166e-14)*np.exp(1j*angles)\n",
    "        newaudio = librosa.istft(ft, 512, 2048).astype(np.int16)\n",
    "        #print('Generated audio')\n",
    "        #print('Interval of audio: [{}, {}]'.format(np.amin(newaudio), np.amax(newaudio)))\n",
    "        wavfile.write(\"audio/{}-{}.wav\".format(prefix, i), 16000, newaudio)"
   ]
  },
  {
   "cell_type": "markdown",
   "metadata": {},
   "source": [
    "# Running the model"
   ]
  },
  {
   "cell_type": "code",
   "execution_count": 17,
   "metadata": {
    "_kg_hide-output": true,
    "_uuid": "446c1e4d2462906cc5ed888104e549ac86b476b2",
    "colab": {},
    "colab_type": "code",
    "id": "Ly3UN0SLLY2l",
    "scrolled": true
   },
   "outputs": [
    {
     "name": "stdout",
     "output_type": "stream",
     "text": [
      "(45, 2, 513, 251)\n",
      "(45, 2, 513, 251)\n",
      "(?, 2, 513, 251)\n"
     ]
    }
   ],
   "source": [
    "generator, gen_opt, critic_opt, images, generated, ranEpoch, getEpoch, increment = buildgraph()\n",
    "iterator = specs.make_one_shot_iterator()\n",
    "batch = iterator.get_next()\n",
    "sess.run(tf.global_variables_initializer())"
   ]
  },
  {
   "cell_type": "code",
   "execution_count": 18,
   "metadata": {},
   "outputs": [
    {
     "name": "stdout",
     "output_type": "stream",
     "text": [
      "Checkpoint already exists. Want to overwrite? (y/n): n\n"
     ]
    }
   ],
   "source": [
    "saver = tf.train.Saver(var_list=tf.trainable_variables())\n",
    "if(not(os.path.isdir(\"checkpoints\"))):\n",
    "#if(True):\n",
    "    saver.save(sess, \"checkpoints/model\")\n",
    "    print(\"Saved\")\n",
    "else:\n",
    "    while True:\n",
    "        ans = input(\"Checkpoint already exists. Want to overwrite? (y/n): \")\n",
    "        if(ans == \"y\"):\n",
    "            saver.save(sess, \"checkpoints/model\")\n",
    "            break\n",
    "        elif(ans != \"n\"):\n",
    "            print(\"Invalid response, please type \\\"y\\\" or \\\"n\\\"\")\n",
    "        else:\n",
    "            break\n",
    "sess.graph.finalize()"
   ]
  },
  {
   "cell_type": "code",
   "execution_count": 19,
   "metadata": {},
   "outputs": [
    {
     "ename": "InvalidArgumentError",
     "evalue": "Key: spectrogram.  Can't parse serialized Example.\n\t [[{{node ParseSingleExample/ParseSingleExample}} = ParseSingleExample[Tdense=[DT_INT64, DT_INT64, DT_STRING, DT_INT64, DT_STRING, DT_STRING, DT_INT64, DT_STRING, DT_INT64, DT_INT64, DT_FLOAT, DT_INT64], dense_keys=[\"instrument\", \"instrument_family\", \"instrument_family_str\", \"instrument_source\", \"instrument_source_str\", \"instrument_str\", \"note\", \"note_str\", \"pitch\", \"sample_rate\", \"spectrogram\", \"velocity\"], dense_shapes=[[], [], [], [], [], [], [], [], [], [], [257526], []], num_sparse=0, sparse_keys=[], sparse_types=[]](arg0, ParseSingleExample/Const, ParseSingleExample/Const, ParseSingleExample/Const_2, ParseSingleExample/Const, ParseSingleExample/Const_2, ParseSingleExample/Const_2, ParseSingleExample/Const, ParseSingleExample/Const_2, ParseSingleExample/Const, ParseSingleExample/Const, ParseSingleExample/Const_10, ParseSingleExample/Const)]]\n\t [[node IteratorGetNext (defined at <ipython-input-14-801734902420>:13)  = IteratorGetNext[output_shapes=[[?,2,513,251]], output_types=[DT_FLOAT], _device=\"/job:localhost/replica:0/task:0/device:CPU:0\"](OneShotIterator)]]",
     "output_type": "error",
     "traceback": [
      "\u001b[1;31m---------------------------------------------------------------------------\u001b[0m",
      "\u001b[1;31mInvalidArgumentError\u001b[0m                      Traceback (most recent call last)",
      "\u001b[1;32m~\\AppData\\Local\\Continuum\\anaconda3\\lib\\site-packages\\tensorflow\\python\\client\\session.py\u001b[0m in \u001b[0;36m_do_call\u001b[1;34m(self, fn, *args)\u001b[0m\n\u001b[0;32m   1333\u001b[0m     \u001b[1;32mtry\u001b[0m\u001b[1;33m:\u001b[0m\u001b[1;33m\u001b[0m\u001b[0m\n\u001b[1;32m-> 1334\u001b[1;33m       \u001b[1;32mreturn\u001b[0m \u001b[0mfn\u001b[0m\u001b[1;33m(\u001b[0m\u001b[1;33m*\u001b[0m\u001b[0margs\u001b[0m\u001b[1;33m)\u001b[0m\u001b[1;33m\u001b[0m\u001b[0m\n\u001b[0m\u001b[0;32m   1335\u001b[0m     \u001b[1;32mexcept\u001b[0m \u001b[0merrors\u001b[0m\u001b[1;33m.\u001b[0m\u001b[0mOpError\u001b[0m \u001b[1;32mas\u001b[0m \u001b[0me\u001b[0m\u001b[1;33m:\u001b[0m\u001b[1;33m\u001b[0m\u001b[0m\n",
      "\u001b[1;32m~\\AppData\\Local\\Continuum\\anaconda3\\lib\\site-packages\\tensorflow\\python\\client\\session.py\u001b[0m in \u001b[0;36m_run_fn\u001b[1;34m(feed_dict, fetch_list, target_list, options, run_metadata)\u001b[0m\n\u001b[0;32m   1318\u001b[0m       return self._call_tf_sessionrun(\n\u001b[1;32m-> 1319\u001b[1;33m           options, feed_dict, fetch_list, target_list, run_metadata)\n\u001b[0m\u001b[0;32m   1320\u001b[0m \u001b[1;33m\u001b[0m\u001b[0m\n",
      "\u001b[1;32m~\\AppData\\Local\\Continuum\\anaconda3\\lib\\site-packages\\tensorflow\\python\\client\\session.py\u001b[0m in \u001b[0;36m_call_tf_sessionrun\u001b[1;34m(self, options, feed_dict, fetch_list, target_list, run_metadata)\u001b[0m\n\u001b[0;32m   1406\u001b[0m         \u001b[0mself\u001b[0m\u001b[1;33m.\u001b[0m\u001b[0m_session\u001b[0m\u001b[1;33m,\u001b[0m \u001b[0moptions\u001b[0m\u001b[1;33m,\u001b[0m \u001b[0mfeed_dict\u001b[0m\u001b[1;33m,\u001b[0m \u001b[0mfetch_list\u001b[0m\u001b[1;33m,\u001b[0m \u001b[0mtarget_list\u001b[0m\u001b[1;33m,\u001b[0m\u001b[1;33m\u001b[0m\u001b[0m\n\u001b[1;32m-> 1407\u001b[1;33m         run_metadata)\n\u001b[0m\u001b[0;32m   1408\u001b[0m \u001b[1;33m\u001b[0m\u001b[0m\n",
      "\u001b[1;31mInvalidArgumentError\u001b[0m: Key: spectrogram.  Can't parse serialized Example.\n\t [[{{node ParseSingleExample/ParseSingleExample}} = ParseSingleExample[Tdense=[DT_INT64, DT_INT64, DT_STRING, DT_INT64, DT_STRING, DT_STRING, DT_INT64, DT_STRING, DT_INT64, DT_INT64, DT_FLOAT, DT_INT64], dense_keys=[\"instrument\", \"instrument_family\", \"instrument_family_str\", \"instrument_source\", \"instrument_source_str\", \"instrument_str\", \"note\", \"note_str\", \"pitch\", \"sample_rate\", \"spectrogram\", \"velocity\"], dense_shapes=[[], [], [], [], [], [], [], [], [], [], [257526], []], num_sparse=0, sparse_keys=[], sparse_types=[]](arg0, ParseSingleExample/Const, ParseSingleExample/Const, ParseSingleExample/Const_2, ParseSingleExample/Const, ParseSingleExample/Const_2, ParseSingleExample/Const_2, ParseSingleExample/Const, ParseSingleExample/Const_2, ParseSingleExample/Const, ParseSingleExample/Const, ParseSingleExample/Const_10, ParseSingleExample/Const)]]\n\t [[{{node IteratorGetNext}} = IteratorGetNext[output_shapes=[[?,2,513,251]], output_types=[DT_FLOAT], _device=\"/job:localhost/replica:0/task:0/device:CPU:0\"](OneShotIterator)]]",
      "\nDuring handling of the above exception, another exception occurred:\n",
      "\u001b[1;31mInvalidArgumentError\u001b[0m                      Traceback (most recent call last)",
      "\u001b[1;32m<ipython-input-19-5a4bb853de69>\u001b[0m in \u001b[0;36m<module>\u001b[1;34m()\u001b[0m\n\u001b[1;32m----> 1\u001b[1;33m \u001b[0mgenerate_images\u001b[0m\u001b[1;33m(\u001b[0m\u001b[0msource\u001b[0m\u001b[1;33m=\u001b[0m\u001b[1;34m'real'\u001b[0m\u001b[1;33m,\u001b[0m \u001b[0msave\u001b[0m\u001b[1;33m=\u001b[0m\u001b[1;32mFalse\u001b[0m\u001b[1;33m)\u001b[0m\u001b[1;33m\u001b[0m\u001b[0m\n\u001b[0m",
      "\u001b[1;32m<ipython-input-13-bdb964f466f9>\u001b[0m in \u001b[0;36mgenerate_images\u001b[1;34m(epoch, source, save)\u001b[0m\n\u001b[0;32m      7\u001b[0m         \u001b[0mdisp_images\u001b[0m \u001b[1;33m=\u001b[0m \u001b[0msess\u001b[0m\u001b[1;33m.\u001b[0m\u001b[0mrun\u001b[0m\u001b[1;33m(\u001b[0m\u001b[0mgenerated\u001b[0m\u001b[1;33m)\u001b[0m\u001b[1;33m\u001b[0m\u001b[0m\n\u001b[0;32m      8\u001b[0m     \u001b[1;32melif\u001b[0m\u001b[1;33m(\u001b[0m\u001b[0msource\u001b[0m\u001b[1;33m==\u001b[0m\u001b[1;34m'real'\u001b[0m\u001b[1;33m)\u001b[0m\u001b[1;33m:\u001b[0m\u001b[1;33m\u001b[0m\u001b[0m\n\u001b[1;32m----> 9\u001b[1;33m         \u001b[0mdisp_images\u001b[0m \u001b[1;33m=\u001b[0m \u001b[0msess\u001b[0m\u001b[1;33m.\u001b[0m\u001b[0mrun\u001b[0m\u001b[1;33m(\u001b[0m\u001b[0mimages\u001b[0m\u001b[1;33m)\u001b[0m\u001b[1;33m\u001b[0m\u001b[0m\n\u001b[0m\u001b[0;32m     10\u001b[0m     \u001b[1;32melse\u001b[0m\u001b[1;33m:\u001b[0m\u001b[1;33m\u001b[0m\u001b[0m\n\u001b[0;32m     11\u001b[0m         \u001b[1;32mraise\u001b[0m \u001b[0mValueError\u001b[0m\u001b[1;33m\u001b[0m\u001b[0m\n",
      "\u001b[1;32m~\\AppData\\Local\\Continuum\\anaconda3\\lib\\site-packages\\tensorflow\\python\\client\\session.py\u001b[0m in \u001b[0;36mrun\u001b[1;34m(self, fetches, feed_dict, options, run_metadata)\u001b[0m\n\u001b[0;32m    927\u001b[0m     \u001b[1;32mtry\u001b[0m\u001b[1;33m:\u001b[0m\u001b[1;33m\u001b[0m\u001b[0m\n\u001b[0;32m    928\u001b[0m       result = self._run(None, fetches, feed_dict, options_ptr,\n\u001b[1;32m--> 929\u001b[1;33m                          run_metadata_ptr)\n\u001b[0m\u001b[0;32m    930\u001b[0m       \u001b[1;32mif\u001b[0m \u001b[0mrun_metadata\u001b[0m\u001b[1;33m:\u001b[0m\u001b[1;33m\u001b[0m\u001b[0m\n\u001b[0;32m    931\u001b[0m         \u001b[0mproto_data\u001b[0m \u001b[1;33m=\u001b[0m \u001b[0mtf_session\u001b[0m\u001b[1;33m.\u001b[0m\u001b[0mTF_GetBuffer\u001b[0m\u001b[1;33m(\u001b[0m\u001b[0mrun_metadata_ptr\u001b[0m\u001b[1;33m)\u001b[0m\u001b[1;33m\u001b[0m\u001b[0m\n",
      "\u001b[1;32m~\\AppData\\Local\\Continuum\\anaconda3\\lib\\site-packages\\tensorflow\\python\\client\\session.py\u001b[0m in \u001b[0;36m_run\u001b[1;34m(self, handle, fetches, feed_dict, options, run_metadata)\u001b[0m\n\u001b[0;32m   1150\u001b[0m     \u001b[1;32mif\u001b[0m \u001b[0mfinal_fetches\u001b[0m \u001b[1;32mor\u001b[0m \u001b[0mfinal_targets\u001b[0m \u001b[1;32mor\u001b[0m \u001b[1;33m(\u001b[0m\u001b[0mhandle\u001b[0m \u001b[1;32mand\u001b[0m \u001b[0mfeed_dict_tensor\u001b[0m\u001b[1;33m)\u001b[0m\u001b[1;33m:\u001b[0m\u001b[1;33m\u001b[0m\u001b[0m\n\u001b[0;32m   1151\u001b[0m       results = self._do_run(handle, final_targets, final_fetches,\n\u001b[1;32m-> 1152\u001b[1;33m                              feed_dict_tensor, options, run_metadata)\n\u001b[0m\u001b[0;32m   1153\u001b[0m     \u001b[1;32melse\u001b[0m\u001b[1;33m:\u001b[0m\u001b[1;33m\u001b[0m\u001b[0m\n\u001b[0;32m   1154\u001b[0m       \u001b[0mresults\u001b[0m \u001b[1;33m=\u001b[0m \u001b[1;33m[\u001b[0m\u001b[1;33m]\u001b[0m\u001b[1;33m\u001b[0m\u001b[0m\n",
      "\u001b[1;32m~\\AppData\\Local\\Continuum\\anaconda3\\lib\\site-packages\\tensorflow\\python\\client\\session.py\u001b[0m in \u001b[0;36m_do_run\u001b[1;34m(self, handle, target_list, fetch_list, feed_dict, options, run_metadata)\u001b[0m\n\u001b[0;32m   1326\u001b[0m     \u001b[1;32mif\u001b[0m \u001b[0mhandle\u001b[0m \u001b[1;32mis\u001b[0m \u001b[1;32mNone\u001b[0m\u001b[1;33m:\u001b[0m\u001b[1;33m\u001b[0m\u001b[0m\n\u001b[0;32m   1327\u001b[0m       return self._do_call(_run_fn, feeds, fetches, targets, options,\n\u001b[1;32m-> 1328\u001b[1;33m                            run_metadata)\n\u001b[0m\u001b[0;32m   1329\u001b[0m     \u001b[1;32melse\u001b[0m\u001b[1;33m:\u001b[0m\u001b[1;33m\u001b[0m\u001b[0m\n\u001b[0;32m   1330\u001b[0m       \u001b[1;32mreturn\u001b[0m \u001b[0mself\u001b[0m\u001b[1;33m.\u001b[0m\u001b[0m_do_call\u001b[0m\u001b[1;33m(\u001b[0m\u001b[0m_prun_fn\u001b[0m\u001b[1;33m,\u001b[0m \u001b[0mhandle\u001b[0m\u001b[1;33m,\u001b[0m \u001b[0mfeeds\u001b[0m\u001b[1;33m,\u001b[0m \u001b[0mfetches\u001b[0m\u001b[1;33m)\u001b[0m\u001b[1;33m\u001b[0m\u001b[0m\n",
      "\u001b[1;32m~\\AppData\\Local\\Continuum\\anaconda3\\lib\\site-packages\\tensorflow\\python\\client\\session.py\u001b[0m in \u001b[0;36m_do_call\u001b[1;34m(self, fn, *args)\u001b[0m\n\u001b[0;32m   1346\u001b[0m           \u001b[1;32mpass\u001b[0m\u001b[1;33m\u001b[0m\u001b[0m\n\u001b[0;32m   1347\u001b[0m       \u001b[0mmessage\u001b[0m \u001b[1;33m=\u001b[0m \u001b[0merror_interpolation\u001b[0m\u001b[1;33m.\u001b[0m\u001b[0minterpolate\u001b[0m\u001b[1;33m(\u001b[0m\u001b[0mmessage\u001b[0m\u001b[1;33m,\u001b[0m \u001b[0mself\u001b[0m\u001b[1;33m.\u001b[0m\u001b[0m_graph\u001b[0m\u001b[1;33m)\u001b[0m\u001b[1;33m\u001b[0m\u001b[0m\n\u001b[1;32m-> 1348\u001b[1;33m       \u001b[1;32mraise\u001b[0m \u001b[0mtype\u001b[0m\u001b[1;33m(\u001b[0m\u001b[0me\u001b[0m\u001b[1;33m)\u001b[0m\u001b[1;33m(\u001b[0m\u001b[0mnode_def\u001b[0m\u001b[1;33m,\u001b[0m \u001b[0mop\u001b[0m\u001b[1;33m,\u001b[0m \u001b[0mmessage\u001b[0m\u001b[1;33m)\u001b[0m\u001b[1;33m\u001b[0m\u001b[0m\n\u001b[0m\u001b[0;32m   1349\u001b[0m \u001b[1;33m\u001b[0m\u001b[0m\n\u001b[0;32m   1350\u001b[0m   \u001b[1;32mdef\u001b[0m \u001b[0m_extend_graph\u001b[0m\u001b[1;33m(\u001b[0m\u001b[0mself\u001b[0m\u001b[1;33m)\u001b[0m\u001b[1;33m:\u001b[0m\u001b[1;33m\u001b[0m\u001b[0m\n",
      "\u001b[1;31mInvalidArgumentError\u001b[0m: Key: spectrogram.  Can't parse serialized Example.\n\t [[{{node ParseSingleExample/ParseSingleExample}} = ParseSingleExample[Tdense=[DT_INT64, DT_INT64, DT_STRING, DT_INT64, DT_STRING, DT_STRING, DT_INT64, DT_STRING, DT_INT64, DT_INT64, DT_FLOAT, DT_INT64], dense_keys=[\"instrument\", \"instrument_family\", \"instrument_family_str\", \"instrument_source\", \"instrument_source_str\", \"instrument_str\", \"note\", \"note_str\", \"pitch\", \"sample_rate\", \"spectrogram\", \"velocity\"], dense_shapes=[[], [], [], [], [], [], [], [], [], [], [257526], []], num_sparse=0, sparse_keys=[], sparse_types=[]](arg0, ParseSingleExample/Const, ParseSingleExample/Const, ParseSingleExample/Const_2, ParseSingleExample/Const, ParseSingleExample/Const_2, ParseSingleExample/Const_2, ParseSingleExample/Const, ParseSingleExample/Const_2, ParseSingleExample/Const, ParseSingleExample/Const, ParseSingleExample/Const_10, ParseSingleExample/Const)]]\n\t [[node IteratorGetNext (defined at <ipython-input-14-801734902420>:13)  = IteratorGetNext[output_shapes=[[?,2,513,251]], output_types=[DT_FLOAT], _device=\"/job:localhost/replica:0/task:0/device:CPU:0\"](OneShotIterator)]]"
     ]
    }
   ],
   "source": [
    "generate_images(source='real', save=False)"
   ]
  },
  {
   "cell_type": "code",
   "execution_count": null,
   "metadata": {
    "scrolled": true
   },
   "outputs": [],
   "source": [
    "# Can exit any time because model saves after every epoch\n",
    "try:\n",
    "    saver.restore(sess, \"checkpoints/model\")\n",
    "except: \n",
    "    while True:\n",
    "        ans = input(\"Saved checkpoint invalid, save new checkpoint? (y/n): \")\n",
    "        if(ans == \"y\"):\n",
    "            saver.save(sess, \"checkpoints/model\")\n",
    "            break\n",
    "        elif(ans != \"n\"):\n",
    "            print(\"Invalid response, please type \\\"y\\\" or \\\"n\\\"\")\n",
    "        else:\n",
    "            break\n",
    "\n",
    "while True:\n",
    "    try:\n",
    "        runOneEpoch(batch, noise_dim, gen_opt, critic_opt, images, getEpoch, \n",
    "                    increment, ranEpoch, 0.05)\n",
    "        saver.save(sess, \"checkpoints/model\")\n",
    "    except:\n",
    "        print(\"Error caught, restarting from checkpoint\")\n",
    "        saver.restore(sess, \"checkpoints/model\")"
   ]
  },
  {
   "cell_type": "code",
   "execution_count": null,
   "metadata": {},
   "outputs": [],
   "source": [
    "print(sess.run(images).shape)"
   ]
  },
  {
   "cell_type": "code",
   "execution_count": null,
   "metadata": {},
   "outputs": [],
   "source": [
    "testAudio(images, \"real\")\n",
    "testAudio(generated, \"fake\")"
   ]
  },
  {
   "cell_type": "code",
   "execution_count": null,
   "metadata": {},
   "outputs": [],
   "source": [
    "while(kernel is dead):\n",
    "    plant_a_new_seed()"
   ]
  }
 ],
 "metadata": {
  "accelerator": "GPU",
  "colab": {
   "collapsed_sections": [],
   "name": "dcgan.ipynb",
   "private_outputs": true,
   "provenance": [
    {
     "file_id": "1eb0NOTQapkYs3X0v-zL1x5_LFKgDISnp",
     "timestamp": 1527173385672
    }
   ],
   "toc_visible": true,
   "version": "0.3.2"
  },
  "kernelspec": {
   "display_name": "Python 3",
   "language": "python",
   "name": "python3"
  },
  "language_info": {
   "codemirror_mode": {
    "name": "ipython",
    "version": 3
   },
   "file_extension": ".py",
   "mimetype": "text/x-python",
   "name": "python",
   "nbconvert_exporter": "python",
   "pygments_lexer": "ipython3",
   "version": "3.6.5"
  }
 },
 "nbformat": 4,
 "nbformat_minor": 1
}
