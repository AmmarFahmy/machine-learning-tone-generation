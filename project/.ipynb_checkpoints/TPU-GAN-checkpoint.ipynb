{
 "cells": [
  {
   "cell_type": "code",
   "execution_count": 1,
   "metadata": {},
   "outputs": [
    {
     "name": "stdout",
     "output_type": "stream",
     "text": [
      "Kernel is up\n",
      "2019-01-25 18:19:49.503631-05:00\n"
     ]
    }
   ],
   "source": [
    "from datetime import datetime\n",
    "from pytz import timezone\n",
    "\n",
    "tz = timezone('EST')\n",
    "\n",
    "print(\"Kernel is up\")\n",
    "print(datetime.now(tz))"
   ]
  },
  {
   "cell_type": "markdown",
   "metadata": {},
   "source": [
    "# WGAN-GP with DCGAN layers\n",
    "Code is mainly based upon the DCGAN implementation in the TensorFlow tutorials"
   ]
  },
  {
   "cell_type": "code",
   "execution_count": 2,
   "metadata": {
    "_uuid": "36af9c2edba178f04e989ca2a5935878caf7b0c4",
    "colab": {},
    "colab_type": "code",
    "id": "YfIk2es3hJEd"
   },
   "outputs": [],
   "source": [
    "from __future__ import absolute_import, division, print_function\n",
    "\n",
    "import tensorflow as tf\n",
    "#import memory_saving_gradients\n",
    "# monkey patch tf.gradients to point to our custom version, with automatic checkpoint selection\n",
    "#tf.__dict__[\"gradients\"] = memory_saving_gradients.gradients_memory\n",
    "import librosa\n",
    "import os\n",
    "import functools\n",
    "import subprocess\n",
    "import time\n",
    "import numpy as np\n",
    "import matplotlib.pyplot as plt\n",
    "#import PIL\n",
    "#import imageio\n",
    "#import simpleaudio as sa\n",
    "import math\n",
    "import gc\n",
    "from IPython import display\n",
    "import time\n",
    "import scipy.io.wavfile as wavfile\n",
    "from tensorflow.layers import dense, flatten\n",
    "from tensorflow.nn import relu, leaky_relu\n",
    "from tensorflow import tanh\n",
    "from tensorflow.image import ResizeMethod\n",
    "#from google.cloud import storage\n",
    "#import google.auth\n",
    "#from google.auth import compute_engine\n",
    "\n",
    "resize_images = lambda x, size: tf.transpose(tf.image.resize_bilinear(tf.transpose(x, [0, 2, 3, 1]), size, align_corners=True), [0, 3, 1, 2])\n",
    "conv2d_transpose = functools.partial(tf.layers.conv2d_transpose, padding='same', data_format='channels_first')\n",
    "conv2d = functools.partial(tf.layers.conv2d, padding='same', data_format='channels_first')\n",
    "batch_norm = functools.partial(tf.layers.batch_normalization, axis=1)\n",
    "layer_norm = lambda x: tf.transpose(tf.contrib.layers.layer_norm(tf.transpose(x, [0, 2, 3, 1])), [0, 3, 1, 2])\n",
    "pool = functools.partial(tf.nn.pool, window_shape=(2, 2), pooling_type='AVG', padding='SAME', data_format='NCHW')"
   ]
  },
  {
   "cell_type": "code",
   "execution_count": 3,
   "metadata": {},
   "outputs": [],
   "source": [
    "def playAudio(audio, sr):\n",
    "    audio = audio.astype(np.int16)\n",
    "    play_obj = sa.play_buffer(audio, 1, 2, sr)\n",
    "    play_obj.wait_done()"
   ]
  },
  {
   "cell_type": "markdown",
   "metadata": {},
   "source": [
    "# Hyperparameters"
   ]
  },
  {
   "cell_type": "code",
   "execution_count": 4,
   "metadata": {
    "_uuid": "cbe0b356b41cbdeb6751dfde003e8590cb68586b",
    "colab": {},
    "colab_type": "code",
    "id": "NS2GWywBbAWo"
   },
   "outputs": [],
   "source": [
    "# Number for large nsynth-train dataset\n",
    "TOTAL_NUM = 102165\n",
    "# Number for small nsynth-test dataset\n",
    "# TOTAL_NUM = 1689\n",
    "BUFFER_SIZE = 2048\n",
    "BATCH_SIZE = 64\n",
    "PREFETCH_BUFFER_SIZE = 2 * BATCH_SIZE\n",
    "# EPOCHS = 150\n",
    "LAMBDA = 10\n",
    "ALPHA = 0.0002\n",
    "BETA1 = 0.5\n",
    "BETA2 = 0.999\n",
    "CRITIC_UPDATES_PER_GEN_UPDATE = 5\n",
    "noise_dim = 100\n",
    "num_steps = 100\n",
    "num_tpu = 1\n",
    "num_examples_to_generate = 16\n",
    "epoch_counter = 0\n",
    "padded_spec_dim = (3, 128, 512)\n",
    "spec_dim = (3, 128, 504)\n",
    "epoch_proportion_counter = 0.0\n",
    "model_dir = 'gs://jz-model-checkpoints/gan-tpu-testing/'"
   ]
  },
  {
   "cell_type": "markdown",
   "metadata": {},
   "source": [
    "# Defining models"
   ]
  },
  {
   "cell_type": "code",
   "execution_count": 5,
   "metadata": {},
   "outputs": [],
   "source": [
    "def residBlockUpscale(num, x, num_filters, filter_size=5, strides=(2, 2), \n",
    "                      num_filters_intermed=None, training=True):\n",
    "    with tf.variable_scope('resid-block-upscale-{}'.format(num)):\n",
    "        if(num_filters_intermed is None):\n",
    "            num_filters_intermed = num_filters\n",
    "        x_orig = resize_images(x, (x.shape[2]*strides[0], x.shape[3]*strides[1]))\n",
    "        x_orig = conv2d(x_orig, num_filters, 1, 1)\n",
    "        x = batch_norm(x, training=training)\n",
    "        x = relu(x)\n",
    "        x = resize_images(x, (x.shape[2]*strides[0], x.shape[3]*strides[1]))\n",
    "        x = conv2d(x, num_filters_intermed, filter_size, 1, use_bias=False)\n",
    "        x = batch_norm(x, training=training)\n",
    "        x = relu(x)\n",
    "        x = conv2d(x, num_filters, filter_size, 1, use_bias=False)\n",
    "        x = x_orig + x\n",
    "        return x\n",
    "\n",
    "def residBlockDownscale(num, x, num_filters, filter_size=5, strides=(2, 2), \n",
    "                        num_filters_intermed=None, training=True):\n",
    "    with tf.variable_scope('resid-block-downscale-{}'.format(num)):\n",
    "        if(num_filters_intermed is None):\n",
    "            num_filters_intermed = num_filters\n",
    "        x_orig = pool(x, window_shape=strides)\n",
    "        x_orig = conv2d(x_orig, num_filters, 1, 1)\n",
    "        x = layer_norm(x)\n",
    "        x = relu(x)\n",
    "        x = conv2d(x, num_filters_intermed, filter_size, 1)\n",
    "        x = layer_norm(x)\n",
    "        x = relu(x)\n",
    "        x = conv2d(x, num_filters_intermed, filter_size, 1)\n",
    "        x = pool(x)\n",
    "        x = x_orig + x\n",
    "        return x\n",
    "    \n",
    "def upsampleConvBatchNorm(num, x, num_filters, filter_size=5, strides=(2, 2), training=True):\n",
    "    with tf.variable_scope('upsample-conv-batch-norm-{}'.format(num)):\n",
    "        x = resize_images(x, (x.shape[2]*strides[0], x.shape[3]*strides[1]))\n",
    "        x = conv2d(x, num_filters, filter_size, 1, use_bias=False)\n",
    "        x = batch_norm(x, training=training)\n",
    "        x = relu(x)\n",
    "        return x\n",
    "\n",
    "def convLayerNorm(num, x, num_filters, filter_size=5, strides=(2, 2), training=True):\n",
    "    with tf.variable_scope('conv-layer-norm-{}'.format(num)):\n",
    "        x = conv2d(x, num_filters, filter_size)\n",
    "        x = layer_norm(x)\n",
    "        x = leaky_relu(x)\n",
    "        return x"
   ]
  },
  {
   "cell_type": "code",
   "execution_count": 6,
   "metadata": {},
   "outputs": [],
   "source": [
    "def generator(x, batch_size, training=True):\n",
    "    # Input x is noise vector\n",
    "    with tf.variable_scope('generator', reuse=tf.AUTO_REUSE):\n",
    "        if(callable(x)):\n",
    "            x = x()\n",
    "        # x_orig = tf.transpose(tf.image.resize_bicubic(tf.transpose(x, [0, 2, 3, 1]), 512*256), [0, 3, 1, 2])\n",
    "        x = dense(x, 128*8*32)\n",
    "        # MAKE SURE SHAPES ARE EQUAL, OR ELSE SIZE -1 WILL CAUSE BATCH SIZE MISMATCH\n",
    "        x = tf.reshape(x, shape=(batch_size, 128, 8, 32))\n",
    "        assert not(callable(x))\n",
    "        x = upsampleConvBatchNorm(1, x, 128, filter_size=5, training=training)\n",
    "        x = upsampleConvBatchNorm(2, x, 128, filter_size=5, training=training)\n",
    "        x = upsampleConvBatchNorm(3, x, 128, filter_size=5, training=training)\n",
    "        x = upsampleConvBatchNorm(4, x, 128, filter_size=5, training=training)\n",
    "        x = batch_norm(x, training=training)\n",
    "        x = relu(x)\n",
    "        x = conv2d(x, 3, 5, 1)\n",
    "        x = tanh(x)\n",
    "\n",
    "        x = x[:, :, :, 0:spec_dim[2]]\n",
    "        return x\n",
    "    \n",
    "def critic(x, batch_size, training=True):\n",
    "    with tf.variable_scope('critic', reuse=tf.AUTO_REUSE):\n",
    "        x = convLayerNorm(1, x, 128, strides=(1, 1), training=training)\n",
    "        x = convLayerNorm(2, x, 128, training=training)\n",
    "        x = convLayerNorm(3, x, 128, training=training)\n",
    "        x = convLayerNorm(4, x, 128, training=training)\n",
    "        x = convLayerNorm(5, x, 128, training=training)\n",
    "        x = tf.reshape(x, shape=(batch_size, -1))\n",
    "        x = dense(x, 1)\n",
    "        return x"
   ]
  },
  {
   "cell_type": "markdown",
   "metadata": {},
   "source": [
    "# Making a TPUEstimator"
   ]
  },
  {
   "cell_type": "code",
   "execution_count": 7,
   "metadata": {},
   "outputs": [],
   "source": [
    "def record_parser(raw_data):\n",
    "    read_features = {\n",
    "            'note': tf.FixedLenFeature([], dtype=tf.int64),\n",
    "            'note_str': tf.FixedLenFeature([], dtype=tf.string),\n",
    "            'instrument': tf.FixedLenFeature([], dtype=tf.int64),\n",
    "            'instrument_str': tf.FixedLenFeature([], dtype=tf.string),\n",
    "            'pitch': tf.FixedLenFeature([], dtype=tf.int64),\n",
    "            'velocity': tf.FixedLenFeature([], dtype=tf.int64),\n",
    "            'sample_rate': tf.FixedLenFeature([], dtype=tf.int64),\n",
    "            'spectrogram': tf.FixedLenFeature([193536], dtype=tf.float32),\n",
    "            #'spectrogram': tf.FixedLenFeature([128512], dtype=tf.float32),\n",
    "            'instrument_family': tf.FixedLenFeature([], dtype=tf.int64),\n",
    "            'instrument_family_str': tf.FixedLenFeature([], dtype=tf.string),\n",
    "            'instrument_source': tf.FixedLenFeature([], dtype=tf.int64),\n",
    "            'instrument_source_str': tf.FixedLenFeature([], dtype=tf.string)\n",
    "    }\n",
    "    return tf.reshape(tf.parse_single_example(serialized=raw_data, features=read_features)['spectrogram'], spec_dim)\n",
    "\n",
    "params = {\n",
    "    'batch_size': BATCH_SIZE,\n",
    "}\n",
    "\n",
    "def input_fn(params):\n",
    "    with tf.variable_scope('input-pipeline'):\n",
    "        # Reading features of TFRecord file\n",
    "        files = tf.data.Dataset.list_files('gs://jz-datasets/spec-files/*.tfrecord')\n",
    "        specs = files.apply(tf.data.experimental.parallel_interleave(tf.data.TFRecordDataset, cycle_length=2))\n",
    "        specs = specs.apply(tf.data.experimental.shuffle_and_repeat(buffer_size=BUFFER_SIZE))\n",
    "        # specs = specs.map(map_func=(lambda raw_data: tf.reshape(tf.parse_single_example(serialized=raw_data, features=read_features)['spectrogram'], spec_dim)), num_parallel_calls=-1)\n",
    "        specs = specs.apply(tf.data.experimental.map_and_batch(\n",
    "            map_func=lambda x: (record_parser(x), tf.zeros(params['batch_size'])), \n",
    "            num_parallel_calls=-1, \n",
    "            batch_size=params['batch_size'], \n",
    "            drop_remainder=True))\n",
    "        specs = specs.prefetch(buffer_size=2*params['batch_size'])\n",
    "        return specs\n",
    "    \n",
    "def model_fn(features, labels, mode, params):\n",
    "    global_step = tf.train.get_or_create_global_step()\n",
    "    with tf.variable_scope('runs'):\n",
    "        real_images = features\n",
    "        noise = tf.random_normal([params['batch_size'], noise_dim])\n",
    "        random_vector_for_generation = tf.random_normal([params['batch_size'], noise_dim])\n",
    "        fake_images = generator(noise, params['batch_size'])\n",
    "        fake_images_for_prediction = generator(random_vector_for_generation, params['batch_size'], training=False)\n",
    "        critic_real = critic(real_images, params['batch_size'])\n",
    "        critic_fake = critic(fake_images, params['batch_size'])\n",
    "        # keeping the random vector constant for generation (prediction) so\n",
    "        # it will be easier to see the improvement of the gan.\n",
    "        \n",
    "    if mode == tf.estimator.ModeKeys.PREDICT:\n",
    "        test_images = {\n",
    "            'fake_images': fake_images_for_prediction,\n",
    "            'real_images': features,\n",
    "            'global_step': tf.tile(tf.reshape(global_step, [1, 1]), [params['batch_size'], 1])\n",
    "        }\n",
    "        return tf.contrib.tpu.TPUEstimatorSpec(mode, predictions=test_images)\n",
    "    \n",
    "    with tf.variable_scope('costs'):\n",
    "            gen_cost = -tf.reduce_mean(critic_fake)\n",
    "            critic_cost_naive = tf.reduce_mean(critic_fake)-tf.reduce_mean(critic_real)\n",
    "\n",
    "            with tf.variable_scope('gradient-penalty'):\n",
    "                alpha = tf.random_uniform(shape=[params['batch_size'], spec_dim[0], spec_dim[1], spec_dim[2]], minval=0., maxval=1.)\n",
    "                differences = fake_images-real_images\n",
    "                interpolates = real_images+(alpha*differences)\n",
    "                gradients = tf.gradients(critic(interpolates, params['batch_size']), [interpolates])[0]\n",
    "                slopes = tf.sqrt(tf.reduce_sum(tf.square(gradients), reduction_indices=[1]))\n",
    "                gradient_penalty = tf.reduce_mean((slopes-1.)**2)\n",
    "                critic_cost = critic_cost_naive + LAMBDA*gradient_penalty\n",
    "\n",
    "            costs = {\n",
    "                'gen_cost': gen_cost,\n",
    "                'critic_cost': critic_cost\n",
    "            }\n",
    "\n",
    "    if mode == tf.estimator.ModeKeys.EVAL:\n",
    "        return tf.contrib.tpu.TPUEstimatorSpec(mode, loss=0) # , eval_metric_ops=costs)\n",
    "\n",
    "    if mode == tf.estimator.ModeKeys.TRAIN:\n",
    "        with tf.variable_scope('optimizers'):\n",
    "            with tf.control_dependencies(tf.get_collection(tf.GraphKeys.UPDATE_OPS)):\n",
    "                gen_opt = tf.contrib.tpu.CrossShardOptimizer(tf.train.AdamOptimizer(ALPHA, BETA1, BETA2)).minimize(gen_cost, global_step=global_step, var_list=tf.get_collection(tf.GraphKeys.TRAINABLE_VARIABLES, scope='runs/generator'))\n",
    "                critic_opt = tf.contrib.tpu.CrossShardOptimizer(tf.train.AdamOptimizer(ALPHA, BETA1, BETA2)).minimize(critic_cost, global_step=global_step, var_list=tf.get_collection(tf.GraphKeys.TRAINABLE_VARIABLES, scope='runs/critic'))\n",
    "            opt = tf.cond(\n",
    "                tf.equal(tf.mod(tf.train.get_or_create_global_step(), CRITIC_UPDATES_PER_GEN_UPDATE+1), CRITIC_UPDATES_PER_GEN_UPDATE+1), \n",
    "                lambda: gen_opt, \n",
    "                lambda: critic_opt\n",
    "            )\n",
    "        return tf.contrib.tpu.TPUEstimatorSpec(mode, loss=critic_cost, train_op=opt)\n",
    "\n",
    "    return\n",
    "    #return generator, gen_opt, critic_opt, real_images, test_images, ranEpoch, getEpoch, increment, merged, global_step"
   ]
  },
  {
   "cell_type": "code",
   "execution_count": 8,
   "metadata": {},
   "outputs": [],
   "source": [
    "cluster_resolver = tf.contrib.cluster_resolver.TPUClusterResolver(\n",
    "    tpu=[\"node1\"], \n",
    "    zone=\"us-central1-f\", \n",
    "    project=\"jz-cloud-test\"\n",
    ")\n",
    "\n",
    "tpu_run_config = tf.contrib.tpu.RunConfig(\n",
    "    cluster=cluster_resolver, \n",
    "    model_dir=model_dir,\n",
    "    session_config=tf.ConfigProto(allow_soft_placement=True, log_device_placement=True),\n",
    "    tpu_config=tf.contrib.tpu.TPUConfig(num_steps, 8)\n",
    ")  "
   ]
  },
  {
   "cell_type": "code",
   "execution_count": 9,
   "metadata": {},
   "outputs": [],
   "source": [
    "def testAudio(batch, prefix):\n",
    "    specs = sess.run(batch)\n",
    "    for i in range(specs.shape[0]):\n",
    "        spec = specs[i]\n",
    "        mag = spec[:, :, 0]\n",
    "        angles = spec[:, :, 1]\n",
    "        mag = ((mag+1)/2)*48-32\n",
    "        angles = angles*math.pi\n",
    "        ft =(np.exp(mag)-1.2664166e-14)*np.exp(1j*angles)\n",
    "        newaudio = librosa.istft(ft, 512, 2048).astype(np.int16)\n",
    "        #print('Generated audio')\n",
    "        #print('Interval of audio: [{}, {}]'.format(np.amin(newaudio), np.amax(newaudio)))\n",
    "        wavfile.write(\"audio/{}-{}.wav\".format(prefix, i), 16000, newaudio)"
   ]
  },
  {
   "cell_type": "code",
   "execution_count": 15,
   "metadata": {
    "_uuid": "ac0e304af171a8d292728d743ae39e464da065cf",
    "colab": {},
    "colab_type": "code",
    "id": "2M7LmLtGEMQJ"
   },
   "outputs": [],
   "source": [
    "def runOneEpoch(model, epoch_proportion=1):\n",
    "    global epoch_counter\n",
    "    start = time.time()\n",
    "    \n",
    "    model.train(input_fn, steps=num_steps)\n",
    "    \n",
    "    predictions = next(iter(model.predict(input_fn, yield_single_examples=False)))\n",
    "    display.clear_output(wait=True)\n",
    "    global_step = generate_images(predictions, source='fake')\n",
    "    global_step = generate_images(predictions, source='real')\n",
    "    print(\"Finished global step {}\".format(global_step))\n",
    "    # saving (checkpoint) the model every 15 epochs\n",
    "    #if (epoch + 1) % 15 == 0:\n",
    "        #checkpoint.save(file_prefix = checkpoint_prefix)\n",
    "\n",
    "    print('Time taken: {} sec'.format(time.time()-start))"
   ]
  },
  {
   "cell_type": "code",
   "execution_count": 16,
   "metadata": {
    "_uuid": "16478afa6311040cd8132a2c1980652a656618e6",
    "colab": {},
    "colab_type": "code",
    "id": "RmdVsmvhPxyy"
   },
   "outputs": [],
   "source": [
    "def generate_images(images, source='fake', save=True):\n",
    "    # make sure the training parameter is set to False because we\n",
    "    # don't want to train the batchnorm layer when doing inference.\n",
    "    \n",
    "    if(source=='fake'):\n",
    "        disp_images = images['fake_images']\n",
    "    elif(source=='real'):\n",
    "        disp_images = images['real_images']\n",
    "    else:\n",
    "        raise ValueError\n",
    "    \n",
    "    for i in range(16):\n",
    "        plt.subplot(4, 4, i+1)\n",
    "        plt.imshow(disp_images[i, 0, :, :] * 127.5, cmap=\"magma\", origin=\"lower\", aspect=\"auto\")\n",
    "        plt.axis('off')\n",
    "    if(save):\n",
    "        plt.savefig('images/image_at_{}_{}.png'.format(images['global_step'][0, 0], source))\n",
    "        print(images['global_step'][0, 0])\n",
    "    plt.show()\n",
    "    \n",
    "    for i in range(16):\n",
    "        plt.subplot(4, 4, i+1)\n",
    "        plt.imshow(disp_images[i, 1, :, :] * 127.5, cmap=\"magma\", origin=\"lower\", aspect=\"auto\")\n",
    "        plt.axis('off')\n",
    "    plt.show()\n",
    "    \n",
    "    for i in range(16):\n",
    "        plt.subplot(4, 4, i+1)\n",
    "        plt.imshow(disp_images[i, 2, :, :] * 127.5, cmap=\"magma\", origin=\"lower\", aspect=\"auto\")\n",
    "        plt.axis('off')\n",
    "    plt.show()\n",
    "    \n",
    "    return images['global_step'][0, 0]"
   ]
  },
  {
   "cell_type": "markdown",
   "metadata": {},
   "source": [
    "# Running the model"
   ]
  },
  {
   "cell_type": "code",
   "execution_count": 17,
   "metadata": {
    "_kg_hide-output": true,
    "_uuid": "446c1e4d2462906cc5ed888104e549ac86b476b2",
    "colab": {},
    "colab_type": "code",
    "id": "Ly3UN0SLLY2l",
    "scrolled": true
   },
   "outputs": [
    {
     "name": "stdout",
     "output_type": "stream",
     "text": [
      "WARNING:tensorflow:Estimator's model_fn (<function model_fn at 0x7fab0c385620>) includes params argument, but params are not passed to Estimator.\n",
      "INFO:tensorflow:Using config: {'_num_worker_replicas': 1, '_is_chief': True, '_save_checkpoints_steps': None, '_session_config': allow_soft_placement: true\n",
      "log_device_placement: true\n",
      "cluster_def {\n",
      "  job {\n",
      "    name: \"worker\"\n",
      "    tasks {\n",
      "      value: \"10.12.1.3:8470\"\n",
      "    }\n",
      "  }\n",
      "}\n",
      ", '_cluster': <tensorflow.contrib.cluster_resolver.python.training.tpu_cluster_resolver.TPUClusterResolver object at 0x7faac7e8f0f0>, '_evaluation_master': 'grpc://10.12.1.3:8470', '_save_checkpoints_secs': 600, '_keep_checkpoint_max': 5, '_train_distribute': None, '_master': 'grpc://10.12.1.3:8470', '_num_ps_replicas': 0, '_log_step_count_steps': None, '_device_fn': None, '_task_type': 'worker', '_tpu_config': TPUConfig(iterations_per_loop=100, num_shards=8, num_cores_per_replica=None, per_host_input_for_training=2, tpu_job_name=None, initial_infeed_sleep_secs=None, input_partition_dims=None), '_tf_random_seed': None, '_experimental_distribute': None, '_service': None, '_model_dir': 'gs://jz-model-checkpoints/gan-tpu-testing/', '_cluster_spec': <tensorflow.python.training.server_lib.ClusterSpec object at 0x7faaa52ed518>, '_eval_distribute': None, '_protocol': None, '_save_summary_steps': 100, '_global_id_in_cluster': 0, '_keep_checkpoint_every_n_hours': 10000, '_task_id': 0}\n",
      "INFO:tensorflow:_TPUContext: eval_on_tpu True\n"
     ]
    }
   ],
   "source": [
    "model = tf.contrib.tpu.TPUEstimator(\n",
    "    model_fn=model_fn, \n",
    "    config=tpu_run_config, \n",
    "    use_tpu=True, \n",
    "    train_batch_size=BATCH_SIZE, \n",
    "    predict_batch_size=16,\n",
    ")"
   ]
  },
  {
   "cell_type": "code",
   "execution_count": 20,
   "metadata": {
    "scrolled": true
   },
   "outputs": [
    {
     "ename": "OSError",
     "evalue": "[Errno 12] Cannot allocate memory",
     "output_type": "error",
     "traceback": [
      "\u001b[0;31m---------------------------------------------------------------------------\u001b[0m",
      "\u001b[0;31mOSError\u001b[0m                                   Traceback (most recent call last)",
      "\u001b[0;32m<ipython-input-20-7cd580739ba6>\u001b[0m in \u001b[0;36m<module>\u001b[0;34m\u001b[0m\n\u001b[1;32m      1\u001b[0m \u001b[0;31m# Waits for another program to remove the .lock file before continuing execution\u001b[0m\u001b[0;34m\u001b[0m\u001b[0;34m\u001b[0m\u001b[0m\n\u001b[0;32m----> 2\u001b[0;31m \u001b[0mget_ipython\u001b[0m\u001b[0;34m(\u001b[0m\u001b[0;34m)\u001b[0m\u001b[0;34m.\u001b[0m\u001b[0msystem\u001b[0m\u001b[0;34m(\u001b[0m\u001b[0;34m'rm .lock'\u001b[0m\u001b[0;34m)\u001b[0m\u001b[0;34m\u001b[0m\u001b[0m\n\u001b[0m\u001b[1;32m      3\u001b[0m \u001b[0;31m# Comment out next line to disable lock\u001b[0m\u001b[0;34m\u001b[0m\u001b[0;34m\u001b[0m\u001b[0m\n\u001b[1;32m      4\u001b[0m \u001b[0;31m# !touch .lock\u001b[0m\u001b[0;34m\u001b[0m\u001b[0;34m\u001b[0m\u001b[0m\n\u001b[1;32m      5\u001b[0m \u001b[0;34m\u001b[0m\u001b[0m\n",
      "\u001b[0;32m~/.local/lib/python3.5/site-packages/IPython/core/interactiveshell.py\u001b[0m in \u001b[0;36msystem_piped\u001b[0;34m(self, cmd)\u001b[0m\n\u001b[1;32m   2415\u001b[0m         \u001b[0;31m# a non-None value would trigger :func:`sys.displayhook` calls.\u001b[0m\u001b[0;34m\u001b[0m\u001b[0;34m\u001b[0m\u001b[0m\n\u001b[1;32m   2416\u001b[0m         \u001b[0;31m# Instead, we store the exit_code in user_ns.\u001b[0m\u001b[0;34m\u001b[0m\u001b[0;34m\u001b[0m\u001b[0m\n\u001b[0;32m-> 2417\u001b[0;31m         \u001b[0mself\u001b[0m\u001b[0;34m.\u001b[0m\u001b[0muser_ns\u001b[0m\u001b[0;34m[\u001b[0m\u001b[0;34m'_exit_code'\u001b[0m\u001b[0;34m]\u001b[0m \u001b[0;34m=\u001b[0m \u001b[0msystem\u001b[0m\u001b[0;34m(\u001b[0m\u001b[0mself\u001b[0m\u001b[0;34m.\u001b[0m\u001b[0mvar_expand\u001b[0m\u001b[0;34m(\u001b[0m\u001b[0mcmd\u001b[0m\u001b[0;34m,\u001b[0m \u001b[0mdepth\u001b[0m\u001b[0;34m=\u001b[0m\u001b[0;36m1\u001b[0m\u001b[0;34m)\u001b[0m\u001b[0;34m)\u001b[0m\u001b[0;34m\u001b[0m\u001b[0m\n\u001b[0m\u001b[1;32m   2418\u001b[0m \u001b[0;34m\u001b[0m\u001b[0m\n\u001b[1;32m   2419\u001b[0m     \u001b[0;32mdef\u001b[0m \u001b[0msystem_raw\u001b[0m\u001b[0;34m(\u001b[0m\u001b[0mself\u001b[0m\u001b[0;34m,\u001b[0m \u001b[0mcmd\u001b[0m\u001b[0;34m)\u001b[0m\u001b[0;34m:\u001b[0m\u001b[0;34m\u001b[0m\u001b[0m\n",
      "\u001b[0;32m~/.local/lib/python3.5/site-packages/IPython/utils/_process_posix.py\u001b[0m in \u001b[0;36msystem\u001b[0;34m(self, cmd)\u001b[0m\n\u001b[1;32m    154\u001b[0m                 \u001b[0mchild\u001b[0m \u001b[0;34m=\u001b[0m \u001b[0mpexpect\u001b[0m\u001b[0;34m.\u001b[0m\u001b[0mspawnb\u001b[0m\u001b[0;34m(\u001b[0m\u001b[0mself\u001b[0m\u001b[0;34m.\u001b[0m\u001b[0msh\u001b[0m\u001b[0;34m,\u001b[0m \u001b[0margs\u001b[0m\u001b[0;34m=\u001b[0m\u001b[0;34m[\u001b[0m\u001b[0;34m'-c'\u001b[0m\u001b[0;34m,\u001b[0m \u001b[0mcmd\u001b[0m\u001b[0;34m]\u001b[0m\u001b[0;34m)\u001b[0m \u001b[0;31m# Pexpect-U\u001b[0m\u001b[0;34m\u001b[0m\u001b[0m\n\u001b[1;32m    155\u001b[0m             \u001b[0;32melse\u001b[0m\u001b[0;34m:\u001b[0m\u001b[0;34m\u001b[0m\u001b[0m\n\u001b[0;32m--> 156\u001b[0;31m                 \u001b[0mchild\u001b[0m \u001b[0;34m=\u001b[0m \u001b[0mpexpect\u001b[0m\u001b[0;34m.\u001b[0m\u001b[0mspawn\u001b[0m\u001b[0;34m(\u001b[0m\u001b[0mself\u001b[0m\u001b[0;34m.\u001b[0m\u001b[0msh\u001b[0m\u001b[0;34m,\u001b[0m \u001b[0margs\u001b[0m\u001b[0;34m=\u001b[0m\u001b[0;34m[\u001b[0m\u001b[0;34m'-c'\u001b[0m\u001b[0;34m,\u001b[0m \u001b[0mcmd\u001b[0m\u001b[0;34m]\u001b[0m\u001b[0;34m)\u001b[0m  \u001b[0;31m# Vanilla Pexpect\u001b[0m\u001b[0;34m\u001b[0m\u001b[0m\n\u001b[0m\u001b[1;32m    157\u001b[0m             \u001b[0mflush\u001b[0m \u001b[0;34m=\u001b[0m \u001b[0msys\u001b[0m\u001b[0;34m.\u001b[0m\u001b[0mstdout\u001b[0m\u001b[0;34m.\u001b[0m\u001b[0mflush\u001b[0m\u001b[0;34m\u001b[0m\u001b[0m\n\u001b[1;32m    158\u001b[0m             \u001b[0;32mwhile\u001b[0m \u001b[0;32mTrue\u001b[0m\u001b[0;34m:\u001b[0m\u001b[0;34m\u001b[0m\u001b[0m\n",
      "\u001b[0;32m~/.local/lib/python3.5/site-packages/pexpect/pty_spawn.py\u001b[0m in \u001b[0;36m__init__\u001b[0;34m(self, command, args, timeout, maxread, searchwindowsize, logfile, cwd, env, ignore_sighup, echo, preexec_fn, encoding, codec_errors, dimensions, use_poll)\u001b[0m\n\u001b[1;32m    202\u001b[0m             \u001b[0mself\u001b[0m\u001b[0;34m.\u001b[0m\u001b[0mname\u001b[0m \u001b[0;34m=\u001b[0m \u001b[0;34m'<pexpect factory incomplete>'\u001b[0m\u001b[0;34m\u001b[0m\u001b[0m\n\u001b[1;32m    203\u001b[0m         \u001b[0;32melse\u001b[0m\u001b[0;34m:\u001b[0m\u001b[0;34m\u001b[0m\u001b[0m\n\u001b[0;32m--> 204\u001b[0;31m             \u001b[0mself\u001b[0m\u001b[0;34m.\u001b[0m\u001b[0m_spawn\u001b[0m\u001b[0;34m(\u001b[0m\u001b[0mcommand\u001b[0m\u001b[0;34m,\u001b[0m \u001b[0margs\u001b[0m\u001b[0;34m,\u001b[0m \u001b[0mpreexec_fn\u001b[0m\u001b[0;34m,\u001b[0m \u001b[0mdimensions\u001b[0m\u001b[0;34m)\u001b[0m\u001b[0;34m\u001b[0m\u001b[0m\n\u001b[0m\u001b[1;32m    205\u001b[0m         \u001b[0mself\u001b[0m\u001b[0;34m.\u001b[0m\u001b[0muse_poll\u001b[0m \u001b[0;34m=\u001b[0m \u001b[0muse_poll\u001b[0m\u001b[0;34m\u001b[0m\u001b[0m\n\u001b[1;32m    206\u001b[0m \u001b[0;34m\u001b[0m\u001b[0m\n",
      "\u001b[0;32m~/.local/lib/python3.5/site-packages/pexpect/pty_spawn.py\u001b[0m in \u001b[0;36m_spawn\u001b[0;34m(self, command, args, preexec_fn, dimensions)\u001b[0m\n\u001b[1;32m    301\u001b[0m \u001b[0;34m\u001b[0m\u001b[0m\n\u001b[1;32m    302\u001b[0m         self.ptyproc = self._spawnpty(self.args, env=self.env,\n\u001b[0;32m--> 303\u001b[0;31m                                      cwd=self.cwd, **kwargs)\n\u001b[0m\u001b[1;32m    304\u001b[0m \u001b[0;34m\u001b[0m\u001b[0m\n\u001b[1;32m    305\u001b[0m         \u001b[0mself\u001b[0m\u001b[0;34m.\u001b[0m\u001b[0mpid\u001b[0m \u001b[0;34m=\u001b[0m \u001b[0mself\u001b[0m\u001b[0;34m.\u001b[0m\u001b[0mptyproc\u001b[0m\u001b[0;34m.\u001b[0m\u001b[0mpid\u001b[0m\u001b[0;34m\u001b[0m\u001b[0m\n",
      "\u001b[0;32m~/.local/lib/python3.5/site-packages/pexpect/pty_spawn.py\u001b[0m in \u001b[0;36m_spawnpty\u001b[0;34m(self, args, **kwargs)\u001b[0m\n\u001b[1;32m    312\u001b[0m     \u001b[0;32mdef\u001b[0m \u001b[0m_spawnpty\u001b[0m\u001b[0;34m(\u001b[0m\u001b[0mself\u001b[0m\u001b[0;34m,\u001b[0m \u001b[0margs\u001b[0m\u001b[0;34m,\u001b[0m \u001b[0;34m**\u001b[0m\u001b[0mkwargs\u001b[0m\u001b[0;34m)\u001b[0m\u001b[0;34m:\u001b[0m\u001b[0;34m\u001b[0m\u001b[0m\n\u001b[1;32m    313\u001b[0m         \u001b[0;34m'''Spawn a pty and return an instance of PtyProcess.'''\u001b[0m\u001b[0;34m\u001b[0m\u001b[0m\n\u001b[0;32m--> 314\u001b[0;31m         \u001b[0;32mreturn\u001b[0m \u001b[0mptyprocess\u001b[0m\u001b[0;34m.\u001b[0m\u001b[0mPtyProcess\u001b[0m\u001b[0;34m.\u001b[0m\u001b[0mspawn\u001b[0m\u001b[0;34m(\u001b[0m\u001b[0margs\u001b[0m\u001b[0;34m,\u001b[0m \u001b[0;34m**\u001b[0m\u001b[0mkwargs\u001b[0m\u001b[0;34m)\u001b[0m\u001b[0;34m\u001b[0m\u001b[0m\n\u001b[0m\u001b[1;32m    315\u001b[0m \u001b[0;34m\u001b[0m\u001b[0m\n\u001b[1;32m    316\u001b[0m     \u001b[0;32mdef\u001b[0m \u001b[0mclose\u001b[0m\u001b[0;34m(\u001b[0m\u001b[0mself\u001b[0m\u001b[0;34m,\u001b[0m \u001b[0mforce\u001b[0m\u001b[0;34m=\u001b[0m\u001b[0;32mTrue\u001b[0m\u001b[0;34m)\u001b[0m\u001b[0;34m:\u001b[0m\u001b[0;34m\u001b[0m\u001b[0m\n",
      "\u001b[0;32m~/.local/lib/python3.5/site-packages/ptyprocess/ptyprocess.py\u001b[0m in \u001b[0;36mspawn\u001b[0;34m(cls, argv, cwd, env, echo, preexec_fn, dimensions)\u001b[0m\n\u001b[1;32m    224\u001b[0m \u001b[0;34m\u001b[0m\u001b[0m\n\u001b[1;32m    225\u001b[0m         \u001b[0;32mif\u001b[0m \u001b[0muse_native_pty_fork\u001b[0m\u001b[0;34m:\u001b[0m\u001b[0;34m\u001b[0m\u001b[0m\n\u001b[0;32m--> 226\u001b[0;31m             \u001b[0mpid\u001b[0m\u001b[0;34m,\u001b[0m \u001b[0mfd\u001b[0m \u001b[0;34m=\u001b[0m \u001b[0mpty\u001b[0m\u001b[0;34m.\u001b[0m\u001b[0mfork\u001b[0m\u001b[0;34m(\u001b[0m\u001b[0;34m)\u001b[0m\u001b[0;34m\u001b[0m\u001b[0m\n\u001b[0m\u001b[1;32m    227\u001b[0m         \u001b[0;32melse\u001b[0m\u001b[0;34m:\u001b[0m\u001b[0;34m\u001b[0m\u001b[0m\n\u001b[1;32m    228\u001b[0m             \u001b[0;31m# Use internal fork_pty, for Solaris\u001b[0m\u001b[0;34m\u001b[0m\u001b[0;34m\u001b[0m\u001b[0m\n",
      "\u001b[0;32m/usr/lib/python3.5/pty.py\u001b[0m in \u001b[0;36mfork\u001b[0;34m()\u001b[0m\n\u001b[1;32m     95\u001b[0m \u001b[0;34m\u001b[0m\u001b[0m\n\u001b[1;32m     96\u001b[0m     \u001b[0mmaster_fd\u001b[0m\u001b[0;34m,\u001b[0m \u001b[0mslave_fd\u001b[0m \u001b[0;34m=\u001b[0m \u001b[0mopenpty\u001b[0m\u001b[0;34m(\u001b[0m\u001b[0;34m)\u001b[0m\u001b[0;34m\u001b[0m\u001b[0m\n\u001b[0;32m---> 97\u001b[0;31m     \u001b[0mpid\u001b[0m \u001b[0;34m=\u001b[0m \u001b[0mos\u001b[0m\u001b[0;34m.\u001b[0m\u001b[0mfork\u001b[0m\u001b[0;34m(\u001b[0m\u001b[0;34m)\u001b[0m\u001b[0;34m\u001b[0m\u001b[0m\n\u001b[0m\u001b[1;32m     98\u001b[0m     \u001b[0;32mif\u001b[0m \u001b[0mpid\u001b[0m \u001b[0;34m==\u001b[0m \u001b[0mCHILD\u001b[0m\u001b[0;34m:\u001b[0m\u001b[0;34m\u001b[0m\u001b[0m\n\u001b[1;32m     99\u001b[0m         \u001b[0;31m# Establish a new session.\u001b[0m\u001b[0;34m\u001b[0m\u001b[0;34m\u001b[0m\u001b[0m\n",
      "\u001b[0;31mOSError\u001b[0m: [Errno 12] Cannot allocate memory"
     ]
    }
   ],
   "source": [
    "# Waits for another program to remove the .lock file before continuing execution\n",
    "!rm .lock\n",
    "# Comment out next line to disable lock\n",
    "# !touch .lock\n",
    "\n",
    "while True:\n",
    "    if(subprocess.check_output('test -f .lock ; echo $?', shell=True).decode('utf-8')[0]=='0'):\n",
    "        break\n",
    "    try:\n",
    "        runOneEpoch(model, 0.0001)\n",
    "    except (KeyboardInterrupt, SystemExit):\n",
    "        raise\n",
    "    except:\n",
    "        print(\"Caught error\")\n",
    "\n",
    "print(\"Training stopped\")"
   ]
  },
  {
   "cell_type": "code",
   "execution_count": null,
   "metadata": {},
   "outputs": [],
   "source": [
    "print(sess.run(images).shape)"
   ]
  },
  {
   "cell_type": "code",
   "execution_count": null,
   "metadata": {},
   "outputs": [],
   "source": [
    "testAudio(images, \"real\")\n",
    "testAudio(generated, \"fake\")"
   ]
  },
  {
   "cell_type": "code",
   "execution_count": null,
   "metadata": {},
   "outputs": [],
   "source": [
    "while(kernel is dead):\n",
    "    plant_a_new_seed()"
   ]
  }
 ],
 "metadata": {
  "accelerator": "GPU",
  "colab": {
   "collapsed_sections": [],
   "name": "dcgan.ipynb",
   "private_outputs": true,
   "provenance": [
    {
     "file_id": "1eb0NOTQapkYs3X0v-zL1x5_LFKgDISnp",
     "timestamp": 1527173385672
    }
   ],
   "toc_visible": true,
   "version": "0.3.2"
  },
  "kernelspec": {
   "display_name": "Python 3",
   "language": "python",
   "name": "python3"
  },
  "language_info": {
   "codemirror_mode": {
    "name": "ipython",
    "version": 3
   },
   "file_extension": ".py",
   "mimetype": "text/x-python",
   "name": "python",
   "nbconvert_exporter": "python",
   "pygments_lexer": "ipython3",
   "version": "3.5.3"
  }
 },
 "nbformat": 4,
 "nbformat_minor": 1
}
