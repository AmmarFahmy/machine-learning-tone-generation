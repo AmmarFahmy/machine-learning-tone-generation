{
 "cells": [
  {
   "cell_type": "markdown",
   "metadata": {},
   "source": [
    "# WGAN-GP with DCGAN layers\n",
    "Code is mainly based upon the DCGAN implementation in the TensorFlow tutorials"
   ]
  },
  {
   "cell_type": "code",
   "execution_count": 1,
   "metadata": {
    "_uuid": "36af9c2edba178f04e989ca2a5935878caf7b0c4",
    "colab": {},
    "colab_type": "code",
    "id": "YfIk2es3hJEd"
   },
   "outputs": [],
   "source": [
    "from __future__ import absolute_import, division, print_function\n",
    "\n",
    "import tensorflow as tf\n",
    "#import memory_saving_gradients\n",
    "# monkey patch tf.gradients to point to our custom version, with automatic checkpoint selection\n",
    "#tf.__dict__[\"gradients\"] = memory_saving_gradients.gradients_memory\n",
    "import librosa\n",
    "import os\n",
    "import functools\n",
    "import subprocess\n",
    "import time\n",
    "import numpy as np\n",
    "import matplotlib.pyplot as plt\n",
    "import PIL\n",
    "#import imageio\n",
    "#import simpleaudio as sa\n",
    "import math\n",
    "import gc\n",
    "from IPython import display\n",
    "import time\n",
    "import scipy.io.wavfile as wavfile\n",
    "from IPython.display import clear_output, Image, display, HTML\n",
    "from tensorflow.layers import dense, flatten\n",
    "from tensorflow.nn import relu, leaky_relu\n",
    "from tensorflow import tanh\n",
    "from tensorflow.image import ResizeMethod\n",
    "#from google.cloud import storage\n",
    "#import google.auth\n",
    "#from google.auth import compute_engine\n",
    "\n",
    "resize_images = lambda x, size: tf.transpose(tf.image.resize_bilinear(tf.transpose(x, [0, 2, 3, 1]), size, align_corners=True), [0, 3, 1, 2])\n",
    "conv2d_transpose = functools.partial(tf.layers.conv2d_transpose, padding='same', data_format='channels_first')\n",
    "conv2d = functools.partial(tf.layers.conv2d, padding='same', data_format='channels_first')\n",
    "batch_norm = functools.partial(tf.layers.batch_normalization, axis=1)\n",
    "layer_norm = lambda x: tf.transpose(tf.contrib.layers.layer_norm(tf.transpose(x, [0, 2, 3, 1])), [0, 3, 1, 2])\n",
    "pool = functools.partial(tf.nn.pool, window_shape=(2, 2), pooling_type='AVG', padding='SAME', data_format='NCHW')"
   ]
  },
  {
   "cell_type": "code",
   "execution_count": 2,
   "metadata": {},
   "outputs": [],
   "source": [
    "def playAudio(audio, sr):\n",
    "    audio = audio.astype(np.int16)\n",
    "    play_obj = sa.play_buffer(audio, 1, 2, sr)\n",
    "    play_obj.wait_done()"
   ]
  },
  {
   "cell_type": "markdown",
   "metadata": {},
   "source": [
    "# Hyperparameters"
   ]
  },
  {
   "cell_type": "code",
   "execution_count": 3,
   "metadata": {
    "_uuid": "cbe0b356b41cbdeb6751dfde003e8590cb68586b",
    "colab": {},
    "colab_type": "code",
    "id": "NS2GWywBbAWo"
   },
   "outputs": [],
   "source": [
    "# Number for large nsynth-train dataset\n",
    "TOTAL_NUM = 102165\n",
    "# Number for small nsynth-test dataset\n",
    "# TOTAL_NUM = 1689\n",
    "BUFFER_SIZE = 2048\n",
    "BATCH_SIZE = 64\n",
    "PREFETCH_BUFFER_SIZE = 2 * BATCH_SIZE\n",
    "# EPOCHS = 150\n",
    "LAMBDA = 10\n",
    "ALPHA = 0.0002\n",
    "BETA1 = 0.5\n",
    "BETA2 = 0.999\n",
    "CRITIC_UPDATES_PER_GEN_UPDATE = 5\n",
    "noise_dim = 100\n",
    "num_steps = 20\n",
    "num_examples_to_generate = 16\n",
    "padded_spec_dim = (1, 512, 256)\n",
    "spec_dim = (1, 512, 251)\n",
    "epoch_proportion_counter = 0.0\n",
    "model_dir = 'gs://jz-model-checkpoints/gan-tpu/'"
   ]
  },
  {
   "cell_type": "markdown",
   "metadata": {},
   "source": [
    "# Defining models"
   ]
  },
  {
   "cell_type": "code",
   "execution_count": 4,
   "metadata": {
    "_uuid": "16478afa6311040cd8132a2c1980652a656618e6",
    "colab": {},
    "colab_type": "code",
    "id": "RmdVsmvhPxyy"
   },
   "outputs": [],
   "source": [
    "def generate_images(images, source='fake', save=True):\n",
    "    # make sure the training parameter is set to False because we\n",
    "    # don't want to train the batchnorm layer when doing inference.\n",
    "    \n",
    "    if(source=='fake'):\n",
    "        disp_images = images['fake_images']\n",
    "    elif(source=='real'):\n",
    "        disp_images = images['real_images']\n",
    "    else:\n",
    "        raise ValueError\n",
    "    fig = plt.figure(figsize=(4,4))\n",
    "    \n",
    "    for i in range(16):\n",
    "        plt.subplot(4, 4, i+1)\n",
    "        plt.imshow(disp_images[i, 0, :, :] * 127.5, cmap=\"magma\", origin=\"lower\", aspect=\"auto\")\n",
    "        plt.axis('off')\n",
    "    if(save):\n",
    "        plt.savefig('images/image_at_epoch_{:.2f}.png'.format(epoch_counter))\n",
    "    plt.show()"
   ]
  },
  {
   "cell_type": "code",
   "execution_count": 5,
   "metadata": {},
   "outputs": [],
   "source": [
    "def residBlockUpscale(num, x, num_filters, filter_size=5, strides=(2, 2), \n",
    "                      num_filters_intermed=None, training=True):\n",
    "    with tf.variable_scope('resid-block-upscale-{}'.format(num)):\n",
    "        if(num_filters_intermed is None):\n",
    "            num_filters_intermed = num_filters\n",
    "        x_orig = resize_images(x, (x.shape[2]*strides[0], x.shape[3]*strides[1]))\n",
    "        x_orig = conv2d(x_orig, num_filters, 1, 1)\n",
    "        x = batch_norm(x, training=training)\n",
    "        x = relu(x)\n",
    "        x = resize_images(x, (x.shape[2]*strides[0], x.shape[3]*strides[1]))\n",
    "        x = conv2d(x, num_filters_intermed, filter_size, 1, use_bias=False)\n",
    "        x = batch_norm(x, training=training)\n",
    "        x = relu(x)\n",
    "        x = conv2d(x, num_filters, filter_size, 1, use_bias=False)\n",
    "        x = x_orig + x\n",
    "        return x\n",
    "\n",
    "def residBlockDownscale(num, x, num_filters, filter_size=5, strides=(2, 2), \n",
    "                        num_filters_intermed=None, training=True):\n",
    "    with tf.variable_scope('resid-block-downscale-{}'.format(num)):\n",
    "        if(num_filters_intermed is None):\n",
    "            num_filters_intermed = num_filters\n",
    "        x_orig = pool(x, window_shape=strides)\n",
    "        x_orig = conv2d(x_orig, num_filters, 1, 1)\n",
    "        x = layer_norm(x)\n",
    "        x = relu(x)\n",
    "        x = conv2d(x, num_filters_intermed, filter_size, 1)\n",
    "        x = layer_norm(x)\n",
    "        x = relu(x)\n",
    "        x = conv2d(x, num_filters_intermed, filter_size, 1)\n",
    "        x = pool(x)\n",
    "        x = x_orig + x\n",
    "        return x\n",
    "    \n",
    "def upsampleConvBatchNorm(num, x, num_filters, filter_size=5, strides=(2, 2), training=True):\n",
    "    with tf.variable_scope('upsample-conv-batch-norm-{}'.format(num)):\n",
    "        x = resize_images(x, (x.shape[2]*strides[0], x.shape[3]*strides[1]))\n",
    "        x = conv2d(x, num_filters, filter_size, 1, use_bias=False)\n",
    "        x = batch_norm(x, training=training)\n",
    "        x = relu(x)\n",
    "        return x\n",
    "\n",
    "def convLayerNorm(num, x, num_filters, filter_size=5, strides=(2, 2), training=True):\n",
    "    with tf.variable_scope('conv-layer-norm-{}'.format(num)):\n",
    "        x = conv2d(x, num_filters, filter_size)\n",
    "        x = layer_norm(x)\n",
    "        x = leaky_relu(x)\n",
    "        return x"
   ]
  },
  {
   "cell_type": "code",
   "execution_count": 6,
   "metadata": {},
   "outputs": [],
   "source": [
    "def generator(x, training=True):\n",
    "    # Input x is noise vector\n",
    "    with tf.variable_scope('generator', reuse=tf.AUTO_REUSE):\n",
    "        # x_orig = tf.transpose(tf.image.resize_bicubic(tf.transpose(x, [0, 2, 3, 1]), 512*256), [0, 3, 1, 2])\n",
    "        x = dense(x, 256*32*16)\n",
    "        # MAKE SURE SHAPES ARE EQUAL, OR ELSE SIZE -1 WILL CAUSE BATCH SIZE MISMATCH\n",
    "        x = tf.reshape(x, shape = (-1, 256, 32, 16))\n",
    "        x = upsampleConvBatchNorm(1, x, 256, training=training)\n",
    "        x = upsampleConvBatchNorm(2, x, 256, training=training)\n",
    "        x = upsampleConvBatchNorm(3, x, 128, training=training)\n",
    "        x = upsampleConvBatchNorm(4, x, 128, training=training)\n",
    "        x = batch_norm(x, training=training)\n",
    "        x = relu(x)\n",
    "        x = conv2d(x, 3, 5, 1)\n",
    "        x = tanh(x)\n",
    "        x = x[:, :, :, 0:251]\n",
    "        return x\n",
    "    \n",
    "def critic(x, training=True):\n",
    "    with tf.variable_scope('critic', reuse=tf.AUTO_REUSE):\n",
    "        x = convLayerNorm(1, x, 128, strides=(1, 1), training=training)\n",
    "        x = convLayerNorm(2, x, 128, training=training)\n",
    "        x = convLayerNorm(3, x, 256, training=training)\n",
    "        x = convLayerNorm(4, x, 256, training=training)\n",
    "        x = convLayerNorm(5, x, 256, training=training)\n",
    "        x = flatten(x)\n",
    "        x = dense(x, 1)\n",
    "        return x"
   ]
  },
  {
   "cell_type": "markdown",
   "metadata": {},
   "source": [
    "# Making a TPUEstimator"
   ]
  },
  {
   "cell_type": "code",
   "execution_count": 7,
   "metadata": {},
   "outputs": [],
   "source": [
    "def record_parser(raw_data):\n",
    "    read_features = {\n",
    "            'note': tf.FixedLenFeature([], dtype=tf.int64),\n",
    "            'note_str': tf.FixedLenFeature([], dtype=tf.string),\n",
    "            'instrument': tf.FixedLenFeature([], dtype=tf.int64),\n",
    "            'instrument_str': tf.FixedLenFeature([], dtype=tf.string),\n",
    "            'pitch': tf.FixedLenFeature([], dtype=tf.int64),\n",
    "            'velocity': tf.FixedLenFeature([], dtype=tf.int64),\n",
    "            'sample_rate': tf.FixedLenFeature([], dtype=tf.int64),\n",
    "            'spectrogram': tf.FixedLenFeature([385536], dtype=tf.float32),\n",
    "            #'spectrogram': tf.FixedLenFeature([128512], dtype=tf.float32),\n",
    "            'instrument_family': tf.FixedLenFeature([], dtype=tf.int64),\n",
    "            'instrument_family_str': tf.FixedLenFeature([], dtype=tf.string),\n",
    "            'instrument_source': tf.FixedLenFeature([], dtype=tf.int64),\n",
    "            'instrument_source_str': tf.FixedLenFeature([], dtype=tf.string)\n",
    "    }\n",
    "    return tf.reshape(tf.parse_single_example(serialized=raw_data, features=read_features)['spectrogram'], (3, 512, 251))\n",
    "\n",
    "params = {\n",
    "    'batch_size': BATCH_SIZE,\n",
    "}\n",
    "\n",
    "def input_fn(params):\n",
    "    with tf.variable_scope('input-pipeline'):\n",
    "        # Reading features of TFRecord file\n",
    "        files = tf.data.Dataset.list_files('gs://jz-datasets/spec-files/*.tfrecord')\n",
    "        specs = files.apply(tf.data.experimental.parallel_interleave(tf.data.TFRecordDataset, cycle_length=2))\n",
    "        specs = specs.apply(tf.data.experimental.shuffle_and_repeat(buffer_size=BUFFER_SIZE))\n",
    "        # specs = specs.map(map_func=(lambda raw_data: tf.reshape(tf.parse_single_example(serialized=raw_data, features=read_features)['spectrogram'], spec_dim)), num_parallel_calls=-1)\n",
    "        specs = specs.apply(tf.data.experimental.map_and_batch(\n",
    "            map_func=lambda x: (record_parser(x), tf.zeros(params['batch_size'])), \n",
    "            num_parallel_calls=-1, \n",
    "            batch_size=params['batch_size'], \n",
    "            drop_remainder=True))\n",
    "        specs = specs.prefetch(buffer_size=2*params['batch_size'])\n",
    "        return specs\n",
    "    \n",
    "def model_fn(features, labels, mode, params):\n",
    "    global_step = tf.train.get_or_create_global_step()\n",
    "    with tf.variable_scope('runs'):\n",
    "        real_images = features\n",
    "        noise = tf.random_normal([int(BATCH_SIZE/8), noise_dim])\n",
    "        fake_images = generator(noise)\n",
    "        critic_real = critic(real_images)\n",
    "        critic_fake = critic(fake_images)\n",
    "        # keeping the random vector constant for generation (prediction) so\n",
    "        # it will be easier to see the improvement of the gan.\n",
    "    random_vector_for_generation = lambda: tf.Variable(\n",
    "        tf.random_normal([16, noise_dim]), \n",
    "        trainable=False, \n",
    "        name='constant-latent-space'\n",
    "    )\n",
    "    if mode == tf.estimator.ModeKeys.PREDICT:\n",
    "        test_images = {\n",
    "            'fake_images': generator(random_vector_for_generation, training=False),\n",
    "            'real_images': features\n",
    "        }\n",
    "        return tf.contrib.tpu.TPUEstimatorSpec(mode, predictions=test_images)\n",
    "    with tf.variable_scope('costs'):\n",
    "            gen_cost = -tf.reduce_mean(critic_fake)\n",
    "            critic_cost_naive = tf.reduce_mean(critic_fake)-tf.reduce_mean(critic_real)\n",
    "\n",
    "            with tf.variable_scope('gradient-penalty'):\n",
    "                alpha = tf.random_uniform(shape=[int(BATCH_SIZE/8), spec_dim[0], spec_dim[1], spec_dim[2]], minval=0., maxval=1.)\n",
    "                differences = fake_images-real_images\n",
    "                interpolates = real_images+(alpha*differences)\n",
    "                gradients = tf.gradients(critic(interpolates), [interpolates])[0]\n",
    "                slopes = tf.sqrt(tf.reduce_sum(tf.square(gradients), reduction_indices=[1]))\n",
    "                gradient_penalty = tf.reduce_mean((slopes-1.)**2)\n",
    "                critic_cost = critic_cost_naive + LAMBDA*gradient_penalty\n",
    "\n",
    "            costs = {\n",
    "                'gen_cost': gen_cost,\n",
    "                'critic_cost': critic_cost\n",
    "            }\n",
    "\n",
    "    if mode == tf.estimator.ModeKeys.EVAL:\n",
    "        return tf.contrib.tpu.TPUEstimatorSpec(mode, loss=0) # , eval_metric_ops=costs)\n",
    "\n",
    "    if mode == tf.estimator.ModeKeys.TRAIN:\n",
    "        with tf.variable_scope('optimizers'):\n",
    "            with tf.control_dependencies(tf.get_collection(tf.GraphKeys.UPDATE_OPS)):\n",
    "                gen_opt = tf.contrib.tpu.CrossShardOptimizer(tf.train.AdamOptimizer(ALPHA, BETA1, BETA2)).minimize(gen_cost, global_step=global_step, var_list=tf.get_collection(tf.GraphKeys.TRAINABLE_VARIABLES, scope='runs/generator'))\n",
    "                critic_opt = tf.contrib.tpu.CrossShardOptimizer(tf.train.AdamOptimizer(ALPHA, BETA1, BETA2)).minimize(critic_cost, global_step=global_step, var_list=tf.get_collection(tf.GraphKeys.TRAINABLE_VARIABLES, scope='runs/critic'))\n",
    "            opt = tf.cond(\n",
    "                tf.equal(tf.mod(tf.train.get_or_create_global_step(), CRITIC_UPDATES_PER_GEN_UPDATE+1), CRITIC_UPDATES_PER_GEN_UPDATE+1), \n",
    "                lambda: gen_opt, \n",
    "                lambda: critic_opt\n",
    "            )\n",
    "        return tf.contrib.tpu.TPUEstimatorSpec(mode, loss=critic_cost, train_op=opt)\n",
    "\n",
    "    return\n",
    "    #return generator, gen_opt, critic_opt, real_images, test_images, ranEpoch, getEpoch, increment, merged, global_step"
   ]
  },
  {
   "cell_type": "code",
   "execution_count": 8,
   "metadata": {},
   "outputs": [],
   "source": [
    "cluster_resolver = tf.contrib.cluster_resolver.TPUClusterResolver(\n",
    "    tpu=[\"asianzhang812\",], \n",
    "    zone=\"us-central1-f\", \n",
    "    project=\"jz-cloud-test\"\n",
    ")\n",
    "\n",
    "tpu_run_config = tf.contrib.tpu.RunConfig(\n",
    "    cluster=cluster_resolver, \n",
    "    model_dir=model_dir,\n",
    "    session_config=tf.ConfigProto(allow_soft_placement=True, log_device_placement=True),\n",
    "    tpu_config=tf.contrib.tpu.TPUConfig(num_steps, 8)\n",
    ")  "
   ]
  },
  {
   "cell_type": "code",
   "execution_count": 9,
   "metadata": {
    "_uuid": "ac0e304af171a8d292728d743ae39e464da065cf",
    "colab": {},
    "colab_type": "code",
    "id": "2M7LmLtGEMQJ"
   },
   "outputs": [],
   "source": [
    "def runOneEpoch(model, epoch_proportion=1):\n",
    "    start = time.time()\n",
    "    steps_to_take = np.ceil((epoch_proportion_counter+epoch_proportion) * float(TOTAL_NUM)/BATCH_SIZE)# - sess.run(global_step)\n",
    "    \n",
    "    model.train(input_fn, steps=num_steps)\n",
    "    \n",
    "    epoch_counter += epoch_proportion\n",
    "    clear_output(wait=True)\n",
    "    print(\"Finished epoch {:.2f}\".format(epoch_counter))\n",
    "\n",
    "    generate_images(model.predict(input_fn)['images'])\n",
    "    # saving (checkpoint) the model every 15 epochs\n",
    "    #if (epoch + 1) % 15 == 0:\n",
    "        #checkpoint.save(file_prefix = checkpoint_prefix)\n",
    "\n",
    "    print('Time taken {} sec'.format(time.time()-start))"
   ]
  },
  {
   "cell_type": "code",
   "execution_count": 10,
   "metadata": {},
   "outputs": [],
   "source": [
    "def testAudio(batch, prefix):\n",
    "    specs = sess.run(batch)\n",
    "    for i in range(specs.shape[0]):\n",
    "        spec = specs[i]\n",
    "        mag = spec[:, :, 0]\n",
    "        angles = spec[:, :, 1]\n",
    "        mag = ((mag+1)/2)*48-32\n",
    "        angles = angles*math.pi\n",
    "        ft =(np.exp(mag)-1.2664166e-14)*np.exp(1j*angles)\n",
    "        newaudio = librosa.istft(ft, 512, 2048).astype(np.int16)\n",
    "        #print('Generated audio')\n",
    "        #print('Interval of audio: [{}, {}]'.format(np.amin(newaudio), np.amax(newaudio)))\n",
    "        wavfile.write(\"audio/{}-{}.wav\".format(prefix, i), 16000, newaudio)"
   ]
  },
  {
   "cell_type": "markdown",
   "metadata": {},
   "source": [
    "# Running the model"
   ]
  },
  {
   "cell_type": "code",
   "execution_count": 11,
   "metadata": {
    "_kg_hide-output": true,
    "_uuid": "446c1e4d2462906cc5ed888104e549ac86b476b2",
    "colab": {},
    "colab_type": "code",
    "id": "Ly3UN0SLLY2l",
    "scrolled": true
   },
   "outputs": [
    {
     "name": "stdout",
     "output_type": "stream",
     "text": [
      "WARNING:tensorflow:Estimator's model_fn (<function model_fn at 0x7f21a26967b8>) includes params argument, but params are not passed to Estimator.\n",
      "INFO:tensorflow:Using config: {'_tf_random_seed': None, '_cluster_spec': <tensorflow.python.training.server_lib.ClusterSpec object at 0x7f21e44642b0>, '_evaluation_master': 'grpc://10.240.1.4:8470', '_save_checkpoints_steps': None, '_master': 'grpc://10.240.1.4:8470', '_train_distribute': None, '_session_config': allow_soft_placement: true\n",
      "log_device_placement: true\n",
      "cluster_def {\n",
      "  job {\n",
      "    name: \"worker\"\n",
      "    tasks {\n",
      "      value: \"10.240.1.4:8470\"\n",
      "    }\n",
      "  }\n",
      "}\n",
      ", '_num_ps_replicas': 0, '_save_summary_steps': 100, '_num_worker_replicas': 1, '_task_type': 'worker', '_tpu_config': TPUConfig(iterations_per_loop=20, num_shards=8, num_cores_per_replica=None, per_host_input_for_training=2, tpu_job_name=None, initial_infeed_sleep_secs=None, input_partition_dims=None), '_log_step_count_steps': None, '_eval_distribute': None, '_experimental_distribute': None, '_keep_checkpoint_every_n_hours': 10000, '_save_checkpoints_secs': 600, '_protocol': None, '_is_chief': True, '_model_dir': 'gs://jz-model-checkpoints/gan-tpu/', '_global_id_in_cluster': 0, '_keep_checkpoint_max': 5, '_device_fn': None, '_task_id': 0, '_service': None, '_cluster': <tensorflow.contrib.cluster_resolver.python.training.tpu_cluster_resolver.TPUClusterResolver object at 0x7f21e445cf60>}\n",
      "INFO:tensorflow:_TPUContext: eval_on_tpu True\n"
     ]
    }
   ],
   "source": [
    "model = tf.contrib.tpu.TPUEstimator(\n",
    "    model_fn=model_fn, \n",
    "    config=tpu_run_config, \n",
    "    use_tpu=True, \n",
    "    train_batch_size=BATCH_SIZE, \n",
    "    predict_batch_size=16\n",
    ")\n",
    "global_step = tf.train.get_or_create_global_step()"
   ]
  },
  {
   "cell_type": "code",
   "execution_count": null,
   "metadata": {
    "scrolled": false
   },
   "outputs": [
    {
     "name": "stdout",
     "output_type": "stream",
     "text": [
      "rm: cannot remove '.lock': No such file or directory\n",
      "INFO:tensorflow:Querying Tensorflow master (grpc://10.240.1.4:8470) for TPU system metadata.\n",
      "INFO:tensorflow:Found TPU system:\n",
      "INFO:tensorflow:*** Num TPU Cores: 8\n",
      "INFO:tensorflow:*** Num TPU Workers: 1\n",
      "INFO:tensorflow:*** Num TPU Cores Per Worker: 8\n",
      "INFO:tensorflow:*** Available Device: _DeviceAttributes(/job:worker/replica:0/task:0/device:CPU:0, CPU, -1, 15343209410290932223)\n",
      "INFO:tensorflow:*** Available Device: _DeviceAttributes(/job:worker/replica:0/task:0/device:XLA_CPU:0, XLA_CPU, 17179869184, 9001183881914023182)\n",
      "INFO:tensorflow:*** Available Device: _DeviceAttributes(/job:worker/replica:0/task:0/device:XLA_GPU:0, XLA_GPU, 17179869184, 11194082492982754393)\n",
      "INFO:tensorflow:*** Available Device: _DeviceAttributes(/job:worker/replica:0/task:0/device:TPU:0, TPU, 17179869184, 10262883742944767923)\n",
      "INFO:tensorflow:*** Available Device: _DeviceAttributes(/job:worker/replica:0/task:0/device:TPU:1, TPU, 17179869184, 12561902318491508643)\n",
      "INFO:tensorflow:*** Available Device: _DeviceAttributes(/job:worker/replica:0/task:0/device:TPU:2, TPU, 17179869184, 15924936835780938155)\n",
      "INFO:tensorflow:*** Available Device: _DeviceAttributes(/job:worker/replica:0/task:0/device:TPU:3, TPU, 17179869184, 11766567445739080624)\n",
      "INFO:tensorflow:*** Available Device: _DeviceAttributes(/job:worker/replica:0/task:0/device:TPU:4, TPU, 17179869184, 5343541806554581725)\n",
      "INFO:tensorflow:*** Available Device: _DeviceAttributes(/job:worker/replica:0/task:0/device:TPU:5, TPU, 17179869184, 9136237229063115371)\n",
      "INFO:tensorflow:*** Available Device: _DeviceAttributes(/job:worker/replica:0/task:0/device:TPU:6, TPU, 17179869184, 353760285259062217)\n",
      "INFO:tensorflow:*** Available Device: _DeviceAttributes(/job:worker/replica:0/task:0/device:TPU:7, TPU, 17179869184, 164519791810481797)\n",
      "INFO:tensorflow:*** Available Device: _DeviceAttributes(/job:worker/replica:0/task:0/device:TPU_SYSTEM:0, TPU_SYSTEM, 17179869184, 14489545129160644885)\n",
      "INFO:tensorflow:Calling model_fn.\n",
      "INFO:tensorflow:Create CheckpointSaverHook.\n",
      "INFO:tensorflow:Done calling model_fn.\n",
      "INFO:tensorflow:TPU job name worker\n",
      "INFO:tensorflow:Graph was finalized.\n",
      "INFO:tensorflow:Running local_init_op.\n",
      "INFO:tensorflow:Done running local_init_op.\n",
      "INFO:tensorflow:Saving checkpoints for 0 into gs://jz-model-checkpoints/gan-tpu/model.ckpt.\n",
      "INFO:tensorflow:Initialized dataset iterators in 0 seconds\n",
      "INFO:tensorflow:Installing graceful shutdown hook.\n",
      "INFO:tensorflow:Creating heartbeat manager for ['/job:tpu_worker/replica:0/task:0/device:CPU:0']\n",
      "INFO:tensorflow:Configuring worker heartbeat: shutdown_mode: WAIT_FOR_COORDINATOR\n",
      "\n",
      "INFO:tensorflow:Init TPU system\n",
      "INFO:tensorflow:Initialized TPU in 3 seconds\n",
      "INFO:tensorflow:Starting infeed thread controller.\n",
      "INFO:tensorflow:Starting outfeed thread controller.\n",
      "INFO:tensorflow:Enqueue next (20) batch(es) of data to infeed.\n",
      "INFO:tensorflow:Dequeue next (20) batch(es) of data from outfeed.\n"
     ]
    }
   ],
   "source": [
    "# Waits for another program to remove the .lock file before continuing execution\n",
    "!rm .lock\n",
    "# Comment out next line to disable lock\n",
    "# !touch .lock\n",
    "while(subprocess.check_output('test -f .lock ; echo $?', shell=True).decode('utf-8')[0]=='0'):\n",
    "    time.sleep(5)\n",
    "print('Unlocked', end='\\r')\n",
    "\n",
    "while True:\n",
    "        runOneEpoch(model, 0.0001)"
   ]
  },
  {
   "cell_type": "code",
   "execution_count": null,
   "metadata": {},
   "outputs": [],
   "source": [
    "fake_images, real_images = model.predict(input_fn)\n",
    "print(fake_images)\n",
    "print(type(prediction))\n",
    "generate_images(model.predict(input_fn), source='real', save=False)"
   ]
  },
  {
   "cell_type": "code",
   "execution_count": null,
   "metadata": {},
   "outputs": [],
   "source": [
    "print(sess.run(images).shape)"
   ]
  },
  {
   "cell_type": "code",
   "execution_count": null,
   "metadata": {},
   "outputs": [],
   "source": [
    "testAudio(images, \"real\")\n",
    "testAudio(generated, \"fake\")"
   ]
  },
  {
   "cell_type": "code",
   "execution_count": null,
   "metadata": {},
   "outputs": [],
   "source": [
    "while(kernel is dead):\n",
    "    plant_a_new_seed()"
   ]
  }
 ],
 "metadata": {
  "accelerator": "GPU",
  "colab": {
   "collapsed_sections": [],
   "name": "dcgan.ipynb",
   "private_outputs": true,
   "provenance": [
    {
     "file_id": "1eb0NOTQapkYs3X0v-zL1x5_LFKgDISnp",
     "timestamp": 1527173385672
    }
   ],
   "toc_visible": true,
   "version": "0.3.2"
  },
  "kernelspec": {
   "display_name": "Python 3",
   "language": "python",
   "name": "python3"
  },
  "language_info": {
   "codemirror_mode": {
    "name": "ipython",
    "version": 3
   },
   "file_extension": ".py",
   "mimetype": "text/x-python",
   "name": "python",
   "nbconvert_exporter": "python",
   "pygments_lexer": "ipython3",
   "version": "3.5.3"
  }
 },
 "nbformat": 4,
 "nbformat_minor": 1
}
