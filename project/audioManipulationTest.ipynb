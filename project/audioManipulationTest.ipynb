{
 "cells": [
  {
   "cell_type": "code",
   "execution_count": 33,
   "metadata": {},
   "outputs": [
    {
     "name": "stdout",
     "output_type": "stream",
     "text": [
      "Sample rate:  44100\n",
      "Shape of spectrogram:  (129, 1968)\n"
     ]
    },
    {
     "data": {
      "image/png": "[encoded data removed]",
      "text/plain": [
       "<matplotlib.figure.Figure at 0x1c1603a9e8>"
      ]
     },
     "metadata": {},
     "output_type": "display_data"
    },
    {
     "data": {
      "text/plain": [
       "<matplotlib.figure.Figure at 0x1c17e7b5c0>"
      ]
     },
     "metadata": {},
     "output_type": "display_data"
    }
   ],
   "source": [
    "import matplotlib.pyplot as plt\n",
    "from scipy import signal\n",
    "from scipy.io import wavfile\n",
    "\n",
    "sample_rate, samples = wavfile.read('audio/homeFloor.wav')\n",
    "samples = samples[44100*5 : 44100*15, 0]\n",
    "print(\"Sample rate: \", sample_rate)\n",
    "\n",
    "frequencies, times, spectrogram = signal.spectrogram(samples, sample_rate)\n",
    "print(\"Shape of spectrogram: \", spectrogram.shape)\n",
    "frequencies.resize(40);\n",
    "spectrogram = spectrogram[ : 40, :]\n",
    "\"\"\"print(sample_rate)\n",
    "print(samples)\n",
    "channel1 = samples[ : , 0]\n",
    "print(channel1)\n",
    "print(channel1.size)\"\"\"\n",
    "\n",
    "plt.pcolormesh(times, frequencies, spectrogram)\n",
    "\n",
    "plt.imshow(spectrogram, aspect=\"auto\")\n",
    "plt.gca().invert_yaxis()\n",
    "plt.ylabel('Frequency')\n",
    "plt.xlabel('Time')\n",
    "plt.figure(figsize=(10,10))\n",
    "plt.show()"
   ]
  },
  {
   "cell_type": "code",
   "execution_count": 3,
   "metadata": {},
   "outputs": [
    {
     "name": "stdout",
     "output_type": "stream",
     "text": [
      "[[-0.00073242 -0.00073242]\n",
      " [-0.00134277 -0.00134277]\n",
      " [-0.00073242 -0.00073242]\n",
      " ...\n",
      " [ 0.          0.        ]\n",
      " [ 0.          0.        ]\n",
      " [ 0.          0.        ]]\n",
      "4149120\n"
     ]
    }
   ],
   "source": [
    "import numpy as np\n",
    "import soundfile as sf\n",
    "\n",
    "data, fs = sf.read(\"audio/homeFloor.wav\", dtype=\"float32\")\n",
    "print(data)\n",
    "print(data.size)\n"
   ]
  },
  {
   "cell_type": "code",
   "execution_count": null,
   "metadata": {},
   "outputs": [],
   "source": []
  }
 ],
 "metadata": {
  "kernelspec": {
   "display_name": "Python 3",
   "language": "python",
   "name": "python3"
  },
  "language_info": {
   "codemirror_mode": {
    "name": "ipython",
    "version": 3
   },
   "file_extension": ".py",
   "mimetype": "text/x-python",
   "name": "python",
   "nbconvert_exporter": "python",
   "pygments_lexer": "ipython3",
   "version": "3.6.4"
  }
 },
 "nbformat": 4,
 "nbformat_minor": 2
}
