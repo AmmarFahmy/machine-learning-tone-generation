{
 "cells": [
  {
   "cell_type": "code",
   "execution_count": 3,
   "metadata": {},
   "outputs": [
    {
     "name": "stdout",
     "output_type": "stream",
     "text": [
      "Finished imports\n"
     ]
    }
   ],
   "source": [
    "from __future__ import absolute_import, division, print_function\n",
    "\n",
    "# Import TensorFlow >= 1.10 and enable eager execution\n",
    "import tensorflow as tf\n",
    "tf.enable_eager_execution()\n",
    "\n",
    "import librosa\n",
    "import os\n",
    "import time\n",
    "import numpy as np\n",
    "import glob\n",
    "import matplotlib.pyplot as plt\n",
    "import librosa\n",
    "#import simpleaudio as sa\n",
    "import math\n",
    "from IPython import display\n",
    "import sys\n",
    "\n",
    "print(\"Finished imports\")"
   ]
  },
  {
   "cell_type": "code",
   "execution_count": 4,
   "metadata": {
    "scrolled": true
   },
   "outputs": [
    {
     "name": "stdout",
     "output_type": "stream",
     "text": [
      "Acoustic: 101959/289000\n",
      "Done\n",
      "0\n",
      "100000\n",
      "-100\n",
      "100\n"
     ]
    }
   ],
   "source": [
    "# Converting into spectrograms\n",
    "# Spectrograms are stored as spectrograms.tfrecord\n",
    "nsynth = tf.data.TFRecordDataset(\"nsynth-train.tfrecord\")\n",
    "i = 1\n",
    "numTrue = 0\n",
    "read_features = {\n",
    "    'note': tf.FixedLenFeature([], dtype=tf.int64),\n",
    "    'note_str': tf.FixedLenFeature([], dtype=tf.string),\n",
    "    'instrument': tf.FixedLenFeature([], dtype=tf.int64),\n",
    "    'instrument_str': tf.FixedLenFeature([], dtype=tf.string),\n",
    "    'pitch': tf.FixedLenFeature([], dtype=tf.int64),\n",
    "    'velocity': tf.FixedLenFeature([], dtype=tf.int64),\n",
    "    'sample_rate': tf.FixedLenFeature([], dtype=tf.int64),\n",
    "    'audio': tf.VarLenFeature(dtype=float),\n",
    "    'instrument_family': tf.FixedLenFeature([], dtype=tf.int64),\n",
    "    'instrument_family_str': tf.FixedLenFeature([], dtype=tf.string),\n",
    "    'instrument_source': tf.FixedLenFeature([], dtype=tf.int64),\n",
    "    'instrument_source_str': tf.FixedLenFeature([], dtype=tf.string)\n",
    "}\n",
    "with tf.python_io.TFRecordWriter('spectrograms.tfrecord') as writer:\n",
    "    acoustic = 0\n",
    "    electronic = 0\n",
    "    synthesized = 0\n",
    "    not_sr = 0\n",
    "    total = 0\n",
    "    true_max = 0\n",
    "    true_min = 100000\n",
    "    phase_max = -100\n",
    "    phase_min = 100\n",
    "    for b in nsynth:\n",
    "        data = tf.parse_single_example(serialized=b, features=read_features)\n",
    "        #if(data['sample_rate'].numpy()!=16000):\n",
    "        #    not_sr += 1\n",
    "        #elif(data['instrument_source'].numpy()==0):\n",
    "        #    acoustic += 1\n",
    "        #elif(data['instrument_source'].numpy()==1):\n",
    "        #    electronic += 1\n",
    "        #elif(data['instrument_source'].numpy()==2):\n",
    "        #    synthesized += 1\n",
    "        total += 1\n",
    "        #print(\"Invalid: {}, acoustic: {}, electronic: {}, synthesized: {}, total: {}, minimum: {}, maximum: {}, sample rate: {}\".format(not_sr, acoustic, electronic, synthesized, total, true_min, true_max, data['sample_rate']), end='\\r')\n",
    "        if(total%1000==0): \n",
    "            print(\"Acoustic: {}/{}\".format(acoustic, total), end='\\r')\n",
    "        #if(True):\n",
    "        if(data['instrument_source'].numpy()==0):\n",
    "            acoustic += 1\n",
    "            audio = data['audio'].values.numpy()*15000\n",
    "            audio = np.array(audio)\n",
    "            spectrogram = librosa.stft(audio, 2048)\n",
    "            \n",
    "            magnitudes = np.log(np.abs(spectrogram) + 1.2664166e-14).reshape(1025, 126, 1)\n",
    "            phases = np.angle(spectrogram).reshape(1025, 126, 1)\n",
    "            #if(np.amax(magnitudes)>true_max):\n",
    "            #    true_max = np.amax(magnitudes)\n",
    "            #minimum = np.amin(magnitudes)\n",
    "            #if(minimum < true_min):\n",
    "            #    true_min = minimum\n",
    "            magnitudes = 2*(magnitudes+32)/(16+32)-1\n",
    "            #magnitudes = 2*(magnitudes-minimum)/(np.amax(magnitudes)-minimum)-1\n",
    "            #if(np.amax(phases)>phase_max):\n",
    "            #    phase_max = np.amax(phases)\n",
    "            #if(np.amin(phases)<phase_min):\n",
    "            #    phase_min = np.amin(phases)\n",
    "            phases = phases / (math.pi)\n",
    "            spec = np.concatenate([magnitudes, phases], 2).flatten()\n",
    "\n",
    "            example = tf.train.Example(features=tf.train.Features(feature={\n",
    "                'note': tf.train.Feature(int64_list=tf.train.Int64List(value=[data['note'].numpy()])),\n",
    "                'note_str': tf.train.Feature(bytes_list=tf.train.BytesList(value=[data['note_str'].numpy()])),\n",
    "                'instrument': tf.train.Feature(int64_list=tf.train.Int64List(value=[data['instrument'].numpy()])),\n",
    "                'instrument_str': tf.train.Feature(bytes_list=tf.train.BytesList(value=[data['instrument_str'].numpy()])),\n",
    "                'pitch': tf.train.Feature(int64_list=tf.train.Int64List(value=[data['pitch'].numpy()])),\n",
    "                'velocity': tf.train.Feature(int64_list=tf.train.Int64List(value=[data['velocity'].numpy()])),\n",
    "                'sample_rate': tf.train.Feature(int64_list=tf.train.Int64List(value=[data['sample_rate'].numpy()])),\n",
    "                'spectrogram': tf.train.Feature(float_list=tf.train.FloatList(value=spec)),\n",
    "                'instrument_family': tf.train.Feature(int64_list=tf.train.Int64List(value=[data['instrument_family'].numpy()])),\n",
    "                'instrument_family_str': tf.train.Feature(bytes_list=tf.train.BytesList(value=[data['instrument_family_str'].numpy()])),\n",
    "                'instrument_source': tf.train.Feature(int64_list=tf.train.Int64List(value=[data['instrument_source'].numpy()])),\n",
    "                'instrument_source_str': tf.train.Feature(bytes_list=tf.train.BytesList(value=[data['instrument_source_str'].numpy()]))\n",
    "            }))\n",
    "            \n",
    "            writer.write(example.SerializeToString())\n",
    "            \n",
    "print(\"\\nDone\")\n",
    "print(true_max)\n",
    "print(true_min)\n",
    "print(phase_max)\n",
    "print(phase_min)"
   ]
  },
  {
   "cell_type": "code",
   "execution_count": 5,
   "metadata": {},
   "outputs": [],
   "source": [
    "f = open(\"lock\", \"w\")\n",
    "f.write(\"Woops! I have deleted the content!\")\n",
    "f.close()"
   ]
  },
  {
   "cell_type": "code",
   "execution_count": null,
   "metadata": {},
   "outputs": [],
   "source": []
  }
 ],
 "metadata": {
  "kernelspec": {
   "display_name": "Python 3",
   "language": "python",
   "name": "python3"
  },
  "language_info": {
   "codemirror_mode": {
    "name": "ipython",
    "version": 3
   },
   "file_extension": ".py",
   "mimetype": "text/x-python",
   "name": "python",
   "nbconvert_exporter": "python",
   "pygments_lexer": "ipython3",
   "version": "3.5.3"
  }
 },
 "nbformat": 4,
 "nbformat_minor": 2
}
