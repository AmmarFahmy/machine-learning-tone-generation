{
 "cells": [
  {
   "cell_type": "code",
   "execution_count": 3,
   "metadata": {},
   "outputs": [
    {
     "name": "stderr",
     "output_type": "stream",
     "text": [
      "C:\\Users\\1002983\\AppData\\Local\\Continuum\\anaconda3\\lib\\site-packages\\h5py\\__init__.py:36: FutureWarning: Conversion of the second argument of issubdtype from `float` to `np.floating` is deprecated. In future, it will be treated as `np.float64 == np.dtype(float).type`.\n",
      "  from ._conv import register_converters as _register_converters\n"
     ]
    },
    {
     "name": "stdout",
     "output_type": "stream",
     "text": [
      "Finished imports\n"
     ]
    }
   ],
   "source": [
    "from __future__ import absolute_import, division, print_function\n",
    "\n",
    "# Import TensorFlow >= 1.10 and enable eager execution\n",
    "import tensorflow as tf\n",
    "tf.enable_eager_execution()\n",
    "\n",
    "import librosa\n",
    "import os\n",
    "import time\n",
    "import numpy as np\n",
    "import glob\n",
    "import matplotlib.pyplot as plt\n",
    "import PIL\n",
    "import imageio\n",
    "import pandas as pd\n",
    "import librosa\n",
    "import simpleaudio as sa\n",
    "import math\n",
    "from IPython import display\n",
    "\n",
    "print(\"Finished imports\")"
   ]
  },
  {
   "cell_type": "code",
   "execution_count": 5,
   "metadata": {},
   "outputs": [
    {
     "name": "stdout",
     "output_type": "stream",
     "text": [
      "Invalid: 0, acoustic: 1689, electronic: 1372, synthesized: 1035, total: 4096, minimum: -31.2515926361084, maximum: 15.814153671264648, sample rate: 16000\n",
      "Done\n",
      "15.814154\n",
      "-31.251593\n",
      "3.1415927\n",
      "-3.1415927\n"
     ]
    }
   ],
   "source": [
    "# Converting into spectrograms\n",
    "# Spectrograms are stored as spectrograms.tfrecord\n",
    "nsynth = tf.data.TFRecordDataset(\"nsynth-test.tfrecord\")\n",
    "i = 1\n",
    "numTrue = 0\n",
    "read_features = {\n",
    "    'note': tf.FixedLenFeature([], dtype=tf.int64),\n",
    "    'note_str': tf.FixedLenFeature([], dtype=tf.string),\n",
    "    'instrument': tf.FixedLenFeature([], dtype=tf.int64),\n",
    "    'instrument_str': tf.FixedLenFeature([], dtype=tf.string),\n",
    "    'pitch': tf.FixedLenFeature([], dtype=tf.int64),\n",
    "    'velocity': tf.FixedLenFeature([], dtype=tf.int64),\n",
    "    'sample_rate': tf.FixedLenFeature([], dtype=tf.int64),\n",
    "    'audio': tf.VarLenFeature(dtype=float),\n",
    "    'instrument_family': tf.FixedLenFeature([], dtype=tf.int64),\n",
    "    'instrument_family_str': tf.FixedLenFeature([], dtype=tf.string),\n",
    "    'instrument_source': tf.FixedLenFeature([], dtype=tf.int64),\n",
    "    'instrument_source_str': tf.FixedLenFeature([], dtype=tf.string)\n",
    "}\n",
    "with tf.python_io.TFRecordWriter('spectrograms.tfrecord') as writer:\n",
    "    acoustic = 0\n",
    "    electronic = 0\n",
    "    synthesized = 0\n",
    "    not_sr = 0\n",
    "    total = 0\n",
    "    true_max = 0\n",
    "    true_min = 100000\n",
    "    phase_max = -100\n",
    "    phase_min = 100\n",
    "    for b in nsynth:\n",
    "        data = tf.parse_single_example(serialized=b, features=read_features)\n",
    "        if(data['sample_rate'].numpy()!=16000):\n",
    "            not_sr += 1\n",
    "        elif(data['instrument_source'].numpy()==0):\n",
    "            acoustic += 1\n",
    "        elif(data['instrument_source'].numpy()==1):\n",
    "            electronic += 1\n",
    "        elif(data['instrument_source'].numpy()==2):\n",
    "            synthesized += 1\n",
    "        total += 1\n",
    "        print(\"Invalid: {}, acoustic: {}, electronic: {}, synthesized: {}, total: {}, minimum: {}, maximum: {}, sample rate: {}\".format(not_sr, acoustic, electronic, synthesized, total, true_min, true_max, data['sample_rate']), end=\"\\r\")\n",
    "        \n",
    "        if(data['instrument_source'].numpy()==0 and data['sample_rate'].numpy()==16000):\n",
    "            audio = data['audio'].values.numpy()*15000\n",
    "            audio = np.array(audio)\n",
    "            spectrogram = librosa.stft(audio, 2048)\n",
    "            \n",
    "            magnitudes = np.log(np.abs(spectrogram) + 1.2664166e-14).reshape(1025, 126, 1)\n",
    "            phases = np.angle(spectrogram).reshape(1025, 126, 1)\n",
    "            if(np.amax(magnitudes)>true_max):\n",
    "                true_max = np.amax(magnitudes)\n",
    "            minimum = np.amin(magnitudes)\n",
    "            if(minimum < true_min):\n",
    "                true_min = minimum\n",
    "            magnitudes = 2*(magnitudes+32)/(16+32)-1\n",
    "            #magnitudes = 2*(magnitudes-minimum)/(np.amax(magnitudes)-minimum)-1\n",
    "            if(np.amax(phases)>phase_max):\n",
    "                phase_max = np.amax(phases)\n",
    "            if(np.amin(phases)<phase_min):\n",
    "                phase_min = np.amin(phases)\n",
    "            phases = phases / (math.pi)\n",
    "            spec = np.concatenate([magnitudes, phases], 2).flatten().tolist()\n",
    "\n",
    "            example = tf.train.Example(features=tf.train.Features(feature={\n",
    "                'note': tf.train.Feature(int64_list=tf.train.Int64List(value=[data['note'].numpy()])),\n",
    "                'note_str': tf.train.Feature(bytes_list=tf.train.BytesList(value=[data['note_str'].numpy()])),\n",
    "                'instrument': tf.train.Feature(int64_list=tf.train.Int64List(value=[data['instrument'].numpy()])),\n",
    "                'instrument_str': tf.train.Feature(bytes_list=tf.train.BytesList(value=[data['instrument_str'].numpy()])),\n",
    "                'pitch': tf.train.Feature(int64_list=tf.train.Int64List(value=[data['pitch'].numpy()])),\n",
    "                'velocity': tf.train.Feature(int64_list=tf.train.Int64List(value=[data['velocity'].numpy()])),\n",
    "                'sample_rate': tf.train.Feature(int64_list=tf.train.Int64List(value=[data['sample_rate'].numpy()])),\n",
    "                'spectrogram': tf.train.Feature(float_list=tf.train.FloatList(value=spec)),\n",
    "                'instrument_family': tf.train.Feature(int64_list=tf.train.Int64List(value=[data['instrument_family'].numpy()])),\n",
    "                'instrument_family_str': tf.train.Feature(bytes_list=tf.train.BytesList(value=[data['instrument_family_str'].numpy()])),\n",
    "                'instrument_source': tf.train.Feature(int64_list=tf.train.Int64List(value=[data['instrument_source'].numpy()])),\n",
    "                'instrument_source_str': tf.train.Feature(bytes_list=tf.train.BytesList(value=[data['instrument_source_str'].numpy()]))\n",
    "            }))\n",
    "            \n",
    "            writer.write(example.SerializeToString())\n",
    "            \n",
    "print(\"\\nDone\")\n",
    "print(true_max)\n",
    "print(true_min)\n",
    "print(phase_max)\n",
    "print(phase_min)"
   ]
  },
  {
   "cell_type": "code",
   "execution_count": null,
   "metadata": {},
   "outputs": [],
   "source": []
  },
  {
   "cell_type": "code",
   "execution_count": null,
   "metadata": {},
   "outputs": [],
   "source": []
  }
 ],
 "metadata": {
  "kernelspec": {
   "display_name": "Python 3",
   "language": "python",
   "name": "python3"
  },
  "language_info": {
   "codemirror_mode": {
    "name": "ipython",
    "version": 3
   },
   "file_extension": ".py",
   "mimetype": "text/x-python",
   "name": "python",
   "nbconvert_exporter": "python",
   "pygments_lexer": "ipython3",
   "version": "3.6.5"
  }
 },
 "nbformat": 4,
 "nbformat_minor": 2
}
