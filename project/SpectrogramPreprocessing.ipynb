{
 "cells": [
  {
   "cell_type": "code",
   "execution_count": 1,
   "metadata": {},
   "outputs": [
    {
     "name": "stdout",
     "output_type": "stream",
     "text": [
      "Kernel is up\n"
     ]
    }
   ],
   "source": [
    "print(\"Kernel is up\")"
   ]
  },
  {
   "cell_type": "code",
   "execution_count": 2,
   "metadata": {},
   "outputs": [
    {
     "name": "stdout",
     "output_type": "stream",
     "text": [
      "Finished imports\n"
     ]
    }
   ],
   "source": [
    "from __future__ import absolute_import, division, print_function\n",
    "\n",
    "# Import TensorFlow >= 1.10 and enable eager execution\n",
    "import tensorflow as tf\n",
    "tf.enable_eager_execution()\n",
    "\n",
    "import librosa\n",
    "import os\n",
    "import time\n",
    "import numpy as np\n",
    "import glob\n",
    "import matplotlib.pyplot as plt\n",
    "import librosa\n",
    "#import simpleaudio as sa\n",
    "import math\n",
    "from IPython import display\n",
    "import sys\n",
    "\n",
    "print(\"Finished imports\")"
   ]
  },
  {
   "cell_type": "code",
   "execution_count": 3,
   "metadata": {
    "scrolled": true
   },
   "outputs": [
    {
     "name": "stdout",
     "output_type": "stream",
     "text": [
      "Skipped 57517                          \n",
      "Skipped 68476                          \n",
      "Skipped 71111                          \n",
      "Skipped 72871                          \n",
      "Skipped 73311                          \n",
      "Skipped 76391                          \n",
      "Skipped 76831                          \n",
      "Skipped 77711                          \n",
      "Skipped 78151                          \n",
      "Skipped 78591                          \n",
      "Skipped 79471                          \n",
      "Skipped 79911                          \n",
      "Skipped 80351                          \n",
      "Skipped 81231                          \n",
      "Skipped 81884                          \n",
      "Skipped 82412                          \n",
      "Skipped 82852                          \n",
      "Skipped 86593                          \n",
      "Skipped 89884                          \n",
      "Skipped 105724                         \n",
      "Skipped 124016                         \n",
      "Skipped 130264                         \n",
      "Skipped 58380 out of 58380\n",
      "Starting file 20\n",
      "Finished 2900 out of 2919\n",
      "Starting file 21\n",
      "Finished 2900 out of 2919\n",
      "Starting file 22\n",
      "Skipped 135143                         \n",
      "Skipped 140925                         \n",
      "Finished 2900 out of 2919\n",
      "Starting file 23\n",
      "Finished 2900 out of 2919\n",
      "Starting file 24\n",
      "Skipped 141764                         \n",
      "Skipped 142845                         \n",
      "Finished 2900 out of 2919\n",
      "Starting file 25\n",
      "Finished 2900 out of 2919\n",
      "Starting file 26\n",
      "Skipped 143728                         \n",
      "Skipped 144628                         \n",
      "Skipped 145723                         \n",
      "Skipped 154456                         \n",
      "Skipped 155201                         \n",
      "Skipped 162799                         \n",
      "Skipped 163169                         \n",
      "\n",
      "Starting file 27\n",
      "Skipped 163218                         \n",
      "Skipped 163588                         \n",
      "Skipped 164328                         \n",
      "Skipped 166178                         \n",
      "Skipped 184844                         \n",
      "Skipped 185820                         \n",
      "Skipped 187040                         \n",
      "Finished 2900 out of 2919\n",
      "Starting file 28\n",
      "Finished 2900 out of 2919\n",
      "Starting file 29\n",
      "Finished 2900 out of 2919\n",
      "Starting file 30\n",
      "Finished 2900 out of 2919\n",
      "Starting file 31\n",
      "Finished 2900 out of 2919\n",
      "Starting file 32\n",
      "Finished 2900 out of 2919\n",
      "Starting file 33\n",
      "Finished 2900 out of 2919\n",
      "Starting file 34\n",
      "Finished 2900 out of 2919\n",
      "\n",
      "Done\n"
     ]
    }
   ],
   "source": [
    "# Converting into spectrograms\n",
    "# Spectrograms are stored into spectrograms.tfrecord\n",
    "nsynth = iter(tf.data.TFRecordDataset(\"gs://jz-datasets/nsynth/train.tfrecord\"))\n",
    "\n",
    "def acousticOnly():\n",
    "    i = 0\n",
    "    just_skipped = False\n",
    "    while(True):\n",
    "        try: \n",
    "            data = next(nsynth)\n",
    "        except:\n",
    "            break\n",
    "        data = tf.parse_single_example(serialized=data, features=read_features)\n",
    "        if(data['instrument_source'].numpy()==0):\n",
    "            if(just_skipped):\n",
    "                print(\"Skipped {}\".format(i))\n",
    "            just_skipped = False\n",
    "            yield data\n",
    "        else:\n",
    "            if(not(just_skipped)):\n",
    "                print(\"                                       \", end='\\r')\n",
    "            i += 1\n",
    "            if(i % 500 == 0):\n",
    "                print(\"Skipped {}\".format(i), end=\"\\r\")\n",
    "            just_skipped = True\n",
    "\n",
    "record = acousticOnly()\n",
    "\n",
    "read_features = {\n",
    "    'note': tf.FixedLenFeature([], dtype=tf.int64),\n",
    "    'note_str': tf.FixedLenFeature([], dtype=tf.string),\n",
    "    'instrument': tf.FixedLenFeature([], dtype=tf.int64),\n",
    "    'instrument_str': tf.FixedLenFeature([], dtype=tf.string),\n",
    "    'pitch': tf.FixedLenFeature([], dtype=tf.int64),\n",
    "    'velocity': tf.FixedLenFeature([], dtype=tf.int64),\n",
    "    'sample_rate': tf.FixedLenFeature([], dtype=tf.int64),\n",
    "    'audio': tf.VarLenFeature(dtype=float),\n",
    "    'instrument_family': tf.FixedLenFeature([], dtype=tf.int64),\n",
    "    'instrument_family_str': tf.FixedLenFeature([], dtype=tf.string),\n",
    "    'instrument_source': tf.FixedLenFeature([], dtype=tf.int64),\n",
    "    'instrument_source_str': tf.FixedLenFeature([], dtype=tf.string)\n",
    "}\n",
    "\n",
    "# 2919 per epoch\n",
    "start_on_file = 20\n",
    "for i in range(2919*start_on_file):\n",
    "    if(i % 200 == 0):\n",
    "        print(\"Skipped {} out of {}\".format(i, 2919*start_on_file), end='\\r')\n",
    "    next(record)\n",
    "if(start_on_file != 0):\n",
    "    print(\"Skipped {} out of {}\".format(2919*start_on_file, 2919*start_on_file))\n",
    "    \n",
    "for i in range(35):\n",
    "    if(i < start_on_file):\n",
    "        continue\n",
    "    print(\"Starting file {}\".format(i))\n",
    "    with tf.python_io.TFRecordWriter('gs://jz-datasets/spec-files/spectrograms{}.tfrecord'.format(i)) as writer:\n",
    "        total = 0\n",
    "        for _ in range(2919):\n",
    "            total += 1\n",
    "            data = next(record)\n",
    "            audio = data['audio'].values.numpy()*15000\n",
    "            audio = np.array(audio)\n",
    "            spec = librosa.stft(audio, 254, 127)\n",
    "            magnitudes = np.log(np.abs(spec) + 1.2664166e-14).reshape(1, 128, 504)\n",
    "            phases = np.angle(spec).reshape(1, 128, 504)\n",
    "            magnitudes = 2*(magnitudes+32)/(16+32)-1\n",
    "            spec = np.concatenate([magnitudes, tf.cos(phases), tf.sin(phases)], 0).flatten().tolist()\n",
    "            example = tf.train.Example(features=tf.train.Features(feature={\n",
    "                'note': tf.train.Feature(int64_list=tf.train.Int64List(value=[data['note'].numpy()])),\n",
    "                'note_str': tf.train.Feature(bytes_list=tf.train.BytesList(value=[data['note_str'].numpy()])),\n",
    "                'instrument': tf.train.Feature(int64_list=tf.train.Int64List(value=[data['instrument'].numpy()])),\n",
    "                'instrument_str': tf.train.Feature(bytes_list=tf.train.BytesList(value=[data['instrument_str'].numpy()])),\n",
    "                'pitch': tf.train.Feature(int64_list=tf.train.Int64List(value=[data['pitch'].numpy()])),\n",
    "                'velocity': tf.train.Feature(int64_list=tf.train.Int64List(value=[data['velocity'].numpy()])),\n",
    "                'sample_rate': tf.train.Feature(int64_list=tf.train.Int64List(value=[data['sample_rate'].numpy()])),\n",
    "                'spectrogram': tf.train.Feature(float_list=tf.train.FloatList(value=spec)),\n",
    "                'instrument_family': tf.train.Feature(int64_list=tf.train.Int64List(value=[data['instrument_family'].numpy()])),\n",
    "                'instrument_family_str': tf.train.Feature(bytes_list=tf.train.BytesList(value=[data['instrument_family_str'].numpy()])),\n",
    "                'instrument_source': tf.train.Feature(int64_list=tf.train.Int64List(value=[data['instrument_source'].numpy()])),\n",
    "                'instrument_source_str': tf.train.Feature(bytes_list=tf.train.BytesList(value=[data['instrument_source_str'].numpy()]))\n",
    "            }))\n",
    "\n",
    "            writer.write(example.SerializeToString())\n",
    "            if(total % 20 == 0):\n",
    "                print(\"Finished {} out of {}\".format(total, 2919), end='\\r')\n",
    "        print()\n",
    "            \n",
    "print(\"\\nDone\")"
   ]
  },
  {
   "cell_type": "code",
   "execution_count": 16,
   "metadata": {},
   "outputs": [
    {
     "name": "stdout",
     "output_type": "stream",
     "text": [
      "rm: cannot remove '.lock': No such file or directory\r\n"
     ]
    }
   ],
   "source": [
    "!rm .lock"
   ]
  },
  {
   "cell_type": "code",
   "execution_count": null,
   "metadata": {},
   "outputs": [],
   "source": []
  }
 ],
 "metadata": {
  "kernelspec": {
   "display_name": "Python 3",
   "language": "python",
   "name": "python3"
  },
  "language_info": {
   "codemirror_mode": {
    "name": "ipython",
    "version": 3
   },
   "file_extension": ".py",
   "mimetype": "text/x-python",
   "name": "python",
   "nbconvert_exporter": "python",
   "pygments_lexer": "ipython3",
   "version": "3.5.3"
  }
 },
 "nbformat": 4,
 "nbformat_minor": 2
}
