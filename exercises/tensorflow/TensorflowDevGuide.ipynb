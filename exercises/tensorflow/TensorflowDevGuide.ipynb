{
 "cells": [
  {
   "cell_type": "code",
   "execution_count": 5,
   "metadata": {},
   "outputs": [
    {
     "name": "stdout",
     "output_type": "stream",
     "text": [
      "[master 99c23fd] Started following along with tensorflow guide\n",
      " 15 files changed, 120 insertions(+), 17 deletions(-)\n",
      " rename exercises/{tensorflow-test => tensorflow}/.ipynb_checkpoints/SmallCNNMNIST-checkpoint.ipynb (100%)\n",
      " rename exercises/{tensorflow-test => tensorflow}/.ipynb_checkpoints/SoftmaxRegressionMNIST-checkpoint.ipynb (100%)\n",
      " create mode 100644 exercises/tensorflow/.ipynb_checkpoints/TensorflowDevGuide-checkpoint.ipynb\n",
      " rename exercises/{tensorflow-test => tensorflow}/MNIST_data/t10k-images-idx3-ubyte.gz (100%)\n",
      " rename exercises/{tensorflow-test => tensorflow}/MNIST_data/t10k-labels-idx1-ubyte.gz (100%)\n",
      " rename exercises/{tensorflow-test => tensorflow}/MNIST_data/train-images-idx3-ubyte.gz (100%)\n",
      " rename exercises/{tensorflow-test => tensorflow}/MNIST_data/train-labels-idx1-ubyte.gz (100%)\n",
      " rename exercises/{tensorflow-test => tensorflow}/SmallCNNMNIST.ipynb (100%)\n",
      " rename exercises/{tensorflow-test => tensorflow}/SoftmaxRegressionMNIST.ipynb (100%)\n",
      " create mode 100644 exercises/tensorflow/TensorflowDevGuide.ipynb\n",
      " create mode 100644 project/audio/show.wav\n"
     ]
    },
    {
     "name": "stderr",
     "output_type": "stream",
     "text": [
      "remote: warning: GH001: Large files detected. You may want to try Git Large File Storage - https://git-lfs.github.com.        \n",
      "remote: warning: See http://git.io/iEPt8g for more information.        \n",
      "remote: warning: File project/audio/show.wav is 68.91 MB; this is larger than GitHub's recommended maximum file size of 50.00 MB        \n",
      "To https://github.com/asianzhang/machine-learning-tone-generation.git\n",
      "   6a99bb2..99c23fd  master -> master\n"
     ]
    }
   ],
   "source": [
    "%%bash \n",
    "cd /Users/asianzhang/Documents/GitHub/machine-learning-tone-generation\n",
    "git add .\n",
    "git commit --allow-empty-message -m \"Started following along with tensorflow guide\"\n",
    "git push"
   ]
  },
  {
   "cell_type": "markdown",
   "metadata": {},
   "source": [
    "This notebook is used to type and run all of the examples in the tensorflow developer's guide at https://www.tensorflow.org/guide/.  \n",
    "I'm starting at the low level APIs section because that will build a good foundation of tensorflow."
   ]
  },
  {
   "cell_type": "code",
   "execution_count": 1,
   "metadata": {},
   "outputs": [
    {
     "name": "stderr",
     "output_type": "stream",
     "text": [
      "/Users/asianzhang/anaconda3/lib/python3.6/site-packages/h5py/__init__.py:36: FutureWarning: Conversion of the second argument of issubdtype from `float` to `np.floating` is deprecated. In future, it will be treated as `np.float64 == np.dtype(float).type`.\n",
      "  from ._conv import register_converters as _register_converters\n"
     ]
    }
   ],
   "source": [
    "from __future__ import absolute_import\n",
    "from __future__ import division\n",
    "from __future__ import print_function\n",
    "\n",
    "import numpy as np\n",
    "import tensorflow as tf"
   ]
  },
  {
   "cell_type": "code",
   "execution_count": 2,
   "metadata": {},
   "outputs": [
    {
     "name": "stdout",
     "output_type": "stream",
     "text": [
      "Tensor(\"Const:0\", shape=(), dtype=float32)\n",
      "Tensor(\"Const_1:0\", shape=(), dtype=float32)\n",
      "Tensor(\"add:0\", shape=(), dtype=float32)\n"
     ]
    }
   ],
   "source": [
    "a = tf.constant(3.0, dtype=tf.float32)\n",
    "b = tf.constant(4.0)\n",
    "total = a + b\n",
    "print(a)\n",
    "print(b)\n",
    "print(total)"
   ]
  },
  {
   "cell_type": "code",
   "execution_count": 3,
   "metadata": {},
   "outputs": [
    {
     "name": "stdout",
     "output_type": "stream",
     "text": [
      "7.0\n"
     ]
    }
   ],
   "source": [
    "sess = tf.Session()\n",
    "print(sess.run(total))"
   ]
  },
  {
   "cell_type": "code",
   "execution_count": 4,
   "metadata": {},
   "outputs": [
    {
     "name": "stdout",
     "output_type": "stream",
     "text": [
      "{'ab': (3.0, 4.0), 'total': 7.0}\n"
     ]
    }
   ],
   "source": [
    "print(sess.run({'ab':(a,b), 'total':total}))"
   ]
  },
  {
   "cell_type": "code",
   "execution_count": 5,
   "metadata": {},
   "outputs": [
    {
     "name": "stdout",
     "output_type": "stream",
     "text": [
      "[0.5552715  0.82778287 0.16398191]\n",
      "[0.18297005 0.36957097 0.02147436]\n",
      "(array([1.9025633, 1.7681226, 1.6356463], dtype=float32), array([2.9025633, 2.7681227, 2.6356463], dtype=float32))\n"
     ]
    }
   ],
   "source": [
    "vec = tf.random_uniform(shape=(3,))\n",
    "out1 = vec + 1\n",
    "out2 = vec + 2\n",
    "print(sess.run(vec))\n",
    "print(sess.run(vec))\n",
    "print(sess.run((out1, out2)))"
   ]
  },
  {
   "cell_type": "code",
   "execution_count": 6,
   "metadata": {},
   "outputs": [],
   "source": [
    "x = tf.placeholder(tf.float32)\n",
    "y = tf.placeholder(tf.float32)\n",
    "z = x + y"
   ]
  },
  {
   "cell_type": "code",
   "execution_count": 7,
   "metadata": {},
   "outputs": [
    {
     "name": "stdout",
     "output_type": "stream",
     "text": [
      "7.5\n",
      "[3. 7.]\n"
     ]
    }
   ],
   "source": [
    "print(sess.run(z, feed_dict={x: 3, y: 4.5}))\n",
    "print(sess.run(z, feed_dict={x: [1, 3], y: [2, 4]}))"
   ]
  },
  {
   "cell_type": "code",
   "execution_count": 8,
   "metadata": {},
   "outputs": [
    {
     "name": "stdout",
     "output_type": "stream",
     "text": [
      "[0 1]\n",
      "[0 1]\n",
      "[2 3]\n",
      "[2 3]\n",
      "[4 5]\n",
      "[4 5]\n",
      "[6 7]\n",
      "[6 7]\n"
     ]
    }
   ],
   "source": [
    "my_data = [\n",
    "    [0, 1,],\n",
    "    [2, 3,],\n",
    "    [4, 5,],\n",
    "    [6, 7,],\n",
    "]\n",
    "slices = tf.data.Dataset.from_tensor_slices(my_data)\n",
    "next_item = slices.make_one_shot_iterator().get_next()\n",
    "next_next_item = slices.make_one_shot_iterator().get_next()\n",
    "\n",
    "while True:\n",
    "    try:\n",
    "        print(sess.run(next_item))\n",
    "        print(sess.run(next_next_item))\n",
    "    except tf.errors.OutOfRangeError:\n",
    "        break"
   ]
  },
  {
   "cell_type": "code",
   "execution_count": 9,
   "metadata": {},
   "outputs": [
    {
     "name": "stdout",
     "output_type": "stream",
     "text": [
      "[-0.2548724  -0.61710674  0.8742846 ]\n",
      "[ 0.4737459 -0.2835505  1.5249403]\n",
      "[0.4185999  0.77723724 1.0179555 ]\n",
      "[ 0.29605815  2.6402931  -0.52688533]\n",
      "[ 1.212969  -0.3798886 -0.2694044]\n",
      "[-0.11884152 -0.6604804   0.9200833 ]\n",
      "[-0.10874021 -0.03746685 -1.8622037 ]\n",
      "[ 0.38028434 -1.4052985   1.7909656 ]\n",
      "[ 0.61951166 -0.57201856 -1.0136366 ]\n",
      "[ 0.15401755 -0.97155756  1.5493947 ]\n"
     ]
    }
   ],
   "source": [
    "r = tf.random_normal([10,3])\n",
    "dataset = tf.data.Dataset.from_tensor_slices(r)\n",
    "iterator = dataset.make_initializable_iterator()\n",
    "next_row = iterator.get_next()\n",
    "\n",
    "sess.run(iterator.initializer)\n",
    "while True:\n",
    "    try:\n",
    "        print(sess.run(next_row))\n",
    "    except tf.errors.OutOfRangeError:\n",
    "        break"
   ]
  },
  {
   "cell_type": "code",
   "execution_count": 10,
   "metadata": {},
   "outputs": [],
   "source": [
    "x = tf.placeholder(tf.float32, shape=[None, 3])\n",
    "linear_model = tf.layers.Dense(units=1)\n",
    "y = linear_model(x)"
   ]
  },
  {
   "cell_type": "code",
   "execution_count": 11,
   "metadata": {},
   "outputs": [],
   "source": [
    "init = tf.global_variables_initializer()\n",
    "sess.run(init)"
   ]
  },
  {
   "cell_type": "code",
   "execution_count": 12,
   "metadata": {},
   "outputs": [
    {
     "name": "stdout",
     "output_type": "stream",
     "text": [
      "[[0.631511 ]\n",
      " [1.3439577]]\n"
     ]
    }
   ],
   "source": [
    "print(sess.run(y, {x: [[1, 2, 3], [4, 5, 6]]}))"
   ]
  },
  {
   "cell_type": "code",
   "execution_count": 15,
   "metadata": {},
   "outputs": [],
   "source": [
    "features = {\n",
    "    'sales': [[5], [10], [8], [9]],\n",
    "    'department': ['sports', 'sports', 'gardening', 'gardening']}\n",
    "\n",
    "department_column = tf.feature_column.categorical_column_with_vocabulary_list('department', ['sports', 'gardening'])\n",
    "department_column = tf.feature_column.indicator_column(department_column)\n",
    "\n",
    "columns = [\n",
    "    tf.feature_column.numeric_column('sales'),\n",
    "    department_column\n",
    "]\n",
    "\n",
    "inputs = tf.feature_column.input_layer(features, columns)"
   ]
  },
  {
   "cell_type": "code",
   "execution_count": 16,
   "metadata": {},
   "outputs": [
    {
     "name": "stdout",
     "output_type": "stream",
     "text": [
      "[[ 1.  0.  5.]\n",
      " [ 1.  0. 10.]\n",
      " [ 0.  1.  8.]\n",
      " [ 0.  1.  9.]]\n"
     ]
    }
   ],
   "source": [
    "var_init = tf.global_variables_initializer()\n",
    "table_init = tf.tables_initializer()\n",
    "sess.run((var_init, table_init))\n",
    "print(sess.run(inputs))"
   ]
  },
  {
   "cell_type": "code",
   "execution_count": 18,
   "metadata": {
    "scrolled": true
   },
   "outputs": [
    {
     "name": "stdout",
     "output_type": "stream",
     "text": [
      "14.008687\n",
      "9.820284\n",
      "6.9134436\n",
      "4.895854\n",
      "3.4953012\n",
      "2.5228996\n",
      "1.8475876\n",
      "1.378423\n",
      "1.0523031\n",
      "0.82544225\n",
      "0.6674588\n",
      "0.5572711\n",
      "0.48025143\n",
      "0.42624968\n",
      "0.3882228\n",
      "0.36128402\n",
      "0.34204233\n",
      "0.32814467\n",
      "0.31795847\n",
      "0.31035087\n",
      "0.3045355\n",
      "0.29996717\n",
      "0.29626727\n",
      "0.29317304\n",
      "0.2905023\n",
      "0.28812855\n",
      "0.2859639\n",
      "0.2839475\n",
      "0.28203708\n",
      "0.2802032\n",
      "0.2784254\n",
      "0.2766897\n",
      "0.27498603\n",
      "0.27330768\n",
      "0.27164996\n",
      "0.2700093\n",
      "0.26838347\n",
      "0.26677096\n",
      "0.26517048\n",
      "0.26358128\n",
      "0.2620027\n",
      "0.26043433\n",
      "0.258876\n",
      "0.25732732\n",
      "0.25578824\n",
      "0.25425848\n",
      "0.252738\n",
      "0.2512267\n",
      "0.24972454\n",
      "0.24823137\n",
      "0.24674714\n",
      "0.24527183\n",
      "0.24380535\n",
      "0.24234763\n",
      "0.2408987\n",
      "0.23945841\n",
      "0.23802666\n",
      "0.23660359\n",
      "0.23518893\n",
      "0.2337828\n",
      "0.23238505\n",
      "0.23099563\n",
      "0.22961453\n",
      "0.22824174\n",
      "0.22687711\n",
      "0.22552063\n",
      "0.22417228\n",
      "0.22283201\n",
      "0.22149971\n",
      "0.22017542\n",
      "0.21885903\n",
      "0.21755049\n",
      "0.21624978\n",
      "0.2149569\n",
      "0.21367167\n",
      "0.21239413\n",
      "0.2111243\n",
      "0.20986201\n",
      "0.20860733\n",
      "0.20736009\n",
      "0.20612031\n",
      "0.20488794\n",
      "0.20366295\n",
      "0.20244527\n",
      "0.20123486\n",
      "0.2000317\n",
      "0.19883578\n",
      "0.19764695\n",
      "0.19646527\n",
      "0.19529067\n",
      "0.19412301\n",
      "0.19296241\n",
      "0.19180869\n",
      "0.19066194\n",
      "0.189522\n",
      "0.18838882\n",
      "0.18726248\n",
      "0.18614289\n",
      "0.18502997\n",
      "0.18392369\n",
      "[[-0.69040847]\n",
      " [-1.3345501 ]\n",
      " [-1.9786918 ]\n",
      " [-2.6228335 ]]\n"
     ]
    }
   ],
   "source": [
    "x = tf.constant([[1], [2], [3], [4]], dtype=tf.float32)\n",
    "y_true = tf.constant([[0], [-1], [-2], [-3]], dtype=tf.float32)\n",
    "\n",
    "linear_model = tf.layers.Dense(units=1)\n",
    "\n",
    "y_pred = linear_model(x)\n",
    "loss = tf.losses.mean_squared_error(labels=y_true, predictions=y_pred)\n",
    "\n",
    "optimizer = tf.train.GradientDescentOptimizer(0.01)\n",
    "train = optimizer.minimize(loss)\n",
    "\n",
    "init = tf.global_variables_initializer()\n",
    "\n",
    "sess = tf.Session()\n",
    "sess.run(init)\n",
    "for i in range(100):\n",
    "    _, loss_value = sess.run((train, loss))\n",
    "    print(loss_value)\n",
    "    \n",
    "print(sess.run(y_pred))"
   ]
  },
  {
   "cell_type": "code",
   "execution_count": null,
   "metadata": {},
   "outputs": [],
   "source": []
  }
 ],
 "metadata": {
  "celltoolbar": "Raw Cell Format",
  "kernelspec": {
   "display_name": "Python 3",
   "language": "python",
   "name": "python3"
  },
  "language_info": {
   "codemirror_mode": {
    "name": "ipython",
    "version": 3
   },
   "file_extension": ".py",
   "mimetype": "text/x-python",
   "name": "python",
   "nbconvert_exporter": "python",
   "pygments_lexer": "ipython3",
   "version": "3.6.4"
  }
 },
 "nbformat": 4,
 "nbformat_minor": 2
}
