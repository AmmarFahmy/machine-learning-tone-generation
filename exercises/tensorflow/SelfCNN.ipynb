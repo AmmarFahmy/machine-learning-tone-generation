{
 "cells": [
  {
   "cell_type": "code",
   "execution_count": 2,
   "metadata": {},
   "outputs": [],
   "source": [
    "import tensorflow as tf\n",
    "from tensorflow.keras.models import Sequential\n",
    "from tensorflow.keras.layers import Dense, Conv2D, MaxPooling2D, Dropout, Flatten\n",
    "import tensorflow.keras.callbacks as callback\n",
    "print(\"Finished imports\")"
   ]
  },
  {
   "cell_type": "code",
   "execution_count": 3,
   "metadata": {},
   "outputs": [],
   "source": [
    "from tensorflow.keras.datasets import mnist\n",
    "(x_train, y_train), (x_test, y_test) = mnist.load_data()\n",
    "x_train = x_train.reshape(x_train.shape[0], 28, 28, 1).astype('float32')\n",
    "x_test = x_test.reshape(x_test.shape[0], 28, 28, 1).astype('float32')\n",
    "y_train = tf.keras.utils.to_categorical(y_train,  10)\n",
    "print(\"Imported MNIST dataset\")"
   ]
  },
  {
   "cell_type": "code",
   "execution_count": 42,
   "metadata": {},
   "outputs": [],
   "source": [
    "# Last most accurate network in Nielsen's NN&DL\n",
    "model2 = Sequential()\n",
    "model2.add(Conv2D(20, (5, 5), input_shape=(28, 28, 1), activation=\"relu\")) #Convolutional layer\n",
    "model2.add(MaxPooling2D((2, 2)))\n",
    "model2.add(Conv2D(40, (5, 5), activation=\"relu\"))\n",
    "model2.add(MaxPooling2D((2, 2)))\n",
    "model2.add(Flatten())\n",
    "# Dropout (.5) doesn't play nice here\n",
    "model2.add(Dense(1000, activation=\"relu\")) #Fully connnected layer\n",
    "model2.add(Dense(1000, activation=\"relu\"))\n",
    "model2.add(Dropout(0.5))\n",
    "model2.add(Dense(10, activation=\"softmax\"))\n",
    "\n",
    "model2.compile(optimizer=tf.keras.optimizers.SGD(0.03),\n",
    "               loss=\"mse\", \n",
    "               metrics=[\"accuracy\"])"
   ]
  },
  {
   "cell_type": "code",
   "execution_count": 43,
   "metadata": {
    "scrolled": false
   },
   "outputs": [
    {
     "name": "stdout",
     "output_type": "stream",
     "text": [
      "Train on 40000 samples, validate on 20000 samples\n",
      "Epoch 1/100\n",
      "40000/40000 [==============================] - 11s 265us/step - loss: 0.1667 - acc: 0.1627 - val_loss: 0.1363 - val_acc: 0.2938\n",
      "Epoch 2/100\n",
      "40000/40000 [==============================] - 10s 238us/step - loss: 0.0419 - acc: 0.7706 - val_loss: 0.0082 - val_acc: 0.9523\n",
      "Epoch 3/100\n",
      "40000/40000 [==============================] - 10s 239us/step - loss: 0.0096 - acc: 0.9446 - val_loss: 0.0056 - val_acc: 0.9673\n",
      "Epoch 4/100\n",
      "40000/40000 [==============================] - 9s 237us/step - loss: 0.0068 - acc: 0.9613 - val_loss: 0.0047 - val_acc: 0.9730\n",
      "Epoch 5/100\n",
      "40000/40000 [==============================] - 9s 236us/step - loss: 0.0056 - acc: 0.9674 - val_loss: 0.0041 - val_acc: 0.9763\n",
      "Epoch 6/100\n",
      "40000/40000 [==============================] - 10s 238us/step - loss: 0.0047 - acc: 0.9727 - val_loss: 0.0038 - val_acc: 0.9778\n",
      "Epoch 7/100\n",
      "40000/40000 [==============================] - 9s 237us/step - loss: 0.0040 - acc: 0.9766 - val_loss: 0.0036 - val_acc: 0.9794\n",
      "Epoch 8/100\n",
      "40000/40000 [==============================] - 10s 238us/step - loss: 0.0036 - acc: 0.9785 - val_loss: 0.0030 - val_acc: 0.9820\n",
      "Epoch 9/100\n",
      "40000/40000 [==============================] - 10s 239us/step - loss: 0.0031 - acc: 0.9816 - val_loss: 0.0028 - val_acc: 0.9829\n",
      "Epoch 10/100\n",
      "40000/40000 [==============================] - 9s 237us/step - loss: 0.0028 - acc: 0.9834 - val_loss: 0.0026 - val_acc: 0.9845\n",
      "Epoch 11/100\n",
      "40000/40000 [==============================] - 10s 242us/step - loss: 0.0025 - acc: 0.9853 - val_loss: 0.0027 - val_acc: 0.9833\n",
      "Epoch 12/100\n",
      "40000/40000 [==============================] - 10s 240us/step - loss: 0.0022 - acc: 0.9867 - val_loss: 0.0025 - val_acc: 0.9852\n",
      "Epoch 13/100\n",
      "40000/40000 [==============================] - 10s 240us/step - loss: 0.0022 - acc: 0.9866 - val_loss: 0.0025 - val_acc: 0.9845\n",
      "Epoch 14/100\n",
      "40000/40000 [==============================] - 10s 240us/step - loss: 0.0019 - acc: 0.9881 - val_loss: 0.0023 - val_acc: 0.9866\n",
      "Epoch 15/100\n",
      "40000/40000 [==============================] - 10s 239us/step - loss: 0.0016 - acc: 0.9903 - val_loss: 0.0021 - val_acc: 0.9875\n",
      "Epoch 16/100\n",
      "40000/40000 [==============================] - 10s 240us/step - loss: 0.0017 - acc: 0.9898 - val_loss: 0.0025 - val_acc: 0.9849\n",
      "Epoch 17/100\n",
      "40000/40000 [==============================] - 10s 239us/step - loss: 0.0016 - acc: 0.9904 - val_loss: 0.0023 - val_acc: 0.9862\n",
      "Epoch 18/100\n",
      "40000/40000 [==============================] - 10s 241us/step - loss: 0.0014 - acc: 0.9915 - val_loss: 0.0022 - val_acc: 0.9872\n",
      "Epoch 19/100\n",
      "40000/40000 [==============================] - 10s 240us/step - loss: 0.0014 - acc: 0.9916 - val_loss: 0.0022 - val_acc: 0.9870\n",
      "Epoch 20/100\n",
      "40000/40000 [==============================] - 10s 240us/step - loss: 0.0012 - acc: 0.9925 - val_loss: 0.0022 - val_acc: 0.9868\n",
      "Epoch 21/100\n",
      "40000/40000 [==============================] - 10s 239us/step - loss: 0.0013 - acc: 0.9923 - val_loss: 0.0022 - val_acc: 0.9869\n",
      "Epoch 22/100\n",
      "40000/40000 [==============================] - 10s 238us/step - loss: 0.0010 - acc: 0.9938 - val_loss: 0.0020 - val_acc: 0.9879\n",
      "Epoch 23/100\n",
      "40000/40000 [==============================] - 10s 241us/step - loss: 0.0010 - acc: 0.9938 - val_loss: 0.0021 - val_acc: 0.9878\n",
      "Epoch 24/100\n",
      "40000/40000 [==============================] - 10s 239us/step - loss: 9.5402e-04 - acc: 0.9945 - val_loss: 0.0021 - val_acc: 0.9873\n",
      "Epoch 25/100\n",
      "40000/40000 [==============================] - 10s 240us/step - loss: 8.9379e-04 - acc: 0.9947 - val_loss: 0.0020 - val_acc: 0.9881\n",
      "Epoch 26/100\n",
      "40000/40000 [==============================] - 10s 241us/step - loss: 9.0806e-04 - acc: 0.9947 - val_loss: 0.0020 - val_acc: 0.9882\n",
      "Epoch 27/100\n",
      "40000/40000 [==============================] - 10s 241us/step - loss: 8.5700e-04 - acc: 0.9949 - val_loss: 0.0021 - val_acc: 0.9875\n",
      "Epoch 28/100\n",
      "40000/40000 [==============================] - 10s 247us/step - loss: 8.1363e-04 - acc: 0.9951 - val_loss: 0.0021 - val_acc: 0.9877\n",
      "Epoch 29/100\n",
      "40000/40000 [==============================] - 10s 246us/step - loss: 7.6910e-04 - acc: 0.9954 - val_loss: 0.0020 - val_acc: 0.9885\n",
      "Epoch 30/100\n",
      "40000/40000 [==============================] - 10s 240us/step - loss: 7.8791e-04 - acc: 0.9953 - val_loss: 0.0020 - val_acc: 0.9883\n",
      "Epoch 31/100\n",
      "40000/40000 [==============================] - 10s 240us/step - loss: 6.7323e-04 - acc: 0.9959 - val_loss: 0.0019 - val_acc: 0.9889\n",
      "Epoch 32/100\n",
      "40000/40000 [==============================] - 10s 241us/step - loss: 6.8131e-04 - acc: 0.9960 - val_loss: 0.0018 - val_acc: 0.9889\n",
      "Epoch 33/100\n",
      "40000/40000 [==============================] - 10s 242us/step - loss: 6.5862e-04 - acc: 0.9960 - val_loss: 0.0020 - val_acc: 0.9882\n",
      "Epoch 34/100\n",
      "40000/40000 [==============================] - 10s 243us/step - loss: 6.9543e-04 - acc: 0.9959 - val_loss: 0.0020 - val_acc: 0.9882\n",
      "Epoch 35/100\n",
      "40000/40000 [==============================] - 10s 240us/step - loss: 6.2498e-04 - acc: 0.9964 - val_loss: 0.0020 - val_acc: 0.9883\n",
      "Epoch 36/100\n",
      "40000/40000 [==============================] - 10s 243us/step - loss: 5.7122e-04 - acc: 0.9966 - val_loss: 0.0018 - val_acc: 0.9891\n",
      "Epoch 37/100\n",
      "40000/40000 [==============================] - 10s 239us/step - loss: 5.6119e-04 - acc: 0.9967 - val_loss: 0.0019 - val_acc: 0.9886\n",
      "Epoch 38/100\n",
      "40000/40000 [==============================] - 10s 240us/step - loss: 5.2337e-04 - acc: 0.9969 - val_loss: 0.0019 - val_acc: 0.9889\n",
      "Epoch 39/100\n",
      "40000/40000 [==============================] - 10s 241us/step - loss: 5.3020e-04 - acc: 0.9968 - val_loss: 0.0019 - val_acc: 0.9886\n",
      "Epoch 40/100\n",
      "40000/40000 [==============================] - 10s 241us/step - loss: 5.3875e-04 - acc: 0.9967 - val_loss: 0.0019 - val_acc: 0.9891\n",
      "Epoch 41/100\n",
      "40000/40000 [==============================] - 10s 241us/step - loss: 4.9865e-04 - acc: 0.9970 - val_loss: 0.0019 - val_acc: 0.9887\n",
      "Epoch 42/100\n",
      "40000/40000 [==============================] - 10s 244us/step - loss: 4.9533e-04 - acc: 0.9971 - val_loss: 0.0019 - val_acc: 0.9895\n",
      "Epoch 43/100\n",
      "40000/40000 [==============================] - 10s 243us/step - loss: 4.8271e-04 - acc: 0.9970 - val_loss: 0.0018 - val_acc: 0.9890\n",
      "Epoch 44/100\n",
      "40000/40000 [==============================] - 10s 243us/step - loss: 4.4630e-04 - acc: 0.9975 - val_loss: 0.0018 - val_acc: 0.9895\n",
      "Epoch 45/100\n",
      "40000/40000 [==============================] - 10s 244us/step - loss: 4.3482e-04 - acc: 0.9974 - val_loss: 0.0018 - val_acc: 0.9890\n",
      "Epoch 46/100\n",
      "40000/40000 [==============================] - 10s 243us/step - loss: 3.9169e-04 - acc: 0.9978 - val_loss: 0.0018 - val_acc: 0.9894\n",
      "Epoch 47/100\n",
      "40000/40000 [==============================] - 10s 246us/step - loss: 3.8620e-04 - acc: 0.9977 - val_loss: 0.0019 - val_acc: 0.9892\n",
      "Epoch 48/100\n",
      "40000/40000 [==============================] - 10s 240us/step - loss: 3.8103e-04 - acc: 0.9978 - val_loss: 0.0018 - val_acc: 0.9893\n",
      "Epoch 49/100\n",
      "40000/40000 [==============================] - 10s 247us/step - loss: 3.7072e-04 - acc: 0.9978 - val_loss: 0.0018 - val_acc: 0.9896\n",
      "Epoch 50/100\n",
      "40000/40000 [==============================] - 10s 241us/step - loss: 3.8114e-04 - acc: 0.9977 - val_loss: 0.0018 - val_acc: 0.9893\n",
      "Epoch 51/100\n",
      "40000/40000 [==============================] - 10s 243us/step - loss: 3.3547e-04 - acc: 0.9982 - val_loss: 0.0018 - val_acc: 0.9896\n",
      "Epoch 52/100\n",
      "40000/40000 [==============================] - 10s 243us/step - loss: 3.7487e-04 - acc: 0.9978 - val_loss: 0.0018 - val_acc: 0.9900\n",
      "Epoch 53/100\n",
      "40000/40000 [==============================] - 10s 243us/step - loss: 3.1985e-04 - acc: 0.9981 - val_loss: 0.0018 - val_acc: 0.9891\n",
      "Epoch 54/100\n",
      "40000/40000 [==============================] - 10s 250us/step - loss: 3.3909e-04 - acc: 0.9981 - val_loss: 0.0018 - val_acc: 0.9897\n",
      "Epoch 55/100\n",
      "40000/40000 [==============================] - 10s 245us/step - loss: 3.1188e-04 - acc: 0.9983 - val_loss: 0.0017 - val_acc: 0.9897\n",
      "Epoch 56/100\n",
      "40000/40000 [==============================] - 10s 245us/step - loss: 2.9734e-04 - acc: 0.9983 - val_loss: 0.0018 - val_acc: 0.9894\n",
      "Epoch 57/100\n",
      "40000/40000 [==============================] - 10s 247us/step - loss: 3.0843e-04 - acc: 0.9981 - val_loss: 0.0020 - val_acc: 0.9883\n"
     ]
    },
    {
     "name": "stdout",
     "output_type": "stream",
     "text": [
      "Epoch 58/100\n",
      "40000/40000 [==============================] - 10s 241us/step - loss: 3.0917e-04 - acc: 0.9982 - val_loss: 0.0017 - val_acc: 0.9899\n",
      "Epoch 59/100\n",
      "40000/40000 [==============================] - 10s 239us/step - loss: 2.7738e-04 - acc: 0.9984 - val_loss: 0.0018 - val_acc: 0.9898\n",
      "Epoch 60/100\n",
      "40000/40000 [==============================] - 10s 240us/step - loss: 2.7550e-04 - acc: 0.9985 - val_loss: 0.0018 - val_acc: 0.9896\n",
      "Epoch 61/100\n",
      "40000/40000 [==============================] - 10s 240us/step - loss: 3.1785e-04 - acc: 0.9981 - val_loss: 0.0018 - val_acc: 0.9895\n",
      "Epoch 62/100\n",
      "40000/40000 [==============================] - 10s 241us/step - loss: 2.4629e-04 - acc: 0.9986 - val_loss: 0.0017 - val_acc: 0.9899\n",
      "Epoch 63/100\n",
      "40000/40000 [==============================] - 10s 241us/step - loss: 2.5827e-04 - acc: 0.9985 - val_loss: 0.0017 - val_acc: 0.9899\n",
      "Epoch 64/100\n",
      "40000/40000 [==============================] - 10s 242us/step - loss: 2.5626e-04 - acc: 0.9986 - val_loss: 0.0016 - val_acc: 0.9905\n",
      "Epoch 65/100\n",
      "40000/40000 [==============================] - 10s 242us/step - loss: 2.4572e-04 - acc: 0.9986 - val_loss: 0.0017 - val_acc: 0.9900\n",
      "Epoch 66/100\n",
      "40000/40000 [==============================] - 10s 240us/step - loss: 2.2430e-04 - acc: 0.9988 - val_loss: 0.0017 - val_acc: 0.9897\n",
      "Epoch 67/100\n",
      "40000/40000 [==============================] - 10s 242us/step - loss: 2.4862e-04 - acc: 0.9987 - val_loss: 0.0017 - val_acc: 0.9900\n",
      "Epoch 68/100\n",
      "40000/40000 [==============================] - 10s 243us/step - loss: 2.3613e-04 - acc: 0.9987 - val_loss: 0.0017 - val_acc: 0.9896\n",
      "Epoch 69/100\n",
      "40000/40000 [==============================] - 10s 243us/step - loss: 2.0060e-04 - acc: 0.9989 - val_loss: 0.0017 - val_acc: 0.9898\n",
      "Epoch 70/100\n",
      "40000/40000 [==============================] - 10s 242us/step - loss: 2.0228e-04 - acc: 0.9988 - val_loss: 0.0017 - val_acc: 0.9899\n",
      "Epoch 71/100\n",
      "40000/40000 [==============================] - 10s 243us/step - loss: 2.1243e-04 - acc: 0.9989 - val_loss: 0.0017 - val_acc: 0.9899\n",
      "Epoch 72/100\n",
      "40000/40000 [==============================] - 10s 251us/step - loss: 1.9803e-04 - acc: 0.9989 - val_loss: 0.0017 - val_acc: 0.9900\n",
      "Epoch 73/100\n",
      "40000/40000 [==============================] - 10s 243us/step - loss: 2.1582e-04 - acc: 0.9988 - val_loss: 0.0017 - val_acc: 0.9897\n",
      "Epoch 74/100\n",
      "40000/40000 [==============================] - 10s 242us/step - loss: 2.4892e-04 - acc: 0.9986 - val_loss: 0.0017 - val_acc: 0.9900\n",
      "Epoch 75/100\n",
      "40000/40000 [==============================] - 10s 243us/step - loss: 1.8993e-04 - acc: 0.9989 - val_loss: 0.0017 - val_acc: 0.9896\n",
      "Epoch 76/100\n",
      "40000/40000 [==============================] - 10s 244us/step - loss: 1.9804e-04 - acc: 0.9989 - val_loss: 0.0017 - val_acc: 0.9899\n",
      "Epoch 77/100\n",
      "40000/40000 [==============================] - 10s 243us/step - loss: 2.3323e-04 - acc: 0.9986 - val_loss: 0.0017 - val_acc: 0.9896\n",
      "Epoch 78/100\n",
      "40000/40000 [==============================] - 10s 243us/step - loss: 1.8788e-04 - acc: 0.9990 - val_loss: 0.0017 - val_acc: 0.9897\n",
      "Epoch 79/100\n",
      "40000/40000 [==============================] - 10s 247us/step - loss: 2.0598e-04 - acc: 0.9988 - val_loss: 0.0017 - val_acc: 0.9897\n",
      "Epoch 80/100\n",
      "40000/40000 [==============================] - 10s 238us/step - loss: 2.3619e-04 - acc: 0.9987 - val_loss: 0.0018 - val_acc: 0.9895\n",
      "Epoch 81/100\n",
      "40000/40000 [==============================] - 10s 239us/step - loss: 1.9305e-04 - acc: 0.9989 - val_loss: 0.0017 - val_acc: 0.9899\n",
      "Epoch 82/100\n",
      "40000/40000 [==============================] - 10s 242us/step - loss: 2.0995e-04 - acc: 0.9987 - val_loss: 0.0017 - val_acc: 0.9896\n",
      "Epoch 83/100\n",
      "40000/40000 [==============================] - 10s 242us/step - loss: 2.1331e-04 - acc: 0.9987 - val_loss: 0.0018 - val_acc: 0.9896\n",
      "Epoch 84/100\n",
      "40000/40000 [==============================] - 10s 242us/step - loss: 1.8598e-04 - acc: 0.9989 - val_loss: 0.0018 - val_acc: 0.9897\n",
      "Epoch 85/100\n",
      "40000/40000 [==============================] - 10s 243us/step - loss: 1.9865e-04 - acc: 0.9989 - val_loss: 0.0017 - val_acc: 0.9899\n",
      "Epoch 86/100\n",
      "40000/40000 [==============================] - 10s 244us/step - loss: 1.7200e-04 - acc: 0.9990 - val_loss: 0.0018 - val_acc: 0.9893\n",
      "Epoch 87/100\n",
      "40000/40000 [==============================] - 10s 244us/step - loss: 1.5970e-04 - acc: 0.9992 - val_loss: 0.0017 - val_acc: 0.9897\n",
      "Epoch 88/100\n",
      "40000/40000 [==============================] - 10s 247us/step - loss: 1.9270e-04 - acc: 0.9989 - val_loss: 0.0017 - val_acc: 0.9900\n",
      "Epoch 89/100\n",
      "40000/40000 [==============================] - 10s 245us/step - loss: 1.8277e-04 - acc: 0.9990 - val_loss: 0.0017 - val_acc: 0.9899\n",
      "Epoch 90/100\n",
      "40000/40000 [==============================] - 10s 245us/step - loss: 1.6817e-04 - acc: 0.9991 - val_loss: 0.0018 - val_acc: 0.9897\n",
      "Epoch 91/100\n",
      "40000/40000 [==============================] - 10s 243us/step - loss: 1.9067e-04 - acc: 0.9989 - val_loss: 0.0018 - val_acc: 0.9898\n",
      "Epoch 92/100\n",
      "40000/40000 [==============================] - 10s 245us/step - loss: 1.5311e-04 - acc: 0.9992 - val_loss: 0.0017 - val_acc: 0.9897\n",
      "Epoch 93/100\n",
      "40000/40000 [==============================] - 10s 245us/step - loss: 1.7590e-04 - acc: 0.9990 - val_loss: 0.0018 - val_acc: 0.9898\n",
      "Epoch 94/100\n",
      "40000/40000 [==============================] - 10s 246us/step - loss: 1.6136e-04 - acc: 0.9991 - val_loss: 0.0017 - val_acc: 0.9901\n",
      "Epoch 95/100\n",
      "40000/40000 [==============================] - 10s 250us/step - loss: 1.5419e-04 - acc: 0.9992 - val_loss: 0.0018 - val_acc: 0.9896\n",
      "Epoch 96/100\n",
      "40000/40000 [==============================] - 10s 244us/step - loss: 1.6548e-04 - acc: 0.9990 - val_loss: 0.0017 - val_acc: 0.9899\n",
      "Epoch 97/100\n",
      "40000/40000 [==============================] - 9s 236us/step - loss: 1.7270e-04 - acc: 0.9990 - val_loss: 0.0017 - val_acc: 0.9897\n",
      "Epoch 98/100\n",
      "40000/40000 [==============================] - 10s 245us/step - loss: 1.6240e-04 - acc: 0.9991 - val_loss: 0.0017 - val_acc: 0.9897\n",
      "Epoch 99/100\n",
      "40000/40000 [==============================] - 294s 7ms/step - loss: 1.6619e-04 - acc: 0.9991 - val_loss: 0.0018 - val_acc: 0.9899\n",
      "Epoch 100/100\n",
      "40000/40000 [==============================] - 10s 244us/step - loss: 1.8057e-04 - acc: 0.9990 - val_loss: 0.0018 - val_acc: 0.9896\n"
     ]
    },
    {
     "data": {
      "text/plain": [
       "<tensorflow.python.keras.callbacks.History at 0x1c7c2f3aeb8>"
      ]
     },
     "execution_count": 43,
     "metadata": {},
     "output_type": "execute_result"
    }
   ],
   "source": [
    "model2.fit(x_train, y_train, batch_size=32, epochs=100, validation_split=0.3333333)"
   ]
  },
  {
   "cell_type": "code",
   "execution_count": null,
   "metadata": {},
   "outputs": [],
   "source": [
    "# Run up to here"
   ]
  },
  {
   "cell_type": "code",
   "execution_count": null,
   "metadata": {},
   "outputs": [],
   "source": []
  },
  {
   "cell_type": "code",
   "execution_count": 6,
   "metadata": {},
   "outputs": [
    {
     "name": "stdout",
     "output_type": "stream",
     "text": [
      "Train on 49999 samples, validate on 10001 samples\n",
      "Epoch 1/100\n",
      "49999/49999 [==============================] - 5s 94us/step - loss: 0.0531 - acc: 0.7042 - val_loss: 0.0320 - val_acc: 0.8642\n",
      "Epoch 2/100\n",
      "49999/49999 [==============================] - 4s 82us/step - loss: 0.0288 - acc: 0.8689 - val_loss: 0.0232 - val_acc: 0.8937\n",
      "Epoch 3/100\n",
      "14848/49999 [=======>......................] - ETA: 2s - loss: 0.0244 - acc: 0.8844"
     ]
    },
    {
     "ename": "KeyboardInterrupt",
     "evalue": "",
     "output_type": "error",
     "traceback": [
      "\u001b[1;31m---------------------------------------------------------------------------\u001b[0m",
      "\u001b[1;31mKeyboardInterrupt\u001b[0m                         Traceback (most recent call last)",
      "\u001b[1;32m<ipython-input-6-58e1cf5bbb11>\u001b[0m in \u001b[0;36m<module>\u001b[1;34m()\u001b[0m\n\u001b[0;32m      5\u001b[0m \u001b[0mmodel_test\u001b[0m\u001b[1;33m.\u001b[0m\u001b[0mcompile\u001b[0m\u001b[1;33m(\u001b[0m\u001b[0moptimizer\u001b[0m\u001b[1;33m=\u001b[0m\u001b[0mtf\u001b[0m\u001b[1;33m.\u001b[0m\u001b[0mkeras\u001b[0m\u001b[1;33m.\u001b[0m\u001b[0moptimizers\u001b[0m\u001b[1;33m.\u001b[0m\u001b[0mSGD\u001b[0m\u001b[1;33m(\u001b[0m\u001b[1;36m0.1\u001b[0m\u001b[1;33m)\u001b[0m\u001b[1;33m,\u001b[0m \u001b[0mloss\u001b[0m\u001b[1;33m=\u001b[0m\u001b[1;34m\"mse\"\u001b[0m\u001b[1;33m,\u001b[0m\u001b[0mmetrics\u001b[0m\u001b[1;33m=\u001b[0m\u001b[1;33m[\u001b[0m\u001b[1;34m\"accuracy\"\u001b[0m\u001b[1;33m]\u001b[0m\u001b[1;33m)\u001b[0m\u001b[1;33m\u001b[0m\u001b[0m\n\u001b[0;32m      6\u001b[0m \u001b[1;33m\u001b[0m\u001b[0m\n\u001b[1;32m----> 7\u001b[1;33m \u001b[0mmodel_test\u001b[0m\u001b[1;33m.\u001b[0m\u001b[0mfit\u001b[0m\u001b[1;33m(\u001b[0m\u001b[0mx_train\u001b[0m\u001b[1;33m,\u001b[0m \u001b[0my_train\u001b[0m\u001b[1;33m,\u001b[0m \u001b[0mbatch_size\u001b[0m\u001b[1;33m=\u001b[0m\u001b[1;36m32\u001b[0m\u001b[1;33m,\u001b[0m \u001b[0mepochs\u001b[0m\u001b[1;33m=\u001b[0m\u001b[1;36m100\u001b[0m\u001b[1;33m,\u001b[0m \u001b[0mvalidation_split\u001b[0m\u001b[1;33m=\u001b[0m\u001b[1;36m0.1666667\u001b[0m\u001b[1;33m)\u001b[0m\u001b[1;33m\u001b[0m\u001b[0m\n\u001b[0m",
      "\u001b[1;32m~\\Anaconda3\\lib\\site-packages\\tensorflow\\python\\keras\\engine\\training.py\u001b[0m in \u001b[0;36mfit\u001b[1;34m(self, x, y, batch_size, epochs, verbose, callbacks, validation_split, validation_data, shuffle, class_weight, sample_weight, initial_epoch, steps_per_epoch, validation_steps, **kwargs)\u001b[0m\n\u001b[0;32m   1361\u001b[0m           \u001b[0minitial_epoch\u001b[0m\u001b[1;33m=\u001b[0m\u001b[0minitial_epoch\u001b[0m\u001b[1;33m,\u001b[0m\u001b[1;33m\u001b[0m\u001b[0m\n\u001b[0;32m   1362\u001b[0m           \u001b[0msteps_per_epoch\u001b[0m\u001b[1;33m=\u001b[0m\u001b[0msteps_per_epoch\u001b[0m\u001b[1;33m,\u001b[0m\u001b[1;33m\u001b[0m\u001b[0m\n\u001b[1;32m-> 1363\u001b[1;33m           validation_steps=validation_steps)\n\u001b[0m\u001b[0;32m   1364\u001b[0m \u001b[1;33m\u001b[0m\u001b[0m\n\u001b[0;32m   1365\u001b[0m   def evaluate(self,\n",
      "\u001b[1;32m~\\Anaconda3\\lib\\site-packages\\tensorflow\\python\\keras\\engine\\training_arrays.py\u001b[0m in \u001b[0;36mfit_loop\u001b[1;34m(model, inputs, targets, sample_weights, batch_size, epochs, verbose, callbacks, val_inputs, val_targets, val_sample_weights, shuffle, callback_metrics, initial_epoch, steps_per_epoch, validation_steps)\u001b[0m\n\u001b[0;32m    262\u001b[0m           \u001b[0mins_batch\u001b[0m\u001b[1;33m[\u001b[0m\u001b[0mi\u001b[0m\u001b[1;33m]\u001b[0m \u001b[1;33m=\u001b[0m \u001b[0mins_batch\u001b[0m\u001b[1;33m[\u001b[0m\u001b[0mi\u001b[0m\u001b[1;33m]\u001b[0m\u001b[1;33m.\u001b[0m\u001b[0mtoarray\u001b[0m\u001b[1;33m(\u001b[0m\u001b[1;33m)\u001b[0m\u001b[1;33m\u001b[0m\u001b[0m\n\u001b[0;32m    263\u001b[0m \u001b[1;33m\u001b[0m\u001b[0m\n\u001b[1;32m--> 264\u001b[1;33m         \u001b[0mouts\u001b[0m \u001b[1;33m=\u001b[0m \u001b[0mf\u001b[0m\u001b[1;33m(\u001b[0m\u001b[0mins_batch\u001b[0m\u001b[1;33m)\u001b[0m\u001b[1;33m\u001b[0m\u001b[0m\n\u001b[0m\u001b[0;32m    265\u001b[0m         \u001b[1;32mif\u001b[0m \u001b[1;32mnot\u001b[0m \u001b[0misinstance\u001b[0m\u001b[1;33m(\u001b[0m\u001b[0mouts\u001b[0m\u001b[1;33m,\u001b[0m \u001b[0mlist\u001b[0m\u001b[1;33m)\u001b[0m\u001b[1;33m:\u001b[0m\u001b[1;33m\u001b[0m\u001b[0m\n\u001b[0;32m    266\u001b[0m           \u001b[0mouts\u001b[0m \u001b[1;33m=\u001b[0m \u001b[1;33m[\u001b[0m\u001b[0mouts\u001b[0m\u001b[1;33m]\u001b[0m\u001b[1;33m\u001b[0m\u001b[0m\n",
      "\u001b[1;32m~\\Anaconda3\\lib\\site-packages\\tensorflow\\python\\keras\\backend.py\u001b[0m in \u001b[0;36m__call__\u001b[1;34m(self, inputs)\u001b[0m\n\u001b[0;32m   2912\u001b[0m       \u001b[0mself\u001b[0m\u001b[1;33m.\u001b[0m\u001b[0m_make_callable\u001b[0m\u001b[1;33m(\u001b[0m\u001b[0mfeed_arrays\u001b[0m\u001b[1;33m,\u001b[0m \u001b[0mfeed_symbols\u001b[0m\u001b[1;33m,\u001b[0m \u001b[0msymbol_vals\u001b[0m\u001b[1;33m,\u001b[0m \u001b[0msession\u001b[0m\u001b[1;33m)\u001b[0m\u001b[1;33m\u001b[0m\u001b[0m\n\u001b[0;32m   2913\u001b[0m \u001b[1;33m\u001b[0m\u001b[0m\n\u001b[1;32m-> 2914\u001b[1;33m     \u001b[0mfetched\u001b[0m \u001b[1;33m=\u001b[0m \u001b[0mself\u001b[0m\u001b[1;33m.\u001b[0m\u001b[0m_callable_fn\u001b[0m\u001b[1;33m(\u001b[0m\u001b[1;33m*\u001b[0m\u001b[0marray_vals\u001b[0m\u001b[1;33m)\u001b[0m\u001b[1;33m\u001b[0m\u001b[0m\n\u001b[0m\u001b[0;32m   2915\u001b[0m     \u001b[0mself\u001b[0m\u001b[1;33m.\u001b[0m\u001b[0m_call_fetch_callbacks\u001b[0m\u001b[1;33m(\u001b[0m\u001b[0mfetched\u001b[0m\u001b[1;33m[\u001b[0m\u001b[1;33m-\u001b[0m\u001b[0mlen\u001b[0m\u001b[1;33m(\u001b[0m\u001b[0mself\u001b[0m\u001b[1;33m.\u001b[0m\u001b[0m_fetches\u001b[0m\u001b[1;33m)\u001b[0m\u001b[1;33m:\u001b[0m\u001b[1;33m]\u001b[0m\u001b[1;33m)\u001b[0m\u001b[1;33m\u001b[0m\u001b[0m\n\u001b[0;32m   2916\u001b[0m     \u001b[1;32mreturn\u001b[0m \u001b[0mfetched\u001b[0m\u001b[1;33m[\u001b[0m\u001b[1;33m:\u001b[0m\u001b[0mlen\u001b[0m\u001b[1;33m(\u001b[0m\u001b[0mself\u001b[0m\u001b[1;33m.\u001b[0m\u001b[0moutputs\u001b[0m\u001b[1;33m)\u001b[0m\u001b[1;33m]\u001b[0m\u001b[1;33m\u001b[0m\u001b[0m\n",
      "\u001b[1;32m~\\Anaconda3\\lib\\site-packages\\tensorflow\\python\\client\\session.py\u001b[0m in \u001b[0;36m__call__\u001b[1;34m(self, *args, **kwargs)\u001b[0m\n\u001b[0;32m   1380\u001b[0m           ret = tf_session.TF_SessionRunCallable(\n\u001b[0;32m   1381\u001b[0m               \u001b[0mself\u001b[0m\u001b[1;33m.\u001b[0m\u001b[0m_session\u001b[0m\u001b[1;33m.\u001b[0m\u001b[0m_session\u001b[0m\u001b[1;33m,\u001b[0m \u001b[0mself\u001b[0m\u001b[1;33m.\u001b[0m\u001b[0m_handle\u001b[0m\u001b[1;33m,\u001b[0m \u001b[0margs\u001b[0m\u001b[1;33m,\u001b[0m \u001b[0mstatus\u001b[0m\u001b[1;33m,\u001b[0m\u001b[1;33m\u001b[0m\u001b[0m\n\u001b[1;32m-> 1382\u001b[1;33m               run_metadata_ptr)\n\u001b[0m\u001b[0;32m   1383\u001b[0m         \u001b[1;32mif\u001b[0m \u001b[0mrun_metadata\u001b[0m\u001b[1;33m:\u001b[0m\u001b[1;33m\u001b[0m\u001b[0m\n\u001b[0;32m   1384\u001b[0m           \u001b[0mproto_data\u001b[0m \u001b[1;33m=\u001b[0m \u001b[0mtf_session\u001b[0m\u001b[1;33m.\u001b[0m\u001b[0mTF_GetBuffer\u001b[0m\u001b[1;33m(\u001b[0m\u001b[0mrun_metadata_ptr\u001b[0m\u001b[1;33m)\u001b[0m\u001b[1;33m\u001b[0m\u001b[0m\n",
      "\u001b[1;31mKeyboardInterrupt\u001b[0m: "
     ]
    }
   ],
   "source": [
    "model_test = Sequential()\n",
    "model_test.add(Flatten(input_shape=(28,28,1)))\n",
    "model_test.add(Dense(100, activation=\"sigmoid\"))\n",
    "model_test.add(Dense(10, activation=\"sigmoid\"))\n",
    "model_test.compile(optimizer=tf.keras.optimizers.SGD(0.1), loss=\"mse\",metrics=[\"accuracy\"])\n",
    "\n",
    "model_test.fit(x_train, y_train, batch_size=32, epochs=100, validation_split=0.1666667)"
   ]
  },
  {
   "cell_type": "code",
   "execution_count": 9,
   "metadata": {},
   "outputs": [],
   "source": [
    "model1 = Sequential()\n",
    "model1.add(Conv2D(20, (5, 5), input_shape=(28, 28, 1), activation=\"relu\"))\n",
    "model1.add(MaxPooling2D((2, 2)))\n",
    "model1.add(Flatten())\n",
    "model1.add(Dense(100, activation=\"relu\"))\n",
    "model1.add(Dense(10, activation=\"softmax\"))"
   ]
  },
  {
   "cell_type": "code",
   "execution_count": 10,
   "metadata": {},
   "outputs": [],
   "source": [
    "model1.compile(optimizer='sgd',\n",
    "              loss='categorical_crossentropy',\n",
    "              metrics=['accuracy'])"
   ]
  },
  {
   "cell_type": "code",
   "execution_count": 11,
   "metadata": {},
   "outputs": [
    {
     "name": "stdout",
     "output_type": "stream",
     "text": [
      "Epoch 1/1\n",
      "18208/60000 [========>.....................] - ETA: 36s - loss: 14.5654 - acc: 0.0962"
     ]
    },
    {
     "ename": "KeyboardInterrupt",
     "evalue": "",
     "output_type": "error",
     "traceback": [
      "\u001b[1;31m---------------------------------------------------------------------------\u001b[0m",
      "\u001b[1;31mKeyboardInterrupt\u001b[0m                         Traceback (most recent call last)",
      "\u001b[1;32m<ipython-input-11-e5364d3f76af>\u001b[0m in \u001b[0;36m<module>\u001b[1;34m()\u001b[0m\n\u001b[1;32m----> 1\u001b[1;33m \u001b[0mmodel1\u001b[0m\u001b[1;33m.\u001b[0m\u001b[0mfit\u001b[0m\u001b[1;33m(\u001b[0m\u001b[0mx_train\u001b[0m\u001b[1;33m,\u001b[0m \u001b[0my_train\u001b[0m\u001b[1;33m)\u001b[0m\u001b[1;33m\u001b[0m\u001b[0m\n\u001b[0m",
      "\u001b[1;32m~\\AppData\\Local\\Continuum\\anaconda3\\lib\\site-packages\\tensorflow\\python\\keras\\engine\\training.py\u001b[0m in \u001b[0;36mfit\u001b[1;34m(self, x, y, batch_size, epochs, verbose, callbacks, validation_split, validation_data, shuffle, class_weight, sample_weight, initial_epoch, steps_per_epoch, validation_steps, **kwargs)\u001b[0m\n\u001b[0;32m   1361\u001b[0m           \u001b[0minitial_epoch\u001b[0m\u001b[1;33m=\u001b[0m\u001b[0minitial_epoch\u001b[0m\u001b[1;33m,\u001b[0m\u001b[1;33m\u001b[0m\u001b[0m\n\u001b[0;32m   1362\u001b[0m           \u001b[0msteps_per_epoch\u001b[0m\u001b[1;33m=\u001b[0m\u001b[0msteps_per_epoch\u001b[0m\u001b[1;33m,\u001b[0m\u001b[1;33m\u001b[0m\u001b[0m\n\u001b[1;32m-> 1363\u001b[1;33m           validation_steps=validation_steps)\n\u001b[0m\u001b[0;32m   1364\u001b[0m \u001b[1;33m\u001b[0m\u001b[0m\n\u001b[0;32m   1365\u001b[0m   def evaluate(self,\n",
      "\u001b[1;32m~\\AppData\\Local\\Continuum\\anaconda3\\lib\\site-packages\\tensorflow\\python\\keras\\engine\\training_arrays.py\u001b[0m in \u001b[0;36mfit_loop\u001b[1;34m(model, inputs, targets, sample_weights, batch_size, epochs, verbose, callbacks, val_inputs, val_targets, val_sample_weights, shuffle, callback_metrics, initial_epoch, steps_per_epoch, validation_steps)\u001b[0m\n\u001b[0;32m    262\u001b[0m           \u001b[0mins_batch\u001b[0m\u001b[1;33m[\u001b[0m\u001b[0mi\u001b[0m\u001b[1;33m]\u001b[0m \u001b[1;33m=\u001b[0m \u001b[0mins_batch\u001b[0m\u001b[1;33m[\u001b[0m\u001b[0mi\u001b[0m\u001b[1;33m]\u001b[0m\u001b[1;33m.\u001b[0m\u001b[0mtoarray\u001b[0m\u001b[1;33m(\u001b[0m\u001b[1;33m)\u001b[0m\u001b[1;33m\u001b[0m\u001b[0m\n\u001b[0;32m    263\u001b[0m \u001b[1;33m\u001b[0m\u001b[0m\n\u001b[1;32m--> 264\u001b[1;33m         \u001b[0mouts\u001b[0m \u001b[1;33m=\u001b[0m \u001b[0mf\u001b[0m\u001b[1;33m(\u001b[0m\u001b[0mins_batch\u001b[0m\u001b[1;33m)\u001b[0m\u001b[1;33m\u001b[0m\u001b[0m\n\u001b[0m\u001b[0;32m    265\u001b[0m         \u001b[1;32mif\u001b[0m \u001b[1;32mnot\u001b[0m \u001b[0misinstance\u001b[0m\u001b[1;33m(\u001b[0m\u001b[0mouts\u001b[0m\u001b[1;33m,\u001b[0m \u001b[0mlist\u001b[0m\u001b[1;33m)\u001b[0m\u001b[1;33m:\u001b[0m\u001b[1;33m\u001b[0m\u001b[0m\n\u001b[0;32m    266\u001b[0m           \u001b[0mouts\u001b[0m \u001b[1;33m=\u001b[0m \u001b[1;33m[\u001b[0m\u001b[0mouts\u001b[0m\u001b[1;33m]\u001b[0m\u001b[1;33m\u001b[0m\u001b[0m\n",
      "\u001b[1;32m~\\AppData\\Local\\Continuum\\anaconda3\\lib\\site-packages\\tensorflow\\python\\keras\\backend.py\u001b[0m in \u001b[0;36m__call__\u001b[1;34m(self, inputs)\u001b[0m\n\u001b[0;32m   2912\u001b[0m       \u001b[0mself\u001b[0m\u001b[1;33m.\u001b[0m\u001b[0m_make_callable\u001b[0m\u001b[1;33m(\u001b[0m\u001b[0mfeed_arrays\u001b[0m\u001b[1;33m,\u001b[0m \u001b[0mfeed_symbols\u001b[0m\u001b[1;33m,\u001b[0m \u001b[0msymbol_vals\u001b[0m\u001b[1;33m,\u001b[0m \u001b[0msession\u001b[0m\u001b[1;33m)\u001b[0m\u001b[1;33m\u001b[0m\u001b[0m\n\u001b[0;32m   2913\u001b[0m \u001b[1;33m\u001b[0m\u001b[0m\n\u001b[1;32m-> 2914\u001b[1;33m     \u001b[0mfetched\u001b[0m \u001b[1;33m=\u001b[0m \u001b[0mself\u001b[0m\u001b[1;33m.\u001b[0m\u001b[0m_callable_fn\u001b[0m\u001b[1;33m(\u001b[0m\u001b[1;33m*\u001b[0m\u001b[0marray_vals\u001b[0m\u001b[1;33m)\u001b[0m\u001b[1;33m\u001b[0m\u001b[0m\n\u001b[0m\u001b[0;32m   2915\u001b[0m     \u001b[0mself\u001b[0m\u001b[1;33m.\u001b[0m\u001b[0m_call_fetch_callbacks\u001b[0m\u001b[1;33m(\u001b[0m\u001b[0mfetched\u001b[0m\u001b[1;33m[\u001b[0m\u001b[1;33m-\u001b[0m\u001b[0mlen\u001b[0m\u001b[1;33m(\u001b[0m\u001b[0mself\u001b[0m\u001b[1;33m.\u001b[0m\u001b[0m_fetches\u001b[0m\u001b[1;33m)\u001b[0m\u001b[1;33m:\u001b[0m\u001b[1;33m]\u001b[0m\u001b[1;33m)\u001b[0m\u001b[1;33m\u001b[0m\u001b[0m\n\u001b[0;32m   2916\u001b[0m     \u001b[1;32mreturn\u001b[0m \u001b[0mfetched\u001b[0m\u001b[1;33m[\u001b[0m\u001b[1;33m:\u001b[0m\u001b[0mlen\u001b[0m\u001b[1;33m(\u001b[0m\u001b[0mself\u001b[0m\u001b[1;33m.\u001b[0m\u001b[0moutputs\u001b[0m\u001b[1;33m)\u001b[0m\u001b[1;33m]\u001b[0m\u001b[1;33m\u001b[0m\u001b[0m\n",
      "\u001b[1;32m~\\AppData\\Local\\Continuum\\anaconda3\\lib\\site-packages\\tensorflow\\python\\client\\session.py\u001b[0m in \u001b[0;36m__call__\u001b[1;34m(self, *args, **kwargs)\u001b[0m\n\u001b[0;32m   1380\u001b[0m           ret = tf_session.TF_SessionRunCallable(\n\u001b[0;32m   1381\u001b[0m               \u001b[0mself\u001b[0m\u001b[1;33m.\u001b[0m\u001b[0m_session\u001b[0m\u001b[1;33m.\u001b[0m\u001b[0m_session\u001b[0m\u001b[1;33m,\u001b[0m \u001b[0mself\u001b[0m\u001b[1;33m.\u001b[0m\u001b[0m_handle\u001b[0m\u001b[1;33m,\u001b[0m \u001b[0margs\u001b[0m\u001b[1;33m,\u001b[0m \u001b[0mstatus\u001b[0m\u001b[1;33m,\u001b[0m\u001b[1;33m\u001b[0m\u001b[0m\n\u001b[1;32m-> 1382\u001b[1;33m               run_metadata_ptr)\n\u001b[0m\u001b[0;32m   1383\u001b[0m         \u001b[1;32mif\u001b[0m \u001b[0mrun_metadata\u001b[0m\u001b[1;33m:\u001b[0m\u001b[1;33m\u001b[0m\u001b[0m\n\u001b[0;32m   1384\u001b[0m           \u001b[0mproto_data\u001b[0m \u001b[1;33m=\u001b[0m \u001b[0mtf_session\u001b[0m\u001b[1;33m.\u001b[0m\u001b[0mTF_GetBuffer\u001b[0m\u001b[1;33m(\u001b[0m\u001b[0mrun_metadata_ptr\u001b[0m\u001b[1;33m)\u001b[0m\u001b[1;33m\u001b[0m\u001b[0m\n",
      "\u001b[1;31mKeyboardInterrupt\u001b[0m: "
     ]
    }
   ],
   "source": [
    "model1.fit(x_train, y_train)"
   ]
  }
 ],
 "metadata": {
  "kernelspec": {
   "display_name": "Python 3",
   "language": "python",
   "name": "python3"
  }
 },
 "nbformat": 4,
 "nbformat_minor": 2
}
