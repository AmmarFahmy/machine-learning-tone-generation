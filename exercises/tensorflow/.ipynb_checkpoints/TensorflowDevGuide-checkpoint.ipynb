{
 "cells": [
  {
   "cell_type": "code",
   "execution_count": 5,
   "metadata": {},
   "outputs": [
    {
     "name": "stdout",
     "output_type": "stream",
     "text": [
      "[master 99c23fd] Started following along with tensorflow guide\n",
      " 15 files changed, 120 insertions(+), 17 deletions(-)\n",
      " rename exercises/{tensorflow-test => tensorflow}/.ipynb_checkpoints/SmallCNNMNIST-checkpoint.ipynb (100%)\n",
      " rename exercises/{tensorflow-test => tensorflow}/.ipynb_checkpoints/SoftmaxRegressionMNIST-checkpoint.ipynb (100%)\n",
      " create mode 100644 exercises/tensorflow/.ipynb_checkpoints/TensorflowDevGuide-checkpoint.ipynb\n",
      " rename exercises/{tensorflow-test => tensorflow}/MNIST_data/t10k-images-idx3-ubyte.gz (100%)\n",
      " rename exercises/{tensorflow-test => tensorflow}/MNIST_data/t10k-labels-idx1-ubyte.gz (100%)\n",
      " rename exercises/{tensorflow-test => tensorflow}/MNIST_data/train-images-idx3-ubyte.gz (100%)\n",
      " rename exercises/{tensorflow-test => tensorflow}/MNIST_data/train-labels-idx1-ubyte.gz (100%)\n",
      " rename exercises/{tensorflow-test => tensorflow}/SmallCNNMNIST.ipynb (100%)\n",
      " rename exercises/{tensorflow-test => tensorflow}/SoftmaxRegressionMNIST.ipynb (100%)\n",
      " create mode 100644 exercises/tensorflow/TensorflowDevGuide.ipynb\n",
      " create mode 100644 project/audio/show.wav\n"
     ]
    },
    {
     "name": "stderr",
     "output_type": "stream",
     "text": [
      "remote: warning: GH001: Large files detected. You may want to try Git Large File Storage - https://git-lfs.github.com.        \n",
      "remote: warning: See http://git.io/iEPt8g for more information.        \n",
      "remote: warning: File project/audio/show.wav is 68.91 MB; this is larger than GitHub's recommended maximum file size of 50.00 MB        \n",
      "To https://github.com/asianzhang/machine-learning-tone-generation.git\n",
      "   6a99bb2..99c23fd  master -> master\n"
     ]
    }
   ],
   "source": [
    "%%bash \n",
    "cd /Users/asianzhang/Documents/GitHub/machine-learning-tone-generation\n",
    "git add .\n",
    "git commit --allow-empty-message -m \"Started following along with tensorflow guide\"\n",
    "git push"
   ]
  },
  {
   "cell_type": "markdown",
   "metadata": {},
   "source": [
    "This notebook is used to type and run all of the examples in the tensorflow developer's guide at https://www.tensorflow.org/guide/.  \n",
    "I'm starting at the low level APIs section because that will probably be the most relevant for me; the high level APIs and estimators don't seem to do much for image processing, which is my field of interest."
   ]
  },
  {
   "cell_type": "code",
   "execution_count": 3,
   "metadata": {},
   "outputs": [],
   "source": [
    "from __future__ import absolute_import\n",
    "from __future__ import division\n",
    "from __future__ import print_function\n",
    "\n",
    "import numpy as np\n",
    "import tensorflow as tf"
   ]
  },
  {
   "cell_type": "code",
   "execution_count": 4,
   "metadata": {},
   "outputs": [
    {
     "name": "stdout",
     "output_type": "stream",
     "text": [
      "Tensor(\"Const_1:0\", shape=(), dtype=float32)\n",
      "Tensor(\"Const_2:0\", shape=(), dtype=float32)\n",
      "Tensor(\"add:0\", shape=(), dtype=float32)\n"
     ]
    }
   ],
   "source": [
    "a = tf.constant(3.0, dtype=tf.float32)\n",
    "b = tf.constant(4.0)\n",
    "total = a + b\n",
    "print(a)\n",
    "print(b)\n",
    "print(total)"
   ]
  },
  {
   "cell_type": "code",
   "execution_count": 6,
   "metadata": {},
   "outputs": [
    {
     "name": "stdout",
     "output_type": "stream",
     "text": [
      "7.0\n"
     ]
    }
   ],
   "source": [
    "sess = tf.Session()\n",
    "print(sess.run(total))"
   ]
  },
  {
   "cell_type": "code",
   "execution_count": 7,
   "metadata": {},
   "outputs": [
    {
     "name": "stdout",
     "output_type": "stream",
     "text": [
      "{'ab': (3.0, 4.0), 'total': 7.0}\n"
     ]
    }
   ],
   "source": [
    "print(sess.run({'ab':(a,b), 'total':total}))"
   ]
  },
  {
   "cell_type": "code",
   "execution_count": 8,
   "metadata": {},
   "outputs": [
    {
     "name": "stdout",
     "output_type": "stream",
     "text": [
      "[0.4227512  0.04053485 0.10596085]\n",
      "[0.36000407 0.8822608  0.1342994 ]\n",
      "(array([1.3743476, 1.8896215, 1.1139835], dtype=float32), array([2.3743477, 2.8896215, 2.1139836], dtype=float32))\n"
     ]
    }
   ],
   "source": [
    "vec = tf.random_uniform(shape=(3,))\n",
    "out1 = vec + 1\n",
    "out2 = vec + 2\n",
    "print(sess.run(vec))\n",
    "print(sess.run(vec))\n",
    "print(sess.run((out1, out2)))"
   ]
  },
  {
   "cell_type": "code",
   "execution_count": 9,
   "metadata": {},
   "outputs": [],
   "source": [
    "x = tf.placeholder(tf.float32)\n",
    "y = tf.placeholder(tf.float32)\n",
    "z = x + y"
   ]
  },
  {
   "cell_type": "code",
   "execution_count": 11,
   "metadata": {},
   "outputs": [
    {
     "name": "stdout",
     "output_type": "stream",
     "text": [
      "7.5\n",
      "[3. 7.]\n"
     ]
    }
   ],
   "source": [
    "print(sess.run(z, feed_dict={x: 3, y: 4.5}))\n",
    "print(sess.run(z, feed_dict={x: [1, 3], y: [2, 4]}))"
   ]
  },
  {
   "cell_type": "code",
   "execution_count": 13,
   "metadata": {},
   "outputs": [
    {
     "name": "stdout",
     "output_type": "stream",
     "text": [
      "[0 1]\n",
      "[0 1]\n",
      "[2 3]\n",
      "[2 3]\n",
      "[4 5]\n",
      "[4 5]\n",
      "[6 7]\n",
      "[6 7]\n"
     ]
    }
   ],
   "source": [
    "my_data = [\n",
    "    [0, 1,],\n",
    "    [2, 3,],\n",
    "    [4, 5,],\n",
    "    [6, 7,],\n",
    "]\n",
    "slices = tf.data.Dataset.from_tensor_slices(my_data)\n",
    "next_item = slices.make_one_shot_iterator().get_next()\n",
    "next_next_item = slices.make_one_shot_iterator().get_next()\n",
    "\n",
    "while True:\n",
    "    try:\n",
    "        print(sess.run(next_item))\n",
    "        print(sess.run(next_next_item))\n",
    "    except tf.errors.OutOfRangeError:\n",
    "        break"
   ]
  },
  {
   "cell_type": "code",
   "execution_count": 17,
   "metadata": {},
   "outputs": [
    {
     "name": "stdout",
     "output_type": "stream",
     "text": [
      "[ 0.8221897  -0.23356858 -0.00246939]\n",
      "[-0.13752514 -1.0150077   1.1155748 ]\n",
      "[-1.9750805  -0.61747044  0.25403613]\n",
      "[-0.88067925  0.25107008  0.02415132]\n",
      "[1.4704952 0.7707047 1.3496497]\n",
      "[-1.1689754  1.4887172  2.0645533]\n",
      "[ 0.11406931 -0.57492566  0.07244178]\n",
      "[ 1.8460151  1.0882388 -0.5200822]\n",
      "[-0.21350257  0.38461953 -0.46717983]\n",
      "[-1.3670226   0.45282018 -0.8818024 ]\n"
     ]
    }
   ],
   "source": [
    "r = tf.random_normal([10,3])\n",
    "dataset = tf.data.Dataset.from_tensor_slices(r)\n",
    "iterator = dataset.make_initializable_iterator()\n",
    "next_row = iterator.get_next()\n",
    "\n",
    "sess.run(iterator.initializer)\n",
    "while True:\n",
    "    try:\n",
    "        print(sess.run(next_row))\n",
    "    except tf.errors.OutOfRangeError:\n",
    "        break"
   ]
  },
  {
   "cell_type": "code",
   "execution_count": 18,
   "metadata": {},
   "outputs": [],
   "source": [
    "x = tf.placeholder(tf.float32, shape=[None, 3])\n",
    "linear_model = tf.layers.Dense(units=1)\n",
    "y = linear_model(x)"
   ]
  },
  {
   "cell_type": "code",
   "execution_count": 28,
   "metadata": {},
   "outputs": [],
   "source": [
    "init = tf.global_variables_initializer()\n",
    "sess.run(init)"
   ]
  },
  {
   "cell_type": "code",
   "execution_count": 33,
   "metadata": {},
   "outputs": [
    {
     "name": "stdout",
     "output_type": "stream",
     "text": [
      "[[-0.8547937]\n",
      " [-2.4214673]]\n"
     ]
    }
   ],
   "source": [
    "print(sess.run(y, {x: [[1, 2, 3], [4, 5, 6]]}))"
   ]
  },
  {
   "cell_type": "code",
   "execution_count": null,
   "metadata": {},
   "outputs": [],
   "source": [
    "feature = {\n",
    "    'sales': [[5], [10], [8], [9]],\n",
    "    'department': ['sports', 'sports', 'gardening', 'gardening']}\n",
    "\n",
    "department_column = tf.feature_column.categorical_column_with_vocabulary_list('department', ['sports', 'gardening'])\n",
    "department"
   ]
  }
 ],
 "metadata": {
  "celltoolbar": "Raw Cell Format",
  "kernelspec": {
   "display_name": "Python 3",
   "language": "python",
   "name": "python3"
  },
  "language_info": {
   "codemirror_mode": {
    "name": "ipython",
    "version": 3
   },
   "file_extension": ".py",
   "mimetype": "text/x-python",
   "name": "python",
   "nbconvert_exporter": "python",
   "pygments_lexer": "ipython3",
   "version": "3.6.4"
  }
 },
 "nbformat": 4,
 "nbformat_minor": 2
}
